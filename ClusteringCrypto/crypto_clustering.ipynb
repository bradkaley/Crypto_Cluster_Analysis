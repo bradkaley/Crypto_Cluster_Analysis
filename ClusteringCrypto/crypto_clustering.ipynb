{
 "cells": [
  {
   "cell_type": "markdown",
   "metadata": {},
   "source": [
    "# Clustering Crypto"
   ]
  },
  {
   "cell_type": "code",
   "execution_count": 43,
   "metadata": {},
   "outputs": [
    {
     "ename": "ModuleNotFoundError",
     "evalue": "No module named 'hvplot.pandas'",
     "output_type": "error",
     "traceback": [
      "\u001b[1;31m---------------------------------------------------------------------------\u001b[0m",
      "\u001b[1;31mModuleNotFoundError\u001b[0m                       Traceback (most recent call last)",
      "\u001b[1;32m~\\AppData\\Local\\Temp/ipykernel_1968/3772516972.py\u001b[0m in \u001b[0;36m<module>\u001b[1;34m\u001b[0m\n\u001b[0;32m      3\u001b[0m \u001b[1;32mimport\u001b[0m \u001b[0mpandas\u001b[0m \u001b[1;32mas\u001b[0m \u001b[0mpd\u001b[0m\u001b[1;33m\u001b[0m\u001b[1;33m\u001b[0m\u001b[0m\n\u001b[0;32m      4\u001b[0m \u001b[1;32mimport\u001b[0m \u001b[0mmatplotlib\u001b[0m\u001b[1;33m.\u001b[0m\u001b[0mpyplot\u001b[0m \u001b[1;32mas\u001b[0m \u001b[0mplt\u001b[0m\u001b[1;33m\u001b[0m\u001b[1;33m\u001b[0m\u001b[0m\n\u001b[1;32m----> 5\u001b[1;33m \u001b[1;32mimport\u001b[0m \u001b[0mhvplot\u001b[0m\u001b[1;33m.\u001b[0m\u001b[0mpandas\u001b[0m\u001b[1;33m\u001b[0m\u001b[1;33m\u001b[0m\u001b[0m\n\u001b[0m\u001b[0;32m      6\u001b[0m \u001b[1;32mimport\u001b[0m \u001b[0mplotly\u001b[0m\u001b[1;33m.\u001b[0m\u001b[0mexpress\u001b[0m \u001b[1;32mas\u001b[0m \u001b[0mpx\u001b[0m\u001b[1;33m\u001b[0m\u001b[1;33m\u001b[0m\u001b[0m\n\u001b[0;32m      7\u001b[0m \u001b[1;32mfrom\u001b[0m \u001b[0msklearn\u001b[0m\u001b[1;33m.\u001b[0m\u001b[0mpreprocessing\u001b[0m \u001b[1;32mimport\u001b[0m \u001b[0mStandardScaler\u001b[0m\u001b[1;33m,\u001b[0m \u001b[0mMinMaxScaler\u001b[0m\u001b[1;33m\u001b[0m\u001b[1;33m\u001b[0m\u001b[0m\n",
      "\u001b[1;31mModuleNotFoundError\u001b[0m: No module named 'hvplot.pandas'"
     ]
    }
   ],
   "source": [
    "# Initial imports\n",
    "import requests\n",
    "import pandas as pd\n",
    "import matplotlib.pyplot as plt\n",
    "import hvplot.pandas\n",
    "import plotly.express as px\n",
    "from sklearn.preprocessing import StandardScaler, MinMaxScaler\n",
    "from sklearn.decomposition import PCA\n",
    "from sklearn.cluster import KMeans\n",
    "from pathlib import Path"
   ]
  },
  {
   "cell_type": "markdown",
   "metadata": {},
   "source": [
    "### Read in Cryptocurrency Data"
   ]
  },
  {
   "cell_type": "code",
   "execution_count": 2,
   "metadata": {},
   "outputs": [
    {
     "data": {
      "text/html": [
       "<div>\n",
       "<style scoped>\n",
       "    .dataframe tbody tr th:only-of-type {\n",
       "        vertical-align: middle;\n",
       "    }\n",
       "\n",
       "    .dataframe tbody tr th {\n",
       "        vertical-align: top;\n",
       "    }\n",
       "\n",
       "    .dataframe thead th {\n",
       "        text-align: right;\n",
       "    }\n",
       "</style>\n",
       "<table border=\"1\" class=\"dataframe\">\n",
       "  <thead>\n",
       "    <tr style=\"text-align: right;\">\n",
       "      <th></th>\n",
       "      <th>CoinName</th>\n",
       "      <th>Algorithm</th>\n",
       "      <th>IsTrading</th>\n",
       "      <th>ProofType</th>\n",
       "      <th>TotalCoinsMined</th>\n",
       "      <th>TotalCoinSupply</th>\n",
       "    </tr>\n",
       "  </thead>\n",
       "  <tbody>\n",
       "    <tr>\n",
       "      <th>42</th>\n",
       "      <td>42 Coin</td>\n",
       "      <td>Scrypt</td>\n",
       "      <td>True</td>\n",
       "      <td>PoW/PoS</td>\n",
       "      <td>4.199995e+01</td>\n",
       "      <td>42</td>\n",
       "    </tr>\n",
       "    <tr>\n",
       "      <th>365</th>\n",
       "      <td>365Coin</td>\n",
       "      <td>X11</td>\n",
       "      <td>True</td>\n",
       "      <td>PoW/PoS</td>\n",
       "      <td>NaN</td>\n",
       "      <td>2300000000</td>\n",
       "    </tr>\n",
       "    <tr>\n",
       "      <th>404</th>\n",
       "      <td>404Coin</td>\n",
       "      <td>Scrypt</td>\n",
       "      <td>True</td>\n",
       "      <td>PoW/PoS</td>\n",
       "      <td>1.055185e+09</td>\n",
       "      <td>532000000</td>\n",
       "    </tr>\n",
       "    <tr>\n",
       "      <th>611</th>\n",
       "      <td>SixEleven</td>\n",
       "      <td>SHA-256</td>\n",
       "      <td>True</td>\n",
       "      <td>PoW</td>\n",
       "      <td>NaN</td>\n",
       "      <td>611000</td>\n",
       "    </tr>\n",
       "    <tr>\n",
       "      <th>808</th>\n",
       "      <td>808</td>\n",
       "      <td>SHA-256</td>\n",
       "      <td>True</td>\n",
       "      <td>PoW/PoS</td>\n",
       "      <td>0.000000e+00</td>\n",
       "      <td>0</td>\n",
       "    </tr>\n",
       "    <tr>\n",
       "      <th>...</th>\n",
       "      <td>...</td>\n",
       "      <td>...</td>\n",
       "      <td>...</td>\n",
       "      <td>...</td>\n",
       "      <td>...</td>\n",
       "      <td>...</td>\n",
       "    </tr>\n",
       "    <tr>\n",
       "      <th>XBC</th>\n",
       "      <td>BitcoinPlus</td>\n",
       "      <td>Scrypt</td>\n",
       "      <td>True</td>\n",
       "      <td>PoS</td>\n",
       "      <td>1.283270e+05</td>\n",
       "      <td>1000000</td>\n",
       "    </tr>\n",
       "    <tr>\n",
       "      <th>DVTC</th>\n",
       "      <td>DivotyCoin</td>\n",
       "      <td>Scrypt</td>\n",
       "      <td>False</td>\n",
       "      <td>PoW/PoS</td>\n",
       "      <td>2.149121e+07</td>\n",
       "      <td>100000000</td>\n",
       "    </tr>\n",
       "    <tr>\n",
       "      <th>GIOT</th>\n",
       "      <td>Giotto Coin</td>\n",
       "      <td>Scrypt</td>\n",
       "      <td>False</td>\n",
       "      <td>PoW/PoS</td>\n",
       "      <td>NaN</td>\n",
       "      <td>233100000</td>\n",
       "    </tr>\n",
       "    <tr>\n",
       "      <th>OPSC</th>\n",
       "      <td>OpenSourceCoin</td>\n",
       "      <td>SHA-256</td>\n",
       "      <td>False</td>\n",
       "      <td>PoW/PoS</td>\n",
       "      <td>NaN</td>\n",
       "      <td>21000000</td>\n",
       "    </tr>\n",
       "    <tr>\n",
       "      <th>PUNK</th>\n",
       "      <td>SteamPunk</td>\n",
       "      <td>PoS</td>\n",
       "      <td>False</td>\n",
       "      <td>PoS</td>\n",
       "      <td>NaN</td>\n",
       "      <td>40000000</td>\n",
       "    </tr>\n",
       "  </tbody>\n",
       "</table>\n",
       "<p>1252 rows × 6 columns</p>\n",
       "</div>"
      ],
      "text/plain": [
       "            CoinName Algorithm  IsTrading ProofType  TotalCoinsMined  \\\n",
       "42           42 Coin    Scrypt       True   PoW/PoS     4.199995e+01   \n",
       "365          365Coin       X11       True   PoW/PoS              NaN   \n",
       "404          404Coin    Scrypt       True   PoW/PoS     1.055185e+09   \n",
       "611        SixEleven   SHA-256       True       PoW              NaN   \n",
       "808              808   SHA-256       True   PoW/PoS     0.000000e+00   \n",
       "...              ...       ...        ...       ...              ...   \n",
       "XBC      BitcoinPlus    Scrypt       True       PoS     1.283270e+05   \n",
       "DVTC      DivotyCoin    Scrypt      False   PoW/PoS     2.149121e+07   \n",
       "GIOT     Giotto Coin    Scrypt      False   PoW/PoS              NaN   \n",
       "OPSC  OpenSourceCoin   SHA-256      False   PoW/PoS              NaN   \n",
       "PUNK       SteamPunk       PoS      False       PoS              NaN   \n",
       "\n",
       "     TotalCoinSupply  \n",
       "42                42  \n",
       "365       2300000000  \n",
       "404        532000000  \n",
       "611           611000  \n",
       "808                0  \n",
       "...              ...  \n",
       "XBC          1000000  \n",
       "DVTC       100000000  \n",
       "GIOT       233100000  \n",
       "OPSC        21000000  \n",
       "PUNK        40000000  \n",
       "\n",
       "[1252 rows x 6 columns]"
      ]
     },
     "execution_count": 2,
     "metadata": {},
     "output_type": "execute_result"
    }
   ],
   "source": [
    "# Read in crypto data for all coins into a DataFrame\n",
    "# csv data generated from the the CryptoCompare URL API (https://min-api.cryptocompare.com/data/all/coinlist)\n",
    "data_path = Path(\"crypto_data.csv\")\n",
    "crypto_df = pd.read_csv(data_path, index_col=\"Unnamed: 0\")\n",
    "crypto_df"
   ]
  },
  {
   "cell_type": "markdown",
   "metadata": {},
   "source": [
    "### Data Preprocessing"
   ]
  },
  {
   "cell_type": "code",
   "execution_count": 3,
   "metadata": {},
   "outputs": [],
   "source": [
    "# Keep only necessary columns which are already present in the csv file:\n",
    "# 'CoinName','Algorithm','IsTrading','ProofType','TotalCoinsMined','TotalCoinSupply'"
   ]
  },
  {
   "cell_type": "code",
   "execution_count": 4,
   "metadata": {},
   "outputs": [
    {
     "data": {
      "text/html": [
       "<div>\n",
       "<style scoped>\n",
       "    .dataframe tbody tr th:only-of-type {\n",
       "        vertical-align: middle;\n",
       "    }\n",
       "\n",
       "    .dataframe tbody tr th {\n",
       "        vertical-align: top;\n",
       "    }\n",
       "\n",
       "    .dataframe thead th {\n",
       "        text-align: right;\n",
       "    }\n",
       "</style>\n",
       "<table border=\"1\" class=\"dataframe\">\n",
       "  <thead>\n",
       "    <tr style=\"text-align: right;\">\n",
       "      <th></th>\n",
       "      <th>CoinName</th>\n",
       "      <th>Algorithm</th>\n",
       "      <th>IsTrading</th>\n",
       "      <th>ProofType</th>\n",
       "      <th>TotalCoinsMined</th>\n",
       "      <th>TotalCoinSupply</th>\n",
       "    </tr>\n",
       "  </thead>\n",
       "  <tbody>\n",
       "    <tr>\n",
       "      <th>42</th>\n",
       "      <td>42 Coin</td>\n",
       "      <td>Scrypt</td>\n",
       "      <td>True</td>\n",
       "      <td>PoW/PoS</td>\n",
       "      <td>4.199995e+01</td>\n",
       "      <td>42</td>\n",
       "    </tr>\n",
       "    <tr>\n",
       "      <th>365</th>\n",
       "      <td>365Coin</td>\n",
       "      <td>X11</td>\n",
       "      <td>True</td>\n",
       "      <td>PoW/PoS</td>\n",
       "      <td>NaN</td>\n",
       "      <td>2300000000</td>\n",
       "    </tr>\n",
       "    <tr>\n",
       "      <th>404</th>\n",
       "      <td>404Coin</td>\n",
       "      <td>Scrypt</td>\n",
       "      <td>True</td>\n",
       "      <td>PoW/PoS</td>\n",
       "      <td>1.055185e+09</td>\n",
       "      <td>532000000</td>\n",
       "    </tr>\n",
       "    <tr>\n",
       "      <th>611</th>\n",
       "      <td>SixEleven</td>\n",
       "      <td>SHA-256</td>\n",
       "      <td>True</td>\n",
       "      <td>PoW</td>\n",
       "      <td>NaN</td>\n",
       "      <td>611000</td>\n",
       "    </tr>\n",
       "    <tr>\n",
       "      <th>808</th>\n",
       "      <td>808</td>\n",
       "      <td>SHA-256</td>\n",
       "      <td>True</td>\n",
       "      <td>PoW/PoS</td>\n",
       "      <td>0.000000e+00</td>\n",
       "      <td>0</td>\n",
       "    </tr>\n",
       "    <tr>\n",
       "      <th>...</th>\n",
       "      <td>...</td>\n",
       "      <td>...</td>\n",
       "      <td>...</td>\n",
       "      <td>...</td>\n",
       "      <td>...</td>\n",
       "      <td>...</td>\n",
       "    </tr>\n",
       "    <tr>\n",
       "      <th>SERO</th>\n",
       "      <td>Super Zero</td>\n",
       "      <td>Ethash</td>\n",
       "      <td>True</td>\n",
       "      <td>PoW</td>\n",
       "      <td>NaN</td>\n",
       "      <td>1000000000</td>\n",
       "    </tr>\n",
       "    <tr>\n",
       "      <th>UOS</th>\n",
       "      <td>UOS</td>\n",
       "      <td>SHA-256</td>\n",
       "      <td>True</td>\n",
       "      <td>DPoI</td>\n",
       "      <td>NaN</td>\n",
       "      <td>1000000000</td>\n",
       "    </tr>\n",
       "    <tr>\n",
       "      <th>BDX</th>\n",
       "      <td>Beldex</td>\n",
       "      <td>CryptoNight</td>\n",
       "      <td>True</td>\n",
       "      <td>PoW</td>\n",
       "      <td>9.802226e+08</td>\n",
       "      <td>1400222610</td>\n",
       "    </tr>\n",
       "    <tr>\n",
       "      <th>ZEN</th>\n",
       "      <td>Horizen</td>\n",
       "      <td>Equihash</td>\n",
       "      <td>True</td>\n",
       "      <td>PoW</td>\n",
       "      <td>7.296538e+06</td>\n",
       "      <td>21000000</td>\n",
       "    </tr>\n",
       "    <tr>\n",
       "      <th>XBC</th>\n",
       "      <td>BitcoinPlus</td>\n",
       "      <td>Scrypt</td>\n",
       "      <td>True</td>\n",
       "      <td>PoS</td>\n",
       "      <td>1.283270e+05</td>\n",
       "      <td>1000000</td>\n",
       "    </tr>\n",
       "  </tbody>\n",
       "</table>\n",
       "<p>1144 rows × 6 columns</p>\n",
       "</div>"
      ],
      "text/plain": [
       "         CoinName    Algorithm  IsTrading ProofType  TotalCoinsMined  \\\n",
       "42        42 Coin       Scrypt       True   PoW/PoS     4.199995e+01   \n",
       "365       365Coin          X11       True   PoW/PoS              NaN   \n",
       "404       404Coin       Scrypt       True   PoW/PoS     1.055185e+09   \n",
       "611     SixEleven      SHA-256       True       PoW              NaN   \n",
       "808           808      SHA-256       True   PoW/PoS     0.000000e+00   \n",
       "...           ...          ...        ...       ...              ...   \n",
       "SERO   Super Zero       Ethash       True       PoW              NaN   \n",
       "UOS           UOS      SHA-256       True      DPoI              NaN   \n",
       "BDX        Beldex  CryptoNight       True       PoW     9.802226e+08   \n",
       "ZEN       Horizen     Equihash       True       PoW     7.296538e+06   \n",
       "XBC   BitcoinPlus       Scrypt       True       PoS     1.283270e+05   \n",
       "\n",
       "     TotalCoinSupply  \n",
       "42                42  \n",
       "365       2300000000  \n",
       "404        532000000  \n",
       "611           611000  \n",
       "808                0  \n",
       "...              ...  \n",
       "SERO      1000000000  \n",
       "UOS       1000000000  \n",
       "BDX       1400222610  \n",
       "ZEN         21000000  \n",
       "XBC          1000000  \n",
       "\n",
       "[1144 rows x 6 columns]"
      ]
     },
     "execution_count": 4,
     "metadata": {},
     "output_type": "execute_result"
    }
   ],
   "source": [
    "# Keep only cryptocurrencies that are trading\n",
    "crypto_df = crypto_df[crypto_df[\"IsTrading\"] != False]\n",
    "crypto_df"
   ]
  },
  {
   "cell_type": "code",
   "execution_count": 5,
   "metadata": {},
   "outputs": [
    {
     "data": {
      "text/html": [
       "<div>\n",
       "<style scoped>\n",
       "    .dataframe tbody tr th:only-of-type {\n",
       "        vertical-align: middle;\n",
       "    }\n",
       "\n",
       "    .dataframe tbody tr th {\n",
       "        vertical-align: top;\n",
       "    }\n",
       "\n",
       "    .dataframe thead th {\n",
       "        text-align: right;\n",
       "    }\n",
       "</style>\n",
       "<table border=\"1\" class=\"dataframe\">\n",
       "  <thead>\n",
       "    <tr style=\"text-align: right;\">\n",
       "      <th></th>\n",
       "      <th>CoinName</th>\n",
       "      <th>Algorithm</th>\n",
       "      <th>IsTrading</th>\n",
       "      <th>ProofType</th>\n",
       "      <th>TotalCoinsMined</th>\n",
       "      <th>TotalCoinSupply</th>\n",
       "    </tr>\n",
       "  </thead>\n",
       "  <tbody>\n",
       "    <tr>\n",
       "      <th>42</th>\n",
       "      <td>42 Coin</td>\n",
       "      <td>Scrypt</td>\n",
       "      <td>True</td>\n",
       "      <td>PoW/PoS</td>\n",
       "      <td>4.199995e+01</td>\n",
       "      <td>42</td>\n",
       "    </tr>\n",
       "    <tr>\n",
       "      <th>365</th>\n",
       "      <td>365Coin</td>\n",
       "      <td>X11</td>\n",
       "      <td>True</td>\n",
       "      <td>PoW/PoS</td>\n",
       "      <td>NaN</td>\n",
       "      <td>2300000000</td>\n",
       "    </tr>\n",
       "    <tr>\n",
       "      <th>404</th>\n",
       "      <td>404Coin</td>\n",
       "      <td>Scrypt</td>\n",
       "      <td>True</td>\n",
       "      <td>PoW/PoS</td>\n",
       "      <td>1.055185e+09</td>\n",
       "      <td>532000000</td>\n",
       "    </tr>\n",
       "    <tr>\n",
       "      <th>611</th>\n",
       "      <td>SixEleven</td>\n",
       "      <td>SHA-256</td>\n",
       "      <td>True</td>\n",
       "      <td>PoW</td>\n",
       "      <td>NaN</td>\n",
       "      <td>611000</td>\n",
       "    </tr>\n",
       "    <tr>\n",
       "      <th>808</th>\n",
       "      <td>808</td>\n",
       "      <td>SHA-256</td>\n",
       "      <td>True</td>\n",
       "      <td>PoW/PoS</td>\n",
       "      <td>0.000000e+00</td>\n",
       "      <td>0</td>\n",
       "    </tr>\n",
       "    <tr>\n",
       "      <th>...</th>\n",
       "      <td>...</td>\n",
       "      <td>...</td>\n",
       "      <td>...</td>\n",
       "      <td>...</td>\n",
       "      <td>...</td>\n",
       "      <td>...</td>\n",
       "    </tr>\n",
       "    <tr>\n",
       "      <th>VPRC</th>\n",
       "      <td>VapersCoin</td>\n",
       "      <td>Scrypt</td>\n",
       "      <td>True</td>\n",
       "      <td>PoW</td>\n",
       "      <td>NaN</td>\n",
       "      <td>42750000000</td>\n",
       "    </tr>\n",
       "    <tr>\n",
       "      <th>GAP</th>\n",
       "      <td>Gapcoin</td>\n",
       "      <td>Scrypt</td>\n",
       "      <td>True</td>\n",
       "      <td>PoW/PoS</td>\n",
       "      <td>1.493105e+07</td>\n",
       "      <td>250000000</td>\n",
       "    </tr>\n",
       "    <tr>\n",
       "      <th>SERO</th>\n",
       "      <td>Super Zero</td>\n",
       "      <td>Ethash</td>\n",
       "      <td>True</td>\n",
       "      <td>PoW</td>\n",
       "      <td>NaN</td>\n",
       "      <td>1000000000</td>\n",
       "    </tr>\n",
       "    <tr>\n",
       "      <th>BDX</th>\n",
       "      <td>Beldex</td>\n",
       "      <td>CryptoNight</td>\n",
       "      <td>True</td>\n",
       "      <td>PoW</td>\n",
       "      <td>9.802226e+08</td>\n",
       "      <td>1400222610</td>\n",
       "    </tr>\n",
       "    <tr>\n",
       "      <th>ZEN</th>\n",
       "      <td>Horizen</td>\n",
       "      <td>Equihash</td>\n",
       "      <td>True</td>\n",
       "      <td>PoW</td>\n",
       "      <td>7.296538e+06</td>\n",
       "      <td>21000000</td>\n",
       "    </tr>\n",
       "  </tbody>\n",
       "</table>\n",
       "<p>933 rows × 6 columns</p>\n",
       "</div>"
      ],
      "text/plain": [
       "        CoinName    Algorithm  IsTrading ProofType  TotalCoinsMined  \\\n",
       "42       42 Coin       Scrypt       True   PoW/PoS     4.199995e+01   \n",
       "365      365Coin          X11       True   PoW/PoS              NaN   \n",
       "404      404Coin       Scrypt       True   PoW/PoS     1.055185e+09   \n",
       "611    SixEleven      SHA-256       True       PoW              NaN   \n",
       "808          808      SHA-256       True   PoW/PoS     0.000000e+00   \n",
       "...          ...          ...        ...       ...              ...   \n",
       "VPRC  VapersCoin       Scrypt       True       PoW              NaN   \n",
       "GAP      Gapcoin       Scrypt       True   PoW/PoS     1.493105e+07   \n",
       "SERO  Super Zero       Ethash       True       PoW              NaN   \n",
       "BDX       Beldex  CryptoNight       True       PoW     9.802226e+08   \n",
       "ZEN      Horizen     Equihash       True       PoW     7.296538e+06   \n",
       "\n",
       "     TotalCoinSupply  \n",
       "42                42  \n",
       "365       2300000000  \n",
       "404        532000000  \n",
       "611           611000  \n",
       "808                0  \n",
       "...              ...  \n",
       "VPRC     42750000000  \n",
       "GAP        250000000  \n",
       "SERO      1000000000  \n",
       "BDX       1400222610  \n",
       "ZEN         21000000  \n",
       "\n",
       "[933 rows x 6 columns]"
      ]
     },
     "execution_count": 5,
     "metadata": {},
     "output_type": "execute_result"
    }
   ],
   "source": [
    "# Keep only cryptocurrencies with a working algorithm (i.e, ProofType has to contain \"PoW\")\n",
    "crypto_df = crypto_df[crypto_df[\"ProofType\"].str.contains(\"PoW\")]\n",
    "crypto_df"
   ]
  },
  {
   "cell_type": "code",
   "execution_count": 6,
   "metadata": {},
   "outputs": [
    {
     "data": {
      "text/html": [
       "<div>\n",
       "<style scoped>\n",
       "    .dataframe tbody tr th:only-of-type {\n",
       "        vertical-align: middle;\n",
       "    }\n",
       "\n",
       "    .dataframe tbody tr th {\n",
       "        vertical-align: top;\n",
       "    }\n",
       "\n",
       "    .dataframe thead th {\n",
       "        text-align: right;\n",
       "    }\n",
       "</style>\n",
       "<table border=\"1\" class=\"dataframe\">\n",
       "  <thead>\n",
       "    <tr style=\"text-align: right;\">\n",
       "      <th></th>\n",
       "      <th>CoinName</th>\n",
       "      <th>Algorithm</th>\n",
       "      <th>ProofType</th>\n",
       "      <th>TotalCoinsMined</th>\n",
       "      <th>TotalCoinSupply</th>\n",
       "    </tr>\n",
       "  </thead>\n",
       "  <tbody>\n",
       "    <tr>\n",
       "      <th>42</th>\n",
       "      <td>42 Coin</td>\n",
       "      <td>Scrypt</td>\n",
       "      <td>PoW/PoS</td>\n",
       "      <td>4.199995e+01</td>\n",
       "      <td>42</td>\n",
       "    </tr>\n",
       "    <tr>\n",
       "      <th>365</th>\n",
       "      <td>365Coin</td>\n",
       "      <td>X11</td>\n",
       "      <td>PoW/PoS</td>\n",
       "      <td>NaN</td>\n",
       "      <td>2300000000</td>\n",
       "    </tr>\n",
       "    <tr>\n",
       "      <th>404</th>\n",
       "      <td>404Coin</td>\n",
       "      <td>Scrypt</td>\n",
       "      <td>PoW/PoS</td>\n",
       "      <td>1.055185e+09</td>\n",
       "      <td>532000000</td>\n",
       "    </tr>\n",
       "    <tr>\n",
       "      <th>611</th>\n",
       "      <td>SixEleven</td>\n",
       "      <td>SHA-256</td>\n",
       "      <td>PoW</td>\n",
       "      <td>NaN</td>\n",
       "      <td>611000</td>\n",
       "    </tr>\n",
       "    <tr>\n",
       "      <th>808</th>\n",
       "      <td>808</td>\n",
       "      <td>SHA-256</td>\n",
       "      <td>PoW/PoS</td>\n",
       "      <td>0.000000e+00</td>\n",
       "      <td>0</td>\n",
       "    </tr>\n",
       "    <tr>\n",
       "      <th>...</th>\n",
       "      <td>...</td>\n",
       "      <td>...</td>\n",
       "      <td>...</td>\n",
       "      <td>...</td>\n",
       "      <td>...</td>\n",
       "    </tr>\n",
       "    <tr>\n",
       "      <th>VPRC</th>\n",
       "      <td>VapersCoin</td>\n",
       "      <td>Scrypt</td>\n",
       "      <td>PoW</td>\n",
       "      <td>NaN</td>\n",
       "      <td>42750000000</td>\n",
       "    </tr>\n",
       "    <tr>\n",
       "      <th>GAP</th>\n",
       "      <td>Gapcoin</td>\n",
       "      <td>Scrypt</td>\n",
       "      <td>PoW/PoS</td>\n",
       "      <td>1.493105e+07</td>\n",
       "      <td>250000000</td>\n",
       "    </tr>\n",
       "    <tr>\n",
       "      <th>SERO</th>\n",
       "      <td>Super Zero</td>\n",
       "      <td>Ethash</td>\n",
       "      <td>PoW</td>\n",
       "      <td>NaN</td>\n",
       "      <td>1000000000</td>\n",
       "    </tr>\n",
       "    <tr>\n",
       "      <th>BDX</th>\n",
       "      <td>Beldex</td>\n",
       "      <td>CryptoNight</td>\n",
       "      <td>PoW</td>\n",
       "      <td>9.802226e+08</td>\n",
       "      <td>1400222610</td>\n",
       "    </tr>\n",
       "    <tr>\n",
       "      <th>ZEN</th>\n",
       "      <td>Horizen</td>\n",
       "      <td>Equihash</td>\n",
       "      <td>PoW</td>\n",
       "      <td>7.296538e+06</td>\n",
       "      <td>21000000</td>\n",
       "    </tr>\n",
       "  </tbody>\n",
       "</table>\n",
       "<p>933 rows × 5 columns</p>\n",
       "</div>"
      ],
      "text/plain": [
       "        CoinName    Algorithm ProofType  TotalCoinsMined TotalCoinSupply\n",
       "42       42 Coin       Scrypt   PoW/PoS     4.199995e+01              42\n",
       "365      365Coin          X11   PoW/PoS              NaN      2300000000\n",
       "404      404Coin       Scrypt   PoW/PoS     1.055185e+09       532000000\n",
       "611    SixEleven      SHA-256       PoW              NaN          611000\n",
       "808          808      SHA-256   PoW/PoS     0.000000e+00               0\n",
       "...          ...          ...       ...              ...             ...\n",
       "VPRC  VapersCoin       Scrypt       PoW              NaN     42750000000\n",
       "GAP      Gapcoin       Scrypt   PoW/PoS     1.493105e+07       250000000\n",
       "SERO  Super Zero       Ethash       PoW              NaN      1000000000\n",
       "BDX       Beldex  CryptoNight       PoW     9.802226e+08      1400222610\n",
       "ZEN      Horizen     Equihash       PoW     7.296538e+06        21000000\n",
       "\n",
       "[933 rows x 5 columns]"
      ]
     },
     "execution_count": 6,
     "metadata": {},
     "output_type": "execute_result"
    }
   ],
   "source": [
    "# Remove the \"IsTrading\" column\n",
    "crypto_df = crypto_df.drop(columns=\"IsTrading\")\n",
    "crypto_df"
   ]
  },
  {
   "cell_type": "code",
   "execution_count": 7,
   "metadata": {},
   "outputs": [
    {
     "data": {
      "text/html": [
       "<div>\n",
       "<style scoped>\n",
       "    .dataframe tbody tr th:only-of-type {\n",
       "        vertical-align: middle;\n",
       "    }\n",
       "\n",
       "    .dataframe tbody tr th {\n",
       "        vertical-align: top;\n",
       "    }\n",
       "\n",
       "    .dataframe thead th {\n",
       "        text-align: right;\n",
       "    }\n",
       "</style>\n",
       "<table border=\"1\" class=\"dataframe\">\n",
       "  <thead>\n",
       "    <tr style=\"text-align: right;\">\n",
       "      <th></th>\n",
       "      <th>CoinName</th>\n",
       "      <th>Algorithm</th>\n",
       "      <th>ProofType</th>\n",
       "      <th>TotalCoinsMined</th>\n",
       "      <th>TotalCoinSupply</th>\n",
       "    </tr>\n",
       "  </thead>\n",
       "  <tbody>\n",
       "    <tr>\n",
       "      <th>42</th>\n",
       "      <td>42 Coin</td>\n",
       "      <td>Scrypt</td>\n",
       "      <td>PoW/PoS</td>\n",
       "      <td>4.199995e+01</td>\n",
       "      <td>42</td>\n",
       "    </tr>\n",
       "    <tr>\n",
       "      <th>404</th>\n",
       "      <td>404Coin</td>\n",
       "      <td>Scrypt</td>\n",
       "      <td>PoW/PoS</td>\n",
       "      <td>1.055185e+09</td>\n",
       "      <td>532000000</td>\n",
       "    </tr>\n",
       "    <tr>\n",
       "      <th>808</th>\n",
       "      <td>808</td>\n",
       "      <td>SHA-256</td>\n",
       "      <td>PoW/PoS</td>\n",
       "      <td>0.000000e+00</td>\n",
       "      <td>0</td>\n",
       "    </tr>\n",
       "    <tr>\n",
       "      <th>1337</th>\n",
       "      <td>EliteCoin</td>\n",
       "      <td>X13</td>\n",
       "      <td>PoW/PoS</td>\n",
       "      <td>2.927942e+10</td>\n",
       "      <td>314159265359</td>\n",
       "    </tr>\n",
       "    <tr>\n",
       "      <th>BTC</th>\n",
       "      <td>Bitcoin</td>\n",
       "      <td>SHA-256</td>\n",
       "      <td>PoW</td>\n",
       "      <td>1.792718e+07</td>\n",
       "      <td>21000000</td>\n",
       "    </tr>\n",
       "    <tr>\n",
       "      <th>...</th>\n",
       "      <td>...</td>\n",
       "      <td>...</td>\n",
       "      <td>...</td>\n",
       "      <td>...</td>\n",
       "      <td>...</td>\n",
       "    </tr>\n",
       "    <tr>\n",
       "      <th>RCC</th>\n",
       "      <td>Reality Clash</td>\n",
       "      <td>Ethash</td>\n",
       "      <td>PoW</td>\n",
       "      <td>2.448794e+07</td>\n",
       "      <td>24487944</td>\n",
       "    </tr>\n",
       "    <tr>\n",
       "      <th>ILT</th>\n",
       "      <td>iOlite</td>\n",
       "      <td>Ethash</td>\n",
       "      <td>PoW</td>\n",
       "      <td>0.000000e+00</td>\n",
       "      <td>1000000000</td>\n",
       "    </tr>\n",
       "    <tr>\n",
       "      <th>GAP</th>\n",
       "      <td>Gapcoin</td>\n",
       "      <td>Scrypt</td>\n",
       "      <td>PoW/PoS</td>\n",
       "      <td>1.493105e+07</td>\n",
       "      <td>250000000</td>\n",
       "    </tr>\n",
       "    <tr>\n",
       "      <th>BDX</th>\n",
       "      <td>Beldex</td>\n",
       "      <td>CryptoNight</td>\n",
       "      <td>PoW</td>\n",
       "      <td>9.802226e+08</td>\n",
       "      <td>1400222610</td>\n",
       "    </tr>\n",
       "    <tr>\n",
       "      <th>ZEN</th>\n",
       "      <td>Horizen</td>\n",
       "      <td>Equihash</td>\n",
       "      <td>PoW</td>\n",
       "      <td>7.296538e+06</td>\n",
       "      <td>21000000</td>\n",
       "    </tr>\n",
       "  </tbody>\n",
       "</table>\n",
       "<p>555 rows × 5 columns</p>\n",
       "</div>"
      ],
      "text/plain": [
       "           CoinName    Algorithm ProofType  TotalCoinsMined TotalCoinSupply\n",
       "42          42 Coin       Scrypt   PoW/PoS     4.199995e+01              42\n",
       "404         404Coin       Scrypt   PoW/PoS     1.055185e+09       532000000\n",
       "808             808      SHA-256   PoW/PoS     0.000000e+00               0\n",
       "1337      EliteCoin          X13   PoW/PoS     2.927942e+10    314159265359\n",
       "BTC         Bitcoin      SHA-256       PoW     1.792718e+07        21000000\n",
       "...             ...          ...       ...              ...             ...\n",
       "RCC   Reality Clash       Ethash       PoW     2.448794e+07        24487944\n",
       "ILT          iOlite       Ethash       PoW     0.000000e+00      1000000000\n",
       "GAP         Gapcoin       Scrypt   PoW/PoS     1.493105e+07       250000000\n",
       "BDX          Beldex  CryptoNight       PoW     9.802226e+08      1400222610\n",
       "ZEN         Horizen     Equihash       PoW     7.296538e+06        21000000\n",
       "\n",
       "[555 rows x 5 columns]"
      ]
     },
     "execution_count": 7,
     "metadata": {},
     "output_type": "execute_result"
    }
   ],
   "source": [
    "# Remove rows with at least 1 null value\n",
    "crypto_df = crypto_df.dropna()\n",
    "crypto_df"
   ]
  },
  {
   "cell_type": "code",
   "execution_count": 8,
   "metadata": {},
   "outputs": [
    {
     "data": {
      "text/html": [
       "<div>\n",
       "<style scoped>\n",
       "    .dataframe tbody tr th:only-of-type {\n",
       "        vertical-align: middle;\n",
       "    }\n",
       "\n",
       "    .dataframe tbody tr th {\n",
       "        vertical-align: top;\n",
       "    }\n",
       "\n",
       "    .dataframe thead th {\n",
       "        text-align: right;\n",
       "    }\n",
       "</style>\n",
       "<table border=\"1\" class=\"dataframe\">\n",
       "  <thead>\n",
       "    <tr style=\"text-align: right;\">\n",
       "      <th></th>\n",
       "      <th>CoinName</th>\n",
       "      <th>Algorithm</th>\n",
       "      <th>ProofType</th>\n",
       "      <th>TotalCoinsMined</th>\n",
       "      <th>TotalCoinSupply</th>\n",
       "    </tr>\n",
       "  </thead>\n",
       "  <tbody>\n",
       "    <tr>\n",
       "      <th>42</th>\n",
       "      <td>42 Coin</td>\n",
       "      <td>Scrypt</td>\n",
       "      <td>PoW/PoS</td>\n",
       "      <td>4.199995e+01</td>\n",
       "      <td>42</td>\n",
       "    </tr>\n",
       "    <tr>\n",
       "      <th>404</th>\n",
       "      <td>404Coin</td>\n",
       "      <td>Scrypt</td>\n",
       "      <td>PoW/PoS</td>\n",
       "      <td>1.055185e+09</td>\n",
       "      <td>532000000</td>\n",
       "    </tr>\n",
       "    <tr>\n",
       "      <th>1337</th>\n",
       "      <td>EliteCoin</td>\n",
       "      <td>X13</td>\n",
       "      <td>PoW/PoS</td>\n",
       "      <td>2.927942e+10</td>\n",
       "      <td>314159265359</td>\n",
       "    </tr>\n",
       "    <tr>\n",
       "      <th>BTC</th>\n",
       "      <td>Bitcoin</td>\n",
       "      <td>SHA-256</td>\n",
       "      <td>PoW</td>\n",
       "      <td>1.792718e+07</td>\n",
       "      <td>21000000</td>\n",
       "    </tr>\n",
       "    <tr>\n",
       "      <th>ETH</th>\n",
       "      <td>Ethereum</td>\n",
       "      <td>Ethash</td>\n",
       "      <td>PoW</td>\n",
       "      <td>1.076842e+08</td>\n",
       "      <td>0</td>\n",
       "    </tr>\n",
       "    <tr>\n",
       "      <th>...</th>\n",
       "      <td>...</td>\n",
       "      <td>...</td>\n",
       "      <td>...</td>\n",
       "      <td>...</td>\n",
       "      <td>...</td>\n",
       "    </tr>\n",
       "    <tr>\n",
       "      <th>VOLLAR</th>\n",
       "      <td>Vollar</td>\n",
       "      <td>Equihash+Scrypt</td>\n",
       "      <td>PoW</td>\n",
       "      <td>1.000000e+08</td>\n",
       "      <td>2100000000</td>\n",
       "    </tr>\n",
       "    <tr>\n",
       "      <th>RCC</th>\n",
       "      <td>Reality Clash</td>\n",
       "      <td>Ethash</td>\n",
       "      <td>PoW</td>\n",
       "      <td>2.448794e+07</td>\n",
       "      <td>24487944</td>\n",
       "    </tr>\n",
       "    <tr>\n",
       "      <th>GAP</th>\n",
       "      <td>Gapcoin</td>\n",
       "      <td>Scrypt</td>\n",
       "      <td>PoW/PoS</td>\n",
       "      <td>1.493105e+07</td>\n",
       "      <td>250000000</td>\n",
       "    </tr>\n",
       "    <tr>\n",
       "      <th>BDX</th>\n",
       "      <td>Beldex</td>\n",
       "      <td>CryptoNight</td>\n",
       "      <td>PoW</td>\n",
       "      <td>9.802226e+08</td>\n",
       "      <td>1400222610</td>\n",
       "    </tr>\n",
       "    <tr>\n",
       "      <th>ZEN</th>\n",
       "      <td>Horizen</td>\n",
       "      <td>Equihash</td>\n",
       "      <td>PoW</td>\n",
       "      <td>7.296538e+06</td>\n",
       "      <td>21000000</td>\n",
       "    </tr>\n",
       "  </tbody>\n",
       "</table>\n",
       "<p>423 rows × 5 columns</p>\n",
       "</div>"
      ],
      "text/plain": [
       "             CoinName        Algorithm ProofType  TotalCoinsMined  \\\n",
       "42            42 Coin           Scrypt   PoW/PoS     4.199995e+01   \n",
       "404           404Coin           Scrypt   PoW/PoS     1.055185e+09   \n",
       "1337        EliteCoin              X13   PoW/PoS     2.927942e+10   \n",
       "BTC           Bitcoin          SHA-256       PoW     1.792718e+07   \n",
       "ETH          Ethereum           Ethash       PoW     1.076842e+08   \n",
       "...               ...              ...       ...              ...   \n",
       "VOLLAR         Vollar  Equihash+Scrypt       PoW     1.000000e+08   \n",
       "RCC     Reality Clash           Ethash       PoW     2.448794e+07   \n",
       "GAP           Gapcoin           Scrypt   PoW/PoS     1.493105e+07   \n",
       "BDX            Beldex      CryptoNight       PoW     9.802226e+08   \n",
       "ZEN           Horizen         Equihash       PoW     7.296538e+06   \n",
       "\n",
       "       TotalCoinSupply  \n",
       "42                  42  \n",
       "404          532000000  \n",
       "1337      314159265359  \n",
       "BTC           21000000  \n",
       "ETH                  0  \n",
       "...                ...  \n",
       "VOLLAR      2100000000  \n",
       "RCC           24487944  \n",
       "GAP          250000000  \n",
       "BDX         1400222610  \n",
       "ZEN           21000000  \n",
       "\n",
       "[423 rows x 5 columns]"
      ]
     },
     "execution_count": 8,
     "metadata": {},
     "output_type": "execute_result"
    }
   ],
   "source": [
    "# Remove rows with cryptocurrencies having no coins mined\n",
    "crypto_df = crypto_df[crypto_df[\"TotalCoinsMined\"] != 0]\n",
    "crypto_df"
   ]
  },
  {
   "cell_type": "code",
   "execution_count": 9,
   "metadata": {},
   "outputs": [],
   "source": [
    "# There are no other values in the DataFrame that are'N/A' text values, so no further dropping of rows is needed"
   ]
  },
  {
   "cell_type": "code",
   "execution_count": 10,
   "metadata": {},
   "outputs": [
    {
     "data": {
      "text/html": [
       "<div>\n",
       "<style scoped>\n",
       "    .dataframe tbody tr th:only-of-type {\n",
       "        vertical-align: middle;\n",
       "    }\n",
       "\n",
       "    .dataframe tbody tr th {\n",
       "        vertical-align: top;\n",
       "    }\n",
       "\n",
       "    .dataframe thead th {\n",
       "        text-align: right;\n",
       "    }\n",
       "</style>\n",
       "<table border=\"1\" class=\"dataframe\">\n",
       "  <thead>\n",
       "    <tr style=\"text-align: right;\">\n",
       "      <th></th>\n",
       "      <th>CoinName</th>\n",
       "    </tr>\n",
       "  </thead>\n",
       "  <tbody>\n",
       "    <tr>\n",
       "      <th>42</th>\n",
       "      <td>42 Coin</td>\n",
       "    </tr>\n",
       "    <tr>\n",
       "      <th>404</th>\n",
       "      <td>404Coin</td>\n",
       "    </tr>\n",
       "    <tr>\n",
       "      <th>1337</th>\n",
       "      <td>EliteCoin</td>\n",
       "    </tr>\n",
       "    <tr>\n",
       "      <th>BTC</th>\n",
       "      <td>Bitcoin</td>\n",
       "    </tr>\n",
       "    <tr>\n",
       "      <th>ETH</th>\n",
       "      <td>Ethereum</td>\n",
       "    </tr>\n",
       "    <tr>\n",
       "      <th>...</th>\n",
       "      <td>...</td>\n",
       "    </tr>\n",
       "    <tr>\n",
       "      <th>VOLLAR</th>\n",
       "      <td>Vollar</td>\n",
       "    </tr>\n",
       "    <tr>\n",
       "      <th>RCC</th>\n",
       "      <td>Reality Clash</td>\n",
       "    </tr>\n",
       "    <tr>\n",
       "      <th>GAP</th>\n",
       "      <td>Gapcoin</td>\n",
       "    </tr>\n",
       "    <tr>\n",
       "      <th>BDX</th>\n",
       "      <td>Beldex</td>\n",
       "    </tr>\n",
       "    <tr>\n",
       "      <th>ZEN</th>\n",
       "      <td>Horizen</td>\n",
       "    </tr>\n",
       "  </tbody>\n",
       "</table>\n",
       "<p>423 rows × 1 columns</p>\n",
       "</div>"
      ],
      "text/plain": [
       "             CoinName\n",
       "42            42 Coin\n",
       "404           404Coin\n",
       "1337        EliteCoin\n",
       "BTC           Bitcoin\n",
       "ETH          Ethereum\n",
       "...               ...\n",
       "VOLLAR         Vollar\n",
       "RCC     Reality Clash\n",
       "GAP           Gapcoin\n",
       "BDX            Beldex\n",
       "ZEN           Horizen\n",
       "\n",
       "[423 rows x 1 columns]"
      ]
     },
     "execution_count": 10,
     "metadata": {},
     "output_type": "execute_result"
    }
   ],
   "source": [
    "# Store the 'CoinName'column in its own DataFrame prior to dropping it from crypto_df\n",
    "coins_name = pd.DataFrame(index=crypto_df.index)\n",
    "coins_name[\"CoinName\"] = crypto_df[\"CoinName\"]\n",
    "coins_name"
   ]
  },
  {
   "cell_type": "code",
   "execution_count": 11,
   "metadata": {},
   "outputs": [
    {
     "data": {
      "text/html": [
       "<div>\n",
       "<style scoped>\n",
       "    .dataframe tbody tr th:only-of-type {\n",
       "        vertical-align: middle;\n",
       "    }\n",
       "\n",
       "    .dataframe tbody tr th {\n",
       "        vertical-align: top;\n",
       "    }\n",
       "\n",
       "    .dataframe thead th {\n",
       "        text-align: right;\n",
       "    }\n",
       "</style>\n",
       "<table border=\"1\" class=\"dataframe\">\n",
       "  <thead>\n",
       "    <tr style=\"text-align: right;\">\n",
       "      <th></th>\n",
       "      <th>Algorithm</th>\n",
       "      <th>ProofType</th>\n",
       "      <th>TotalCoinsMined</th>\n",
       "      <th>TotalCoinSupply</th>\n",
       "    </tr>\n",
       "  </thead>\n",
       "  <tbody>\n",
       "    <tr>\n",
       "      <th>42</th>\n",
       "      <td>Scrypt</td>\n",
       "      <td>PoW/PoS</td>\n",
       "      <td>4.199995e+01</td>\n",
       "      <td>42</td>\n",
       "    </tr>\n",
       "    <tr>\n",
       "      <th>404</th>\n",
       "      <td>Scrypt</td>\n",
       "      <td>PoW/PoS</td>\n",
       "      <td>1.055185e+09</td>\n",
       "      <td>532000000</td>\n",
       "    </tr>\n",
       "    <tr>\n",
       "      <th>1337</th>\n",
       "      <td>X13</td>\n",
       "      <td>PoW/PoS</td>\n",
       "      <td>2.927942e+10</td>\n",
       "      <td>314159265359</td>\n",
       "    </tr>\n",
       "    <tr>\n",
       "      <th>BTC</th>\n",
       "      <td>SHA-256</td>\n",
       "      <td>PoW</td>\n",
       "      <td>1.792718e+07</td>\n",
       "      <td>21000000</td>\n",
       "    </tr>\n",
       "    <tr>\n",
       "      <th>ETH</th>\n",
       "      <td>Ethash</td>\n",
       "      <td>PoW</td>\n",
       "      <td>1.076842e+08</td>\n",
       "      <td>0</td>\n",
       "    </tr>\n",
       "    <tr>\n",
       "      <th>...</th>\n",
       "      <td>...</td>\n",
       "      <td>...</td>\n",
       "      <td>...</td>\n",
       "      <td>...</td>\n",
       "    </tr>\n",
       "    <tr>\n",
       "      <th>VOLLAR</th>\n",
       "      <td>Equihash+Scrypt</td>\n",
       "      <td>PoW</td>\n",
       "      <td>1.000000e+08</td>\n",
       "      <td>2100000000</td>\n",
       "    </tr>\n",
       "    <tr>\n",
       "      <th>RCC</th>\n",
       "      <td>Ethash</td>\n",
       "      <td>PoW</td>\n",
       "      <td>2.448794e+07</td>\n",
       "      <td>24487944</td>\n",
       "    </tr>\n",
       "    <tr>\n",
       "      <th>GAP</th>\n",
       "      <td>Scrypt</td>\n",
       "      <td>PoW/PoS</td>\n",
       "      <td>1.493105e+07</td>\n",
       "      <td>250000000</td>\n",
       "    </tr>\n",
       "    <tr>\n",
       "      <th>BDX</th>\n",
       "      <td>CryptoNight</td>\n",
       "      <td>PoW</td>\n",
       "      <td>9.802226e+08</td>\n",
       "      <td>1400222610</td>\n",
       "    </tr>\n",
       "    <tr>\n",
       "      <th>ZEN</th>\n",
       "      <td>Equihash</td>\n",
       "      <td>PoW</td>\n",
       "      <td>7.296538e+06</td>\n",
       "      <td>21000000</td>\n",
       "    </tr>\n",
       "  </tbody>\n",
       "</table>\n",
       "<p>423 rows × 4 columns</p>\n",
       "</div>"
      ],
      "text/plain": [
       "              Algorithm ProofType  TotalCoinsMined TotalCoinSupply\n",
       "42               Scrypt   PoW/PoS     4.199995e+01              42\n",
       "404              Scrypt   PoW/PoS     1.055185e+09       532000000\n",
       "1337                X13   PoW/PoS     2.927942e+10    314159265359\n",
       "BTC             SHA-256       PoW     1.792718e+07        21000000\n",
       "ETH              Ethash       PoW     1.076842e+08               0\n",
       "...                 ...       ...              ...             ...\n",
       "VOLLAR  Equihash+Scrypt       PoW     1.000000e+08      2100000000\n",
       "RCC              Ethash       PoW     2.448794e+07        24487944\n",
       "GAP              Scrypt   PoW/PoS     1.493105e+07       250000000\n",
       "BDX         CryptoNight       PoW     9.802226e+08      1400222610\n",
       "ZEN            Equihash       PoW     7.296538e+06        21000000\n",
       "\n",
       "[423 rows x 4 columns]"
      ]
     },
     "execution_count": 11,
     "metadata": {},
     "output_type": "execute_result"
    }
   ],
   "source": [
    "# Drop the 'CoinName' column since it's not going to be used on the clustering algorithm\n",
    "crypto_df = crypto_df.drop(columns=\"CoinName\")\n",
    "crypto_df"
   ]
  },
  {
   "cell_type": "code",
   "execution_count": 12,
   "metadata": {},
   "outputs": [
    {
     "data": {
      "text/html": [
       "<div>\n",
       "<style scoped>\n",
       "    .dataframe tbody tr th:only-of-type {\n",
       "        vertical-align: middle;\n",
       "    }\n",
       "\n",
       "    .dataframe tbody tr th {\n",
       "        vertical-align: top;\n",
       "    }\n",
       "\n",
       "    .dataframe thead th {\n",
       "        text-align: right;\n",
       "    }\n",
       "</style>\n",
       "<table border=\"1\" class=\"dataframe\">\n",
       "  <thead>\n",
       "    <tr style=\"text-align: right;\">\n",
       "      <th></th>\n",
       "      <th>TotalCoinsMined</th>\n",
       "      <th>TotalCoinSupply</th>\n",
       "      <th>Algorithm_1GB AES Pattern Search</th>\n",
       "      <th>Algorithm_536</th>\n",
       "      <th>Algorithm_Argon2d</th>\n",
       "      <th>Algorithm_BLAKE256</th>\n",
       "      <th>Algorithm_Blake</th>\n",
       "      <th>Algorithm_Blake2S</th>\n",
       "      <th>Algorithm_Blake2b</th>\n",
       "      <th>Algorithm_C11</th>\n",
       "      <th>...</th>\n",
       "      <th>ProofType_PoS/PoW</th>\n",
       "      <th>ProofType_PoS/PoW/PoT</th>\n",
       "      <th>ProofType_PoW</th>\n",
       "      <th>ProofType_PoW + Hive</th>\n",
       "      <th>ProofType_PoW and PoS</th>\n",
       "      <th>ProofType_PoW/PoS</th>\n",
       "      <th>ProofType_PoW/PoS</th>\n",
       "      <th>ProofType_PoW/PoW</th>\n",
       "      <th>ProofType_PoW/nPoS</th>\n",
       "      <th>ProofType_dPoW/PoW</th>\n",
       "    </tr>\n",
       "  </thead>\n",
       "  <tbody>\n",
       "    <tr>\n",
       "      <th>42</th>\n",
       "      <td>4.199995e+01</td>\n",
       "      <td>42</td>\n",
       "      <td>0</td>\n",
       "      <td>0</td>\n",
       "      <td>0</td>\n",
       "      <td>0</td>\n",
       "      <td>0</td>\n",
       "      <td>0</td>\n",
       "      <td>0</td>\n",
       "      <td>0</td>\n",
       "      <td>...</td>\n",
       "      <td>0</td>\n",
       "      <td>0</td>\n",
       "      <td>0</td>\n",
       "      <td>0</td>\n",
       "      <td>0</td>\n",
       "      <td>1</td>\n",
       "      <td>0</td>\n",
       "      <td>0</td>\n",
       "      <td>0</td>\n",
       "      <td>0</td>\n",
       "    </tr>\n",
       "    <tr>\n",
       "      <th>404</th>\n",
       "      <td>1.055185e+09</td>\n",
       "      <td>532000000</td>\n",
       "      <td>0</td>\n",
       "      <td>0</td>\n",
       "      <td>0</td>\n",
       "      <td>0</td>\n",
       "      <td>0</td>\n",
       "      <td>0</td>\n",
       "      <td>0</td>\n",
       "      <td>0</td>\n",
       "      <td>...</td>\n",
       "      <td>0</td>\n",
       "      <td>0</td>\n",
       "      <td>0</td>\n",
       "      <td>0</td>\n",
       "      <td>0</td>\n",
       "      <td>1</td>\n",
       "      <td>0</td>\n",
       "      <td>0</td>\n",
       "      <td>0</td>\n",
       "      <td>0</td>\n",
       "    </tr>\n",
       "    <tr>\n",
       "      <th>1337</th>\n",
       "      <td>2.927942e+10</td>\n",
       "      <td>314159265359</td>\n",
       "      <td>0</td>\n",
       "      <td>0</td>\n",
       "      <td>0</td>\n",
       "      <td>0</td>\n",
       "      <td>0</td>\n",
       "      <td>0</td>\n",
       "      <td>0</td>\n",
       "      <td>0</td>\n",
       "      <td>...</td>\n",
       "      <td>0</td>\n",
       "      <td>0</td>\n",
       "      <td>0</td>\n",
       "      <td>0</td>\n",
       "      <td>0</td>\n",
       "      <td>1</td>\n",
       "      <td>0</td>\n",
       "      <td>0</td>\n",
       "      <td>0</td>\n",
       "      <td>0</td>\n",
       "    </tr>\n",
       "    <tr>\n",
       "      <th>BTC</th>\n",
       "      <td>1.792718e+07</td>\n",
       "      <td>21000000</td>\n",
       "      <td>0</td>\n",
       "      <td>0</td>\n",
       "      <td>0</td>\n",
       "      <td>0</td>\n",
       "      <td>0</td>\n",
       "      <td>0</td>\n",
       "      <td>0</td>\n",
       "      <td>0</td>\n",
       "      <td>...</td>\n",
       "      <td>0</td>\n",
       "      <td>0</td>\n",
       "      <td>1</td>\n",
       "      <td>0</td>\n",
       "      <td>0</td>\n",
       "      <td>0</td>\n",
       "      <td>0</td>\n",
       "      <td>0</td>\n",
       "      <td>0</td>\n",
       "      <td>0</td>\n",
       "    </tr>\n",
       "    <tr>\n",
       "      <th>ETH</th>\n",
       "      <td>1.076842e+08</td>\n",
       "      <td>0</td>\n",
       "      <td>0</td>\n",
       "      <td>0</td>\n",
       "      <td>0</td>\n",
       "      <td>0</td>\n",
       "      <td>0</td>\n",
       "      <td>0</td>\n",
       "      <td>0</td>\n",
       "      <td>0</td>\n",
       "      <td>...</td>\n",
       "      <td>0</td>\n",
       "      <td>0</td>\n",
       "      <td>1</td>\n",
       "      <td>0</td>\n",
       "      <td>0</td>\n",
       "      <td>0</td>\n",
       "      <td>0</td>\n",
       "      <td>0</td>\n",
       "      <td>0</td>\n",
       "      <td>0</td>\n",
       "    </tr>\n",
       "    <tr>\n",
       "      <th>...</th>\n",
       "      <td>...</td>\n",
       "      <td>...</td>\n",
       "      <td>...</td>\n",
       "      <td>...</td>\n",
       "      <td>...</td>\n",
       "      <td>...</td>\n",
       "      <td>...</td>\n",
       "      <td>...</td>\n",
       "      <td>...</td>\n",
       "      <td>...</td>\n",
       "      <td>...</td>\n",
       "      <td>...</td>\n",
       "      <td>...</td>\n",
       "      <td>...</td>\n",
       "      <td>...</td>\n",
       "      <td>...</td>\n",
       "      <td>...</td>\n",
       "      <td>...</td>\n",
       "      <td>...</td>\n",
       "      <td>...</td>\n",
       "      <td>...</td>\n",
       "    </tr>\n",
       "    <tr>\n",
       "      <th>VOLLAR</th>\n",
       "      <td>1.000000e+08</td>\n",
       "      <td>2100000000</td>\n",
       "      <td>0</td>\n",
       "      <td>0</td>\n",
       "      <td>0</td>\n",
       "      <td>0</td>\n",
       "      <td>0</td>\n",
       "      <td>0</td>\n",
       "      <td>0</td>\n",
       "      <td>0</td>\n",
       "      <td>...</td>\n",
       "      <td>0</td>\n",
       "      <td>0</td>\n",
       "      <td>1</td>\n",
       "      <td>0</td>\n",
       "      <td>0</td>\n",
       "      <td>0</td>\n",
       "      <td>0</td>\n",
       "      <td>0</td>\n",
       "      <td>0</td>\n",
       "      <td>0</td>\n",
       "    </tr>\n",
       "    <tr>\n",
       "      <th>RCC</th>\n",
       "      <td>2.448794e+07</td>\n",
       "      <td>24487944</td>\n",
       "      <td>0</td>\n",
       "      <td>0</td>\n",
       "      <td>0</td>\n",
       "      <td>0</td>\n",
       "      <td>0</td>\n",
       "      <td>0</td>\n",
       "      <td>0</td>\n",
       "      <td>0</td>\n",
       "      <td>...</td>\n",
       "      <td>0</td>\n",
       "      <td>0</td>\n",
       "      <td>1</td>\n",
       "      <td>0</td>\n",
       "      <td>0</td>\n",
       "      <td>0</td>\n",
       "      <td>0</td>\n",
       "      <td>0</td>\n",
       "      <td>0</td>\n",
       "      <td>0</td>\n",
       "    </tr>\n",
       "    <tr>\n",
       "      <th>GAP</th>\n",
       "      <td>1.493105e+07</td>\n",
       "      <td>250000000</td>\n",
       "      <td>0</td>\n",
       "      <td>0</td>\n",
       "      <td>0</td>\n",
       "      <td>0</td>\n",
       "      <td>0</td>\n",
       "      <td>0</td>\n",
       "      <td>0</td>\n",
       "      <td>0</td>\n",
       "      <td>...</td>\n",
       "      <td>0</td>\n",
       "      <td>0</td>\n",
       "      <td>0</td>\n",
       "      <td>0</td>\n",
       "      <td>0</td>\n",
       "      <td>1</td>\n",
       "      <td>0</td>\n",
       "      <td>0</td>\n",
       "      <td>0</td>\n",
       "      <td>0</td>\n",
       "    </tr>\n",
       "    <tr>\n",
       "      <th>BDX</th>\n",
       "      <td>9.802226e+08</td>\n",
       "      <td>1400222610</td>\n",
       "      <td>0</td>\n",
       "      <td>0</td>\n",
       "      <td>0</td>\n",
       "      <td>0</td>\n",
       "      <td>0</td>\n",
       "      <td>0</td>\n",
       "      <td>0</td>\n",
       "      <td>0</td>\n",
       "      <td>...</td>\n",
       "      <td>0</td>\n",
       "      <td>0</td>\n",
       "      <td>1</td>\n",
       "      <td>0</td>\n",
       "      <td>0</td>\n",
       "      <td>0</td>\n",
       "      <td>0</td>\n",
       "      <td>0</td>\n",
       "      <td>0</td>\n",
       "      <td>0</td>\n",
       "    </tr>\n",
       "    <tr>\n",
       "      <th>ZEN</th>\n",
       "      <td>7.296538e+06</td>\n",
       "      <td>21000000</td>\n",
       "      <td>0</td>\n",
       "      <td>0</td>\n",
       "      <td>0</td>\n",
       "      <td>0</td>\n",
       "      <td>0</td>\n",
       "      <td>0</td>\n",
       "      <td>0</td>\n",
       "      <td>0</td>\n",
       "      <td>...</td>\n",
       "      <td>0</td>\n",
       "      <td>0</td>\n",
       "      <td>1</td>\n",
       "      <td>0</td>\n",
       "      <td>0</td>\n",
       "      <td>0</td>\n",
       "      <td>0</td>\n",
       "      <td>0</td>\n",
       "      <td>0</td>\n",
       "      <td>0</td>\n",
       "    </tr>\n",
       "  </tbody>\n",
       "</table>\n",
       "<p>423 rows × 66 columns</p>\n",
       "</div>"
      ],
      "text/plain": [
       "        TotalCoinsMined TotalCoinSupply  Algorithm_1GB AES Pattern Search  \\\n",
       "42         4.199995e+01              42                                 0   \n",
       "404        1.055185e+09       532000000                                 0   \n",
       "1337       2.927942e+10    314159265359                                 0   \n",
       "BTC        1.792718e+07        21000000                                 0   \n",
       "ETH        1.076842e+08               0                                 0   \n",
       "...                 ...             ...                               ...   \n",
       "VOLLAR     1.000000e+08      2100000000                                 0   \n",
       "RCC        2.448794e+07        24487944                                 0   \n",
       "GAP        1.493105e+07       250000000                                 0   \n",
       "BDX        9.802226e+08      1400222610                                 0   \n",
       "ZEN        7.296538e+06        21000000                                 0   \n",
       "\n",
       "        Algorithm_536  Algorithm_Argon2d  Algorithm_BLAKE256  Algorithm_Blake  \\\n",
       "42                  0                  0                   0                0   \n",
       "404                 0                  0                   0                0   \n",
       "1337                0                  0                   0                0   \n",
       "BTC                 0                  0                   0                0   \n",
       "ETH                 0                  0                   0                0   \n",
       "...               ...                ...                 ...              ...   \n",
       "VOLLAR              0                  0                   0                0   \n",
       "RCC                 0                  0                   0                0   \n",
       "GAP                 0                  0                   0                0   \n",
       "BDX                 0                  0                   0                0   \n",
       "ZEN                 0                  0                   0                0   \n",
       "\n",
       "        Algorithm_Blake2S  Algorithm_Blake2b  Algorithm_C11  ...  \\\n",
       "42                      0                  0              0  ...   \n",
       "404                     0                  0              0  ...   \n",
       "1337                    0                  0              0  ...   \n",
       "BTC                     0                  0              0  ...   \n",
       "ETH                     0                  0              0  ...   \n",
       "...                   ...                ...            ...  ...   \n",
       "VOLLAR                  0                  0              0  ...   \n",
       "RCC                     0                  0              0  ...   \n",
       "GAP                     0                  0              0  ...   \n",
       "BDX                     0                  0              0  ...   \n",
       "ZEN                     0                  0              0  ...   \n",
       "\n",
       "        ProofType_PoS/PoW  ProofType_PoS/PoW/PoT  ProofType_PoW  \\\n",
       "42                      0                      0              0   \n",
       "404                     0                      0              0   \n",
       "1337                    0                      0              0   \n",
       "BTC                     0                      0              1   \n",
       "ETH                     0                      0              1   \n",
       "...                   ...                    ...            ...   \n",
       "VOLLAR                  0                      0              1   \n",
       "RCC                     0                      0              1   \n",
       "GAP                     0                      0              0   \n",
       "BDX                     0                      0              1   \n",
       "ZEN                     0                      0              1   \n",
       "\n",
       "        ProofType_PoW + Hive  ProofType_PoW and PoS  ProofType_PoW/PoS  \\\n",
       "42                         0                      0                  1   \n",
       "404                        0                      0                  1   \n",
       "1337                       0                      0                  1   \n",
       "BTC                        0                      0                  0   \n",
       "ETH                        0                      0                  0   \n",
       "...                      ...                    ...                ...   \n",
       "VOLLAR                     0                      0                  0   \n",
       "RCC                        0                      0                  0   \n",
       "GAP                        0                      0                  1   \n",
       "BDX                        0                      0                  0   \n",
       "ZEN                        0                      0                  0   \n",
       "\n",
       "        ProofType_PoW/PoS   ProofType_PoW/PoW  ProofType_PoW/nPoS  \\\n",
       "42                       0                  0                   0   \n",
       "404                      0                  0                   0   \n",
       "1337                     0                  0                   0   \n",
       "BTC                      0                  0                   0   \n",
       "ETH                      0                  0                   0   \n",
       "...                    ...                ...                 ...   \n",
       "VOLLAR                   0                  0                   0   \n",
       "RCC                      0                  0                   0   \n",
       "GAP                      0                  0                   0   \n",
       "BDX                      0                  0                   0   \n",
       "ZEN                      0                  0                   0   \n",
       "\n",
       "        ProofType_dPoW/PoW  \n",
       "42                       0  \n",
       "404                      0  \n",
       "1337                     0  \n",
       "BTC                      0  \n",
       "ETH                      0  \n",
       "...                    ...  \n",
       "VOLLAR                   0  \n",
       "RCC                      0  \n",
       "GAP                      0  \n",
       "BDX                      0  \n",
       "ZEN                      0  \n",
       "\n",
       "[423 rows x 66 columns]"
      ]
     },
     "execution_count": 12,
     "metadata": {},
     "output_type": "execute_result"
    }
   ],
   "source": [
    "# Create dummy variables for text features\n",
    "X = pd.get_dummies(crypto_df, columns=[\"Algorithm\", \"ProofType\"])\n",
    "X"
   ]
  },
  {
   "cell_type": "code",
   "execution_count": 13,
   "metadata": {},
   "outputs": [
    {
     "data": {
      "text/plain": [
       "array([[-0.2150223 , -0.16172741, -0.04867924, ..., -0.04867924,\n",
       "        -0.04867924, -0.04867924],\n",
       "       [-0.15406818, -0.15261707, -0.04867924, ..., -0.04867924,\n",
       "        -0.04867924, -0.04867924],\n",
       "       [ 1.47634157,  5.21815545, -0.04867924, ..., -0.04867924,\n",
       "        -0.04867924, -0.04867924],\n",
       "       ...,\n",
       "       [-0.21415979, -0.15744624, -0.04867924, ..., -0.04867924,\n",
       "        -0.04867924, -0.04867924],\n",
       "       [-0.15839847, -0.13774902, -0.04867924, ..., -0.04867924,\n",
       "        -0.04867924, -0.04867924],\n",
       "       [-0.2146008 , -0.16136779, -0.04867924, ..., -0.04867924,\n",
       "        -0.04867924, -0.04867924]])"
      ]
     },
     "execution_count": 13,
     "metadata": {},
     "output_type": "execute_result"
    }
   ],
   "source": [
    "# Standardize data using Standard Scaler\n",
    "X_scaled = StandardScaler().fit_transform(X)\n",
    "X_scaled"
   ]
  },
  {
   "cell_type": "markdown",
   "metadata": {},
   "source": [
    "### Reducing Dimensions Using PCA"
   ]
  },
  {
   "cell_type": "code",
   "execution_count": 14,
   "metadata": {},
   "outputs": [],
   "source": [
    "# Use PCA to reduce dimensions to 3 principal components\n",
    "# Initiate the PCA model\n",
    "pca = PCA(n_components=3)\n",
    "\n",
    "# Get 3 components from the crypto data in X_scaled\n",
    "crypto_pca = pca.fit_transform(X_scaled)"
   ]
  },
  {
   "cell_type": "code",
   "execution_count": 15,
   "metadata": {},
   "outputs": [
    {
     "data": {
      "text/html": [
       "<div>\n",
       "<style scoped>\n",
       "    .dataframe tbody tr th:only-of-type {\n",
       "        vertical-align: middle;\n",
       "    }\n",
       "\n",
       "    .dataframe tbody tr th {\n",
       "        vertical-align: top;\n",
       "    }\n",
       "\n",
       "    .dataframe thead th {\n",
       "        text-align: right;\n",
       "    }\n",
       "</style>\n",
       "<table border=\"1\" class=\"dataframe\">\n",
       "  <thead>\n",
       "    <tr style=\"text-align: right;\">\n",
       "      <th></th>\n",
       "      <th>PC 1</th>\n",
       "      <th>PC 2</th>\n",
       "      <th>PC 3</th>\n",
       "    </tr>\n",
       "  </thead>\n",
       "  <tbody>\n",
       "    <tr>\n",
       "      <th>42</th>\n",
       "      <td>-1.606744</td>\n",
       "      <td>-0.160799</td>\n",
       "      <td>-0.404964</td>\n",
       "    </tr>\n",
       "    <tr>\n",
       "      <th>404</th>\n",
       "      <td>-1.599349</td>\n",
       "      <td>-0.162452</td>\n",
       "      <td>-0.428818</td>\n",
       "    </tr>\n",
       "    <tr>\n",
       "      <th>1337</th>\n",
       "      <td>-1.412785</td>\n",
       "      <td>-0.284939</td>\n",
       "      <td>-2.743130</td>\n",
       "    </tr>\n",
       "    <tr>\n",
       "      <th>BTC</th>\n",
       "      <td>1.162957</td>\n",
       "      <td>0.010059</td>\n",
       "      <td>0.504444</td>\n",
       "    </tr>\n",
       "    <tr>\n",
       "      <th>ETH</th>\n",
       "      <td>1.822038</td>\n",
       "      <td>0.045365</td>\n",
       "      <td>0.660612</td>\n",
       "    </tr>\n",
       "    <tr>\n",
       "      <th>...</th>\n",
       "      <td>...</td>\n",
       "      <td>...</td>\n",
       "      <td>...</td>\n",
       "    </tr>\n",
       "    <tr>\n",
       "      <th>VOLLAR</th>\n",
       "      <td>1.804029</td>\n",
       "      <td>0.043965</td>\n",
       "      <td>0.635581</td>\n",
       "    </tr>\n",
       "    <tr>\n",
       "      <th>RCC</th>\n",
       "      <td>1.821594</td>\n",
       "      <td>0.045472</td>\n",
       "      <td>0.662140</td>\n",
       "    </tr>\n",
       "    <tr>\n",
       "      <th>GAP</th>\n",
       "      <td>-1.606133</td>\n",
       "      <td>-0.160905</td>\n",
       "      <td>-0.406590</td>\n",
       "    </tr>\n",
       "    <tr>\n",
       "      <th>BDX</th>\n",
       "      <td>2.065260</td>\n",
       "      <td>-0.007798</td>\n",
       "      <td>-0.456527</td>\n",
       "    </tr>\n",
       "    <tr>\n",
       "      <th>ZEN</th>\n",
       "      <td>1.778933</td>\n",
       "      <td>0.055202</td>\n",
       "      <td>0.746746</td>\n",
       "    </tr>\n",
       "  </tbody>\n",
       "</table>\n",
       "<p>423 rows × 3 columns</p>\n",
       "</div>"
      ],
      "text/plain": [
       "            PC 1      PC 2      PC 3\n",
       "42     -1.606744 -0.160799 -0.404964\n",
       "404    -1.599349 -0.162452 -0.428818\n",
       "1337   -1.412785 -0.284939 -2.743130\n",
       "BTC     1.162957  0.010059  0.504444\n",
       "ETH     1.822038  0.045365  0.660612\n",
       "...          ...       ...       ...\n",
       "VOLLAR  1.804029  0.043965  0.635581\n",
       "RCC     1.821594  0.045472  0.662140\n",
       "GAP    -1.606133 -0.160905 -0.406590\n",
       "BDX     2.065260 -0.007798 -0.456527\n",
       "ZEN     1.778933  0.055202  0.746746\n",
       "\n",
       "[423 rows x 3 columns]"
      ]
     },
     "execution_count": 15,
     "metadata": {},
     "output_type": "execute_result"
    }
   ],
   "source": [
    "# Create a DataFrame with the principal components data\n",
    "pcs_df = pd.DataFrame(\n",
    "    data=crypto_pca,\n",
    "    columns=[\"PC 1\", \"PC 2\", \"PC 3\"],\n",
    "    index=crypto_df.index)\n",
    "\n",
    "pcs_df"
   ]
  },
  {
   "cell_type": "markdown",
   "metadata": {},
   "source": [
    "### Clustering Crytocurrencies Using K-Means\n",
    "\n",
    "#### Find the Best Value for `k` Using the Elbow Curve"
   ]
  },
  {
   "cell_type": "code",
   "execution_count": 16,
   "metadata": {},
   "outputs": [
    {
     "name": "stderr",
     "output_type": "stream",
     "text": [
      "C:\\Users\\bradl\\anaconda3\\lib\\site-packages\\sklearn\\cluster\\_kmeans.py:1039: UserWarning: KMeans is known to have a memory leak on Windows with MKL, when there are less chunks than available threads. You can avoid it by setting the environment variable OMP_NUM_THREADS=2.\n",
      "  warnings.warn(\n"
     ]
    },
    {
     "ename": "AttributeError",
     "evalue": "'DataFrame' object has no attribute 'hvplot'",
     "output_type": "error",
     "traceback": [
      "\u001b[1;31m---------------------------------------------------------------------------\u001b[0m",
      "\u001b[1;31mAttributeError\u001b[0m                            Traceback (most recent call last)",
      "\u001b[1;32m~\\AppData\\Local\\Temp/ipykernel_1968/4112671648.py\u001b[0m in \u001b[0;36m<module>\u001b[1;34m\u001b[0m\n\u001b[0;32m     11\u001b[0m \u001b[0melbow_data\u001b[0m \u001b[1;33m=\u001b[0m \u001b[1;33m{\u001b[0m\u001b[1;34m\"k\"\u001b[0m\u001b[1;33m:\u001b[0m \u001b[0mk\u001b[0m\u001b[1;33m,\u001b[0m \u001b[1;34m\"inertia\"\u001b[0m\u001b[1;33m:\u001b[0m \u001b[0minertia\u001b[0m\u001b[1;33m}\u001b[0m\u001b[1;33m\u001b[0m\u001b[1;33m\u001b[0m\u001b[0m\n\u001b[0;32m     12\u001b[0m \u001b[0mdf_elbow\u001b[0m \u001b[1;33m=\u001b[0m \u001b[0mpd\u001b[0m\u001b[1;33m.\u001b[0m\u001b[0mDataFrame\u001b[0m\u001b[1;33m(\u001b[0m\u001b[0melbow_data\u001b[0m\u001b[1;33m)\u001b[0m\u001b[1;33m\u001b[0m\u001b[1;33m\u001b[0m\u001b[0m\n\u001b[1;32m---> 13\u001b[1;33m \u001b[0mdf_elbow\u001b[0m\u001b[1;33m.\u001b[0m\u001b[0mhvplot\u001b[0m\u001b[1;33m.\u001b[0m\u001b[0mline\u001b[0m\u001b[1;33m(\u001b[0m\u001b[0mx\u001b[0m\u001b[1;33m=\u001b[0m\u001b[1;34m\"k\"\u001b[0m\u001b[1;33m,\u001b[0m \u001b[0my\u001b[0m\u001b[1;33m=\u001b[0m\u001b[1;34m\"inertia\"\u001b[0m\u001b[1;33m,\u001b[0m \u001b[0mxticks\u001b[0m\u001b[1;33m=\u001b[0m\u001b[0mk\u001b[0m\u001b[1;33m,\u001b[0m \u001b[0mtitle\u001b[0m\u001b[1;33m=\u001b[0m\u001b[1;34m\"Elbow Curve\"\u001b[0m\u001b[1;33m)\u001b[0m\u001b[1;33m\u001b[0m\u001b[1;33m\u001b[0m\u001b[0m\n\u001b[0m",
      "\u001b[1;32m~\\anaconda3\\lib\\site-packages\\pandas\\core\\generic.py\u001b[0m in \u001b[0;36m__getattr__\u001b[1;34m(self, name)\u001b[0m\n\u001b[0;32m   5485\u001b[0m         ):\n\u001b[0;32m   5486\u001b[0m             \u001b[1;32mreturn\u001b[0m \u001b[0mself\u001b[0m\u001b[1;33m[\u001b[0m\u001b[0mname\u001b[0m\u001b[1;33m]\u001b[0m\u001b[1;33m\u001b[0m\u001b[1;33m\u001b[0m\u001b[0m\n\u001b[1;32m-> 5487\u001b[1;33m         \u001b[1;32mreturn\u001b[0m \u001b[0mobject\u001b[0m\u001b[1;33m.\u001b[0m\u001b[0m__getattribute__\u001b[0m\u001b[1;33m(\u001b[0m\u001b[0mself\u001b[0m\u001b[1;33m,\u001b[0m \u001b[0mname\u001b[0m\u001b[1;33m)\u001b[0m\u001b[1;33m\u001b[0m\u001b[1;33m\u001b[0m\u001b[0m\n\u001b[0m\u001b[0;32m   5488\u001b[0m \u001b[1;33m\u001b[0m\u001b[0m\n\u001b[0;32m   5489\u001b[0m     \u001b[1;32mdef\u001b[0m \u001b[0m__setattr__\u001b[0m\u001b[1;33m(\u001b[0m\u001b[0mself\u001b[0m\u001b[1;33m,\u001b[0m \u001b[0mname\u001b[0m\u001b[1;33m:\u001b[0m \u001b[0mstr\u001b[0m\u001b[1;33m,\u001b[0m \u001b[0mvalue\u001b[0m\u001b[1;33m)\u001b[0m \u001b[1;33m->\u001b[0m \u001b[1;32mNone\u001b[0m\u001b[1;33m:\u001b[0m\u001b[1;33m\u001b[0m\u001b[1;33m\u001b[0m\u001b[0m\n",
      "\u001b[1;31mAttributeError\u001b[0m: 'DataFrame' object has no attribute 'hvplot'"
     ]
    }
   ],
   "source": [
    "inertia = []\n",
    "k = list(range(1, 11))\n",
    "\n",
    "# Calculate the inertia for the range of k values\n",
    "for i in k:\n",
    "    km = KMeans(n_clusters=i, random_state=0)\n",
    "    km.fit(pcs_df)\n",
    "    inertia.append(km.inertia_)\n",
    "\n",
    "# Create the Elbow Curve using hvPlot\n",
    "elbow_data = {\"k\": k, \"inertia\": inertia}\n",
    "df_elbow = pd.DataFrame(elbow_data)\n",
    "df_elbow.hvplot.line(x=\"k\", y=\"inertia\", xticks=k, title=\"Elbow Curve\")"
   ]
  },
  {
   "cell_type": "markdown",
   "metadata": {},
   "source": [
    "Running K-Means with `k=<your best value for k here>`"
   ]
  },
  {
   "cell_type": "code",
   "execution_count": 17,
   "metadata": {},
   "outputs": [
    {
     "data": {
      "text/html": [
       "<div>\n",
       "<style scoped>\n",
       "    .dataframe tbody tr th:only-of-type {\n",
       "        vertical-align: middle;\n",
       "    }\n",
       "\n",
       "    .dataframe tbody tr th {\n",
       "        vertical-align: top;\n",
       "    }\n",
       "\n",
       "    .dataframe thead th {\n",
       "        text-align: right;\n",
       "    }\n",
       "</style>\n",
       "<table border=\"1\" class=\"dataframe\">\n",
       "  <thead>\n",
       "    <tr style=\"text-align: right;\">\n",
       "      <th></th>\n",
       "      <th>Algorithm</th>\n",
       "      <th>ProofType</th>\n",
       "      <th>TotalCoinsMined</th>\n",
       "      <th>TotalCoinSupply</th>\n",
       "      <th>PC 1</th>\n",
       "      <th>PC 2</th>\n",
       "      <th>PC 3</th>\n",
       "      <th>CoinName</th>\n",
       "      <th>class</th>\n",
       "    </tr>\n",
       "  </thead>\n",
       "  <tbody>\n",
       "    <tr>\n",
       "      <th>42</th>\n",
       "      <td>Scrypt</td>\n",
       "      <td>PoW/PoS</td>\n",
       "      <td>4.199995e+01</td>\n",
       "      <td>42</td>\n",
       "      <td>-1.606744</td>\n",
       "      <td>-0.160799</td>\n",
       "      <td>-0.404964</td>\n",
       "      <td>42 Coin</td>\n",
       "      <td>0</td>\n",
       "    </tr>\n",
       "    <tr>\n",
       "      <th>404</th>\n",
       "      <td>Scrypt</td>\n",
       "      <td>PoW/PoS</td>\n",
       "      <td>1.055185e+09</td>\n",
       "      <td>532000000</td>\n",
       "      <td>-1.599349</td>\n",
       "      <td>-0.162452</td>\n",
       "      <td>-0.428818</td>\n",
       "      <td>404Coin</td>\n",
       "      <td>0</td>\n",
       "    </tr>\n",
       "    <tr>\n",
       "      <th>1337</th>\n",
       "      <td>X13</td>\n",
       "      <td>PoW/PoS</td>\n",
       "      <td>2.927942e+10</td>\n",
       "      <td>314159265359</td>\n",
       "      <td>-1.412785</td>\n",
       "      <td>-0.284939</td>\n",
       "      <td>-2.743130</td>\n",
       "      <td>EliteCoin</td>\n",
       "      <td>0</td>\n",
       "    </tr>\n",
       "    <tr>\n",
       "      <th>BTC</th>\n",
       "      <td>SHA-256</td>\n",
       "      <td>PoW</td>\n",
       "      <td>1.792718e+07</td>\n",
       "      <td>21000000</td>\n",
       "      <td>1.162957</td>\n",
       "      <td>0.010059</td>\n",
       "      <td>0.504444</td>\n",
       "      <td>Bitcoin</td>\n",
       "      <td>1</td>\n",
       "    </tr>\n",
       "    <tr>\n",
       "      <th>ETH</th>\n",
       "      <td>Ethash</td>\n",
       "      <td>PoW</td>\n",
       "      <td>1.076842e+08</td>\n",
       "      <td>0</td>\n",
       "      <td>1.822038</td>\n",
       "      <td>0.045365</td>\n",
       "      <td>0.660612</td>\n",
       "      <td>Ethereum</td>\n",
       "      <td>1</td>\n",
       "    </tr>\n",
       "    <tr>\n",
       "      <th>...</th>\n",
       "      <td>...</td>\n",
       "      <td>...</td>\n",
       "      <td>...</td>\n",
       "      <td>...</td>\n",
       "      <td>...</td>\n",
       "      <td>...</td>\n",
       "      <td>...</td>\n",
       "      <td>...</td>\n",
       "      <td>...</td>\n",
       "    </tr>\n",
       "    <tr>\n",
       "      <th>VOLLAR</th>\n",
       "      <td>Equihash+Scrypt</td>\n",
       "      <td>PoW</td>\n",
       "      <td>1.000000e+08</td>\n",
       "      <td>2100000000</td>\n",
       "      <td>1.804029</td>\n",
       "      <td>0.043965</td>\n",
       "      <td>0.635581</td>\n",
       "      <td>Vollar</td>\n",
       "      <td>1</td>\n",
       "    </tr>\n",
       "    <tr>\n",
       "      <th>RCC</th>\n",
       "      <td>Ethash</td>\n",
       "      <td>PoW</td>\n",
       "      <td>2.448794e+07</td>\n",
       "      <td>24487944</td>\n",
       "      <td>1.821594</td>\n",
       "      <td>0.045472</td>\n",
       "      <td>0.662140</td>\n",
       "      <td>Reality Clash</td>\n",
       "      <td>1</td>\n",
       "    </tr>\n",
       "    <tr>\n",
       "      <th>GAP</th>\n",
       "      <td>Scrypt</td>\n",
       "      <td>PoW/PoS</td>\n",
       "      <td>1.493105e+07</td>\n",
       "      <td>250000000</td>\n",
       "      <td>-1.606133</td>\n",
       "      <td>-0.160905</td>\n",
       "      <td>-0.406590</td>\n",
       "      <td>Gapcoin</td>\n",
       "      <td>0</td>\n",
       "    </tr>\n",
       "    <tr>\n",
       "      <th>BDX</th>\n",
       "      <td>CryptoNight</td>\n",
       "      <td>PoW</td>\n",
       "      <td>9.802226e+08</td>\n",
       "      <td>1400222610</td>\n",
       "      <td>2.065260</td>\n",
       "      <td>-0.007798</td>\n",
       "      <td>-0.456527</td>\n",
       "      <td>Beldex</td>\n",
       "      <td>1</td>\n",
       "    </tr>\n",
       "    <tr>\n",
       "      <th>ZEN</th>\n",
       "      <td>Equihash</td>\n",
       "      <td>PoW</td>\n",
       "      <td>7.296538e+06</td>\n",
       "      <td>21000000</td>\n",
       "      <td>1.778933</td>\n",
       "      <td>0.055202</td>\n",
       "      <td>0.746746</td>\n",
       "      <td>Horizen</td>\n",
       "      <td>1</td>\n",
       "    </tr>\n",
       "  </tbody>\n",
       "</table>\n",
       "<p>423 rows × 9 columns</p>\n",
       "</div>"
      ],
      "text/plain": [
       "              Algorithm ProofType  TotalCoinsMined TotalCoinSupply      PC 1  \\\n",
       "42               Scrypt   PoW/PoS     4.199995e+01              42 -1.606744   \n",
       "404              Scrypt   PoW/PoS     1.055185e+09       532000000 -1.599349   \n",
       "1337                X13   PoW/PoS     2.927942e+10    314159265359 -1.412785   \n",
       "BTC             SHA-256       PoW     1.792718e+07        21000000  1.162957   \n",
       "ETH              Ethash       PoW     1.076842e+08               0  1.822038   \n",
       "...                 ...       ...              ...             ...       ...   \n",
       "VOLLAR  Equihash+Scrypt       PoW     1.000000e+08      2100000000  1.804029   \n",
       "RCC              Ethash       PoW     2.448794e+07        24487944  1.821594   \n",
       "GAP              Scrypt   PoW/PoS     1.493105e+07       250000000 -1.606133   \n",
       "BDX         CryptoNight       PoW     9.802226e+08      1400222610  2.065260   \n",
       "ZEN            Equihash       PoW     7.296538e+06        21000000  1.778933   \n",
       "\n",
       "            PC 2      PC 3       CoinName  class  \n",
       "42     -0.160799 -0.404964        42 Coin      0  \n",
       "404    -0.162452 -0.428818        404Coin      0  \n",
       "1337   -0.284939 -2.743130      EliteCoin      0  \n",
       "BTC     0.010059  0.504444        Bitcoin      1  \n",
       "ETH     0.045365  0.660612       Ethereum      1  \n",
       "...          ...       ...            ...    ...  \n",
       "VOLLAR  0.043965  0.635581         Vollar      1  \n",
       "RCC     0.045472  0.662140  Reality Clash      1  \n",
       "GAP    -0.160905 -0.406590        Gapcoin      0  \n",
       "BDX    -0.007798 -0.456527         Beldex      1  \n",
       "ZEN     0.055202  0.746746        Horizen      1  \n",
       "\n",
       "[423 rows x 9 columns]"
      ]
     },
     "execution_count": 17,
     "metadata": {},
     "output_type": "execute_result"
    }
   ],
   "source": [
    "# Initialize the K-Means model using k=3 as determined by the elbow curve above\n",
    "model = KMeans(n_clusters=3, random_state=0)\n",
    "\n",
    "# Fit the model\n",
    "model.fit(pcs_df)\n",
    "\n",
    "# Predict clusters\n",
    "predictions = model.predict(pcs_df)\n",
    "\n",
    "# Create a new DataFrame including predicted clusters and cryptocurrencies features\n",
    "clustered_df = pd.concat([crypto_df, pcs_df, coins_name], axis=\"columns\", join=\"inner\")\n",
    "\n",
    "# Create a new \"class\" column based off the K-Means model prediction and add it to the newly created DataFrame\n",
    "clustered_df[\"class\"] = model.labels_\n",
    "\n",
    "clustered_df"
   ]
  },
  {
   "cell_type": "markdown",
   "metadata": {},
   "source": [
    "### Visualizing Results\n",
    "\n",
    "#### 3D-Scatter with Clusters"
   ]
  },
  {
   "cell_type": "code",
   "execution_count": 41,
   "metadata": {},
   "outputs": [
    {
     "data": {
      "application/vnd.plotly.v1+json": {
       "config": {
        "plotlyServerURL": "https://plot.ly"
       },
       "data": [
        {
         "customdata": [
          [
           "Scrypt"
          ],
          [
           "Scrypt"
          ],
          [
           "X13"
          ],
          [
           "X11"
          ],
          [
           "SHA-256"
          ],
          [
           "X15"
          ],
          [
           "Scrypt"
          ],
          [
           "Scrypt"
          ],
          [
           "Scrypt"
          ],
          [
           "Scrypt"
          ],
          [
           "Scrypt"
          ],
          [
           "Groestl"
          ],
          [
           "Scrypt"
          ],
          [
           "Scrypt"
          ],
          [
           "X11"
          ],
          [
           "SHA3"
          ],
          [
           "SHA-256"
          ],
          [
           "X13"
          ],
          [
           "X13"
          ],
          [
           "NeoScrypt"
          ],
          [
           "Scrypt"
          ],
          [
           "Scrypt"
          ],
          [
           "Scrypt"
          ],
          [
           "X11"
          ],
          [
           "X11"
          ],
          [
           "Scrypt"
          ],
          [
           "Scrypt"
          ],
          [
           "X11"
          ],
          [
           "X13"
          ],
          [
           "Scrypt"
          ],
          [
           "SHA-256"
          ],
          [
           "Groestl"
          ],
          [
           "X13"
          ],
          [
           "Scrypt"
          ],
          [
           "X13"
          ],
          [
           "Scrypt"
          ],
          [
           "X11"
          ],
          [
           "QUAIT"
          ],
          [
           "X11"
          ],
          [
           "X13"
          ],
          [
           "SHA-256"
          ],
          [
           "X15"
          ],
          [
           "BLAKE256"
          ],
          [
           "SHA-256"
          ],
          [
           "X11"
          ],
          [
           "SHA-256"
          ],
          [
           "NIST5"
          ],
          [
           "Scrypt"
          ],
          [
           "X11"
          ],
          [
           "SHA-256"
          ],
          [
           "X11"
          ],
          [
           "SHA-256"
          ],
          [
           "SHA-256"
          ],
          [
           "NIST5"
          ],
          [
           "X11"
          ],
          [
           "Scrypt"
          ],
          [
           "Scrypt"
          ],
          [
           "Scrypt"
          ],
          [
           "X11"
          ],
          [
           "Scrypt"
          ],
          [
           "SHA-256"
          ],
          [
           "X11"
          ],
          [
           "Scrypt"
          ],
          [
           "Scrypt"
          ],
          [
           "Scrypt"
          ],
          [
           "SHA-256D"
          ],
          [
           "Scrypt"
          ],
          [
           "X11"
          ],
          [
           "X14"
          ],
          [
           "SHA-256D"
          ],
          [
           "X11"
          ],
          [
           "X13"
          ],
          [
           "X11"
          ],
          [
           "Scrypt"
          ],
          [
           "Scrypt"
          ],
          [
           "X11"
          ],
          [
           "SHA-256"
          ],
          [
           "Scrypt"
          ],
          [
           "Scrypt"
          ],
          [
           "Scrypt"
          ],
          [
           "X11"
          ],
          [
           "Scrypt"
          ],
          [
           "Scrypt"
          ],
          [
           "Scrypt"
          ],
          [
           "QuBit"
          ],
          [
           "Scrypt"
          ],
          [
           "SHA-256"
          ],
          [
           "X11"
          ],
          [
           "Scrypt"
          ],
          [
           "Scrypt"
          ],
          [
           "Scrypt"
          ],
          [
           "Scrypt"
          ],
          [
           "X11"
          ],
          [
           "Blake2S"
          ],
          [
           "X11"
          ],
          [
           "X11"
          ],
          [
           "X11"
          ],
          [
           "Scrypt"
          ],
          [
           "Scrypt"
          ],
          [
           "Scrypt"
          ],
          [
           "X11"
          ],
          [
           "Scrypt"
          ],
          [
           "X15"
          ],
          [
           "536"
          ],
          [
           "NIST5"
          ],
          [
           "NIST5"
          ],
          [
           "Skein"
          ],
          [
           "X13"
          ],
          [
           "Scrypt"
          ],
          [
           "X13"
          ],
          [
           "Skein"
          ],
          [
           "X11"
          ],
          [
           "Scrypt"
          ],
          [
           "Scrypt"
          ],
          [
           "X11"
          ],
          [
           "NeoScrypt"
          ],
          [
           "Scrypt"
          ],
          [
           "Scrypt"
          ],
          [
           "SHA-256"
          ],
          [
           "NIST5"
          ],
          [
           "PHI1612"
          ],
          [
           "Scrypt"
          ],
          [
           "Quark"
          ],
          [
           "Scrypt"
          ],
          [
           "X11"
          ],
          [
           "NIST5"
          ],
          [
           "X13"
          ],
          [
           "Scrypt"
          ],
          [
           "Scrypt"
          ],
          [
           "Scrypt"
          ],
          [
           "X11"
          ],
          [
           "Scrypt"
          ],
          [
           "Scrypt"
          ],
          [
           "Scrypt"
          ],
          [
           "Scrypt"
          ],
          [
           "C11"
          ],
          [
           "X11"
          ],
          [
           "XEVAN"
          ],
          [
           "NIST5"
          ],
          [
           "Scrypt"
          ],
          [
           "Scrypt"
          ],
          [
           "Scrypt"
          ],
          [
           "Quark"
          ],
          [
           "Scrypt"
          ],
          [
           "XEVAN"
          ],
          [
           "Scrypt"
          ],
          [
           "SHA-256D"
          ],
          [
           "Scrypt"
          ],
          [
           "Scrypt"
          ],
          [
           "X16R"
          ],
          [
           "Quark"
          ],
          [
           "Lyra2REv2"
          ],
          [
           "Scrypt"
          ],
          [
           "X11"
          ],
          [
           "Keccak"
          ],
          [
           "Scrypt"
          ],
          [
           "Quark"
          ],
          [
           "Scrypt"
          ],
          [
           "Quark"
          ],
          [
           "Scrypt"
          ],
          [
           "Scrypt"
          ],
          [
           "XEVAN"
          ],
          [
           "SHA-256D"
          ],
          [
           "X11"
          ],
          [
           "X11"
          ],
          [
           "Scrypt"
          ],
          [
           "X11"
          ],
          [
           "Scrypt"
          ],
          [
           "Scrypt"
          ],
          [
           "Scrypt"
          ],
          [
           "X11"
          ],
          [
           "Scrypt"
          ],
          [
           "SHA-256"
          ],
          [
           "X11"
          ],
          [
           "Scrypt"
          ],
          [
           "Scrypt"
          ],
          [
           "X11"
          ],
          [
           "Scrypt"
          ],
          [
           "SHA-256"
          ],
          [
           "Scrypt"
          ],
          [
           "NeoScrypt"
          ],
          [
           "X13"
          ],
          [
           "Scrypt"
          ]
         ],
         "hovertemplate": "<b>%{hovertext}</b><br><br>class=%{marker.color}<br>PC 1=%{x}<br>PC 2=%{y}<br>PC 3=%{z}<br>Algorithm=%{customdata[0]}<extra></extra>",
         "hovertext": [
          "42 Coin",
          "404Coin",
          "EliteCoin",
          "Dash",
          "BitcoinDark",
          "KoboCoin",
          "Aurora Coin",
          "BlueCoin",
          "EnergyCoin",
          "BitBar",
          "CryptoBullion",
          "Diamond",
          "FlutterCoin",
          "HoboNickels",
          "IOCoin",
          "MaxCoin",
          "MazaCoin",
          "NavCoin",
          "OpalCoin",
          "Orbitcoin",
          "PotCoin",
          "PhoenixCoin",
          "Reddcoin",
          "SyncCoin",
          "TorCoin",
          "UnitaryStatus Dollar",
          "UltraCoin",
          "X11 Coin",
          "StealthCoin",
          "ZCC Coin",
          "Neutron",
          "FairCoin",
          "Kore",
          "8BIT Coin",
          "Sativa Coin",
          "Vtorrent",
          "IslaCoin",
          "Droidz",
          "Squall Coin",
          "Paycon",
          "Emercoin",
          "EverGreenCoin",
          "Decred",
          "EDRCoin",
          "Hitcoin",
          "DubaiCoin",
          "PWR Coin",
          "BillaryCoin",
          "EuropeCoin",
          "SwingCoin",
          "Ratecoin",
          "Revenu",
          "Clockcoin",
          "VIP Tokens",
          "BitSend",
          "PutinCoin",
          "iBankCoin",
          "Frankywillcoin",
          "GoldBlocks",
          "CarterCoin",
          "BitTokens",
          "MustangCoin",
          "ZoneCoin",
          "RootCoin",
          "Swiscoin",
          "BuzzCoin",
          "PesoBit",
          "Halloween Coin",
          "GanjaCoin V2",
          "LanaCoin",
          "InsaneCoin",
          "EmberCoin",
          "XenixCoin",
          "PLNCoin",
          "AquariusCoin",
          "Eternity",
          "Eurocoin",
          "BitcoinFast",
          "BitConnect Coin",
          "MoneyCoin",
          "Enigma",
          "Russiacoin",
          "GameUnits",
          "GAKHcoin",
          "LiteCreed",
          "Klingon Empire Darsek",
          "Internet of People",
          "KushCoin",
          "Printerium",
          "Impeach",
          "FirstCoin",
          "OpenChat",
          "VirtacoinPlus",
          "TajCoin",
          "Impact",
          "HappyCoin",
          "Condensate",
          "Independent Money System",
          "ArgusCoin",
          "LomoCoin",
          "GoldReserve",
          "Degas Coin",
          "HTML5 Coin",
          "Espers",
          "Denarius",
          "Virta Unique Coin",
          "Bitcoin Planet",
          "BritCoin",
          "Linda",
          "DeepOnion",
          "Cream",
          "Monoeci",
          "CoinonatX",
          "Ethereum Dark",
          "Regalcoin",
          "TrezarCoin",
          "TerraNovaCoin",
          "WomenCoin",
          "Theresa May Coin",
          "NamoCoin",
          "LUXCoin",
          "Xios",
          "Bitcloud 2.0",
          "BlackholeCoin",
          "Magnet",
          "Electra",
          "Bitcoin Diamond",
          "Cash & Back Coin",
          "GermanCoin",
          "LiteCoin Ultra",
          "PhantomX",
          "Trollcoin",
          "Litecoin Plus",
          "My Big Coin",
          "Unified Society USDEX",
          "Stipend",
          "Pushi",
          "Ellerium",
          "Bitspace",
          "Briacoin",
          "Ignition",
          "Abjcoin",
          "Carebit",
          "iDealCash",
          "Bitcoin Incognito",
          "Swisscoin",
          "TheVig",
          "EmaratCoin",
          "Lynx",
          "Trivechain",
          "Giant",
          "Absolute Coin",
          "TPCash",
          "EUNO",
          "XDNA",
          "ThunderStake",
          "HerbCoin",
          "Oduwa",
          "Galilel",
          "Credit",
          "Nasdacoin",
          "Beetle Coin",
          "Titan Coin",
          "Award",
          "Insane Coin",
          "LiteDoge",
          "TruckCoin",
          "OrangeCoin",
          "BitstarCoin",
          "HyperCoin",
          "PinkCoin",
          "AudioCoin",
          "IncaKoin",
          "Piggy Coin",
          "Genstake",
          "XiaoMiCoin",
          "CapriCoin",
          " ClubCoin",
          "OKCash",
          "WhiteCoin",
          "FriendshipCoin",
          "Triangles Coin",
          "Gapcoin"
         ],
         "legendgroup": "0",
         "marker": {
          "color": [
           0,
           0,
           0,
           0,
           0,
           0,
           0,
           0,
           0,
           0,
           0,
           0,
           0,
           0,
           0,
           0,
           0,
           0,
           0,
           0,
           0,
           0,
           0,
           0,
           0,
           0,
           0,
           0,
           0,
           0,
           0,
           0,
           0,
           0,
           0,
           0,
           0,
           0,
           0,
           0,
           0,
           0,
           0,
           0,
           0,
           0,
           0,
           0,
           0,
           0,
           0,
           0,
           0,
           0,
           0,
           0,
           0,
           0,
           0,
           0,
           0,
           0,
           0,
           0,
           0,
           0,
           0,
           0,
           0,
           0,
           0,
           0,
           0,
           0,
           0,
           0,
           0,
           0,
           0,
           0,
           0,
           0,
           0,
           0,
           0,
           0,
           0,
           0,
           0,
           0,
           0,
           0,
           0,
           0,
           0,
           0,
           0,
           0,
           0,
           0,
           0,
           0,
           0,
           0,
           0,
           0,
           0,
           0,
           0,
           0,
           0,
           0,
           0,
           0,
           0,
           0,
           0,
           0,
           0,
           0,
           0,
           0,
           0,
           0,
           0,
           0,
           0,
           0,
           0,
           0,
           0,
           0,
           0,
           0,
           0,
           0,
           0,
           0,
           0,
           0,
           0,
           0,
           0,
           0,
           0,
           0,
           0,
           0,
           0,
           0,
           0,
           0,
           0,
           0,
           0,
           0,
           0,
           0,
           0,
           0,
           0,
           0,
           0,
           0,
           0,
           0,
           0,
           0,
           0,
           0,
           0,
           0,
           0,
           0,
           0,
           0,
           0,
           0,
           0,
           0,
           0,
           0,
           0
          ],
          "coloraxis": "coloraxis",
          "opacity": 0.7,
          "symbol": "circle"
         },
         "mode": "markers",
         "name": "0",
         "scene": "scene",
         "showlegend": true,
         "type": "scatter3d",
         "x": [
          -1.6067444921911105,
          -1.5993493573357807,
          -1.412785468278851,
          -1.7468872441257142,
          -1.2858169689832224,
          -2.3176331716284357,
          -1.6066014667296837,
          -1.6029604015739085,
          -1.6060116261185955,
          -1.6067431945283193,
          -1.6067362154969647,
          -1.5351303532568803,
          -0.6589460313341337,
          -1.6059622247541017,
          -1.746835912369763,
          -2.242064082581457,
          -1.2712064738092903,
          -2.2429923579021684,
          -2.24329566176252,
          -1.170207744349387,
          -1.6045410785074277,
          -1.6060993402118686,
          -1.4321637558477947,
          -1.746986973334683,
          -1.7469575668336614,
          -1.5968578077204276,
          -1.6062364445763344,
          -1.7469340999503467,
          -2.243188840779197,
          -1.6037743169432537,
          -1.2854955784423356,
          -1.5348424003079129,
          -2.24334881073235,
          -1.6067357512086393,
          -2.243322769454714,
          -1.6066336066082048,
          -1.7469779679881312,
          -2.4143305933707704,
          -0.9374500715503313,
          -2.2431442544108746,
          -1.2835253079713123,
          -2.3183808740386898,
          -1.4016198957902106,
          -1.2858027906108258,
          -1.6260422047124026,
          -1.2858181219205507,
          -1.9591929330429922,
          -1.6066031708564417,
          -1.7461228823001693,
          -1.2857609784539181,
          -1.7460290132121812,
          -1.2853982382552707,
          -1.2846747166880113,
          -2.018473783205995,
          -1.7465513964557646,
          -1.5977246249558321,
          -1.6066249311022078,
          -1.6059400841665388,
          -1.746789853063434,
          -1.606299434889291,
          -1.2858231873920287,
          -1.7469767994796241,
          -1.606685250246726,
          -1.6067329400575836,
          -0.6457308362877329,
          -2.2327640548581322,
          -1.6065448558480484,
          -1.74227747211998,
          -2.413053506523781,
          -2.369007848002928,
          -1.746815081070987,
          -1.6925815813601495,
          -1.7469559859500157,
          -1.6065622154591959,
          -1.606642172598688,
          -1.74682550567027,
          -1.2857548788185575,
          -1.606555002451781,
          -1.606620016256891,
          -1.6053203569614851,
          -1.7469716865817893,
          -1.606393804482371,
          -1.6066966549515753,
          -1.6067178200449679,
          -1.2384339111315468,
          -1.6055573430306311,
          -1.2858116899440777,
          -1.746933742045802,
          -1.6066323142891055,
          -1.606696841576285,
          -0.6621532167604411,
          -1.5987004089047228,
          -1.7466997092548917,
          -2.414179222692699,
          -1.7460983791340179,
          -1.7466499320900752,
          -1.7452180071837173,
          -1.606668210163689,
          -1.606677912586634,
          -1.6046526541847266,
          -1.7468011685963658,
          -1.6063979659517142,
          -1.8883853917784201,
          -2.001414163173279,
          -2.01911301630529,
          -2.0185332490483816,
          -2.41805179792802,
          -2.243196599240015,
          -1.4484368760846065,
          -2.243215924880691,
          -2.417810447986759,
          -1.7468922703077918,
          -1.6065273382191378,
          -1.6067107073777422,
          -1.746887333970164,
          -1.1683116021684858,
          -1.6067048344567738,
          -1.265936014543567,
          -1.285113530275214,
          -2.0133138346229935,
          -2.414135973420098,
          -1.6066878245823875,
          -2.1346564510753723,
          -1.6066161592774424,
          -1.7464587053409417,
          -1.7873696550220608,
          -2.241854274510064,
          -1.605644939139476,
          -1.4730523770536315,
          -1.6063810240016105,
          -1.7466135168822434,
          -1.6013448456711938,
          -1.606721222312317,
          -0.6634705239384141,
          -1.6048613149809987,
          -1.534165579665067,
          -1.7469218510209514,
          -1.8331417546689073,
          -2.0189721936380507,
          -1.6067331899851,
          -1.6067270082377156,
          -1.6066229861130767,
          -2.1340071647601566,
          -1.5876833786875884,
          -1.0236258252069526,
          -1.5246948395617081,
          -2.3907245294968287,
          -1.6064403993453493,
          0.46402029523897154,
          -1.2383656595175623,
          -2.1352111057480663,
          -1.2371071766963355,
          -1.6046234509478472,
          -1.7466992904823933,
          -1.524685736779631,
          -1.5628327365350259,
          -2.1349340269342134,
          -1.606612622853144,
          -2.1351085815867537,
          -1.2669237358788004,
          -1.6064466690722967,
          -1.8310404318335243,
          -2.3753490221520464,
          -1.7460178299913514,
          -1.7467827254676898,
          -1.4424069798648733,
          -1.7455423995685404,
          -1.606305655865754,
          -1.6065086212180784,
          -1.6066871365862925,
          -1.743343968973115,
          -1.5789709740276823,
          -1.178638654584323,
          -1.741954808371832,
          -1.6063558462444851,
          -1.6035011535052883,
          -1.7453533299482027,
          -1.6057931834427124,
          -1.2852065563914583,
          -1.6046170850044739,
          -1.1701024438242553,
          -2.243384832264148,
          -1.6061333596379117
         ],
         "y": [
          -0.16079869417214987,
          -0.16245198082776893,
          -0.28493868634528907,
          -0.09153518406902218,
          -0.07156071933959282,
          -0.1474298909871923,
          -0.1608297135260629,
          -0.16168484634340885,
          -0.1609703155591638,
          -0.16079892429038037,
          -0.16080048485603377,
          -0.07699102100214444,
          -0.10209245803343214,
          -0.1609641788851008,
          -0.09154720485585652,
          -0.015134468128218828,
          -0.07462848628152433,
          -0.13687483367630893,
          -0.1368038064732866,
          -0.0613053556036299,
          -0.1612527170813793,
          -0.16093531540188702,
          -0.2016817260976852,
          -0.09151507548899242,
          -0.09152048655254043,
          -0.16287786974616283,
          -0.1609029134354887,
          -0.09152664594166315,
          -0.13682882163682897,
          -0.16134669992905995,
          -0.07162919498003632,
          -0.07705909960107335,
          -0.13678958959377435,
          -0.16080074112735673,
          -0.13679598298775456,
          -0.16082171028235626,
          -0.09151718449389654,
          -0.11735512971608847,
          0.05276338699532411,
          -0.13683188554772296,
          -0.07195307772478499,
          -0.14730255588203267,
          -0.1131656759674176,
          -0.07156403960770048,
          -0.11592040331826808,
          -0.07156214611458735,
          -0.12241809355509334,
          -0.16082559168611993,
          -0.09166076976886837,
          -0.0715711752996212,
          -0.09172834329651386,
          -0.07162916103964151,
          -0.0717539949620556,
          -0.10852252175713967,
          -0.09159656955841185,
          -0.16261586188404076,
          -0.16082015163556546,
          -0.16097231463259154,
          -0.091553859687883,
          -0.16088963791721628,
          -0.07155941066780809,
          -0.09151701549818694,
          -0.16080946891432865,
          -0.1608013994381231,
          -0.10477309594554447,
          -0.16273039176586884,
          -0.16084544469135675,
          -0.09239662138283133,
          -0.1176744624533341,
          -0.13266847038665766,
          -0.0915509027350758,
          -0.26564371776567325,
          -0.09152176367244813,
          -0.16083569306005077,
          -0.160816458321772,
          -0.09154403516818478,
          -0.07157555460310437,
          -0.1608381995898854,
          -0.16082371248831492,
          -0.16103619421017196,
          -0.09151791773817461,
          -0.16085957116768168,
          -0.16080797853949166,
          -0.16080445098977605,
          -0.06324148074714579,
          -0.16100292631057145,
          -0.07156210312140507,
          -0.09152616111657566,
          -0.16082201291553352,
          -0.16080661676703337,
          -0.10118786936454033,
          -0.16253489943285326,
          -0.09156759216577756,
          -0.11738691512645949,
          -0.09170693522169242,
          -0.09157924890099779,
          -0.09185555672206269,
          -0.16081342803576304,
          -0.16081006589327862,
          -0.16114101234730693,
          -0.09155268528526254,
          -0.1608643508981997,
          -0.23472302256755595,
          -0.2149190861705202,
          -0.10838463079649989,
          -0.10850416979197419,
          -0.11772185921627468,
          -0.136822578421892,
          -0.1904936612848147,
          -0.13681969079226583,
          -0.11777837815163403,
          -0.09153585028612479,
          -0.16084242759776488,
          -0.16080598616163025,
          -0.09153442530418807,
          -0.06169092931324659,
          -0.16080565978658198,
          -0.23692004123408644,
          -0.07171394095497988,
          -0.10956709509918183,
          -0.11739187185477105,
          -0.1608088660606046,
          -0.10512750914651922,
          -0.160826565033835,
          -0.09161753808720081,
          -0.15822903714046826,
          -0.13711036372899876,
          -0.16102520125878747,
          -0.1847292434406368,
          -0.16086167880955918,
          -0.09159515380701126,
          -0.16193038405077623,
          -0.16080355330042012,
          -0.10085319780450895,
          -0.16120546309442457,
          -0.0767782708545824,
          -0.09152663724765012,
          -0.061244224064226235,
          -0.10841170661723122,
          -0.16080089827538066,
          -0.16080205081681176,
          -0.16082272192215766,
          -0.1052795579561741,
          -0.16450667612548645,
          0.08303339557524976,
          -0.17850798850219451,
          -0.12867561193341975,
          -0.16085751236120083,
          -0.3803786238196669,
          -0.0632575113185894,
          -0.10502637002425552,
          -0.06363819107016339,
          -0.1611478511136592,
          -0.09157506748531159,
          -0.07934974092910536,
          -0.16842606670692034,
          -0.10508404846095684,
          -0.16082647667882902,
          -0.1050483303022782,
          -0.22934099519835605,
          -0.1608560441267766,
          -0.06167138859818733,
          -0.13155325244721291,
          -0.09168005912560802,
          -0.09155847971745121,
          -0.19411890816281321,
          -0.09185336356353387,
          -0.16087195114453862,
          -0.16084592483653995,
          -0.16081212562027825,
          -0.09229441593177239,
          -0.16575342839971483,
          -0.09663477452245821,
          -0.0925459547735194,
          -0.16088749347623157,
          -0.16149919592204143,
          -0.09186695021003398,
          -0.16099786290186563,
          -0.0716914185256896,
          -0.1612526234089211,
          -0.06132169344211041,
          -0.13678290696533824,
          -0.1609049219419119
         ],
         "z": [
          -0.4049642457768068,
          -0.4288184316560635,
          -2.7431299629496384,
          0.1887158666456757,
          0.2029072346968638,
          -0.6600038540105552,
          -0.4054147215947223,
          -0.4176273581350116,
          -0.4074167149625879,
          -0.40496774911349737,
          -0.4049902645586884,
          0.1571328104794239,
          -0.5248303517471464,
          -0.40738061369497597,
          0.18854408963099178,
          8.109230000190664,
          0.1580382205547255,
          -0.4922308777354931,
          -0.49121589917670927,
          0.23602152676077187,
          -0.41163280329402896,
          -0.40695869609510715,
          -0.9891826727360536,
          0.18901267627036458,
          0.1889310532995091,
          -0.43536355019578216,
          -0.4064965319370932,
          0.18884497033601422,
          -0.49157336580301175,
          -0.41322517827686067,
          0.20190894110836569,
          0.1561618505663128,
          -0.491017899181978,
          -0.4049934967436887,
          -0.49110840090327085,
          -0.40530174454937123,
          0.1889825390253353,
          -0.05403350682075445,
          1.0262076879719682,
          -0.4916386456613548,
          0.19687996123759136,
          -0.6580450659539344,
          -0.5953498256742954,
          0.20285978807366248,
          -0.1711540822433552,
          0.20289179029884793,
          -0.31147163203316186,
          -0.4053666682945398,
          0.18676561206700304,
          0.2027500802849591,
          0.18593283537984068,
          0.20184290495248716,
          0.19992907093523504,
          -0.1129426386126077,
          0.18778836615619882,
          -0.43179143111488183,
          -0.4052899331588684,
          -0.4074882748752286,
          0.1884369540131904,
          -0.40630252549738244,
          0.20292636554507226,
          0.18898366417886875,
          -0.40512724536155437,
          -0.4050029040029418,
          -0.5738079210256632,
          -0.763334539565655,
          -0.4056323105647377,
          0.1757704906440608,
          -0.059586450621341144,
          -0.3283781908418627,
          0.18848780749326782,
          -2.332703360646444,
          0.1889154459080702,
          -0.40550952934021933,
          -0.4052361525401781,
          0.18857304706000796,
          0.20269609868045682,
          -0.40554296582450516,
          -0.40533379552031973,
          -0.4086378599369837,
          0.18896991130847074,
          -0.4058960880249482,
          -0.4051025084560957,
          -0.4050479362310669,
          0.22645619821023694,
          -0.40809768831208726,
          0.20288789038970556,
          0.18885024152902063,
          -0.4053060691767424,
          -0.40508688945296256,
          -0.5094891441839682,
          -0.43020454630185634,
          0.18821922035830493,
          -0.0546092068427344,
          0.18622370911169994,
          0.1880526456403045,
          0.18393223491515714,
          -0.40518391239476037,
          -0.40513904366932396,
          -0.4102859032328918,
          0.18845803553960636,
          -0.4059476230307471,
          -1.945965858734107,
          -1.7721321840492763,
          -0.11093778259321133,
          -0.1126932870224009,
          -0.05589887654564824,
          -0.491497048224179,
          -0.8508018328218919,
          -0.49145101098407074,
          -0.05670653199474169,
          0.18871171742364,
          -0.4056099413633306,
          -0.4050702539833717,
          0.1887245597354022,
          0.23034132759551254,
          -0.4050705486288266,
          -1.5034864000505406,
          0.20068416352150625,
          -0.1283468131909252,
          -0.05471759364714503,
          -0.40511863058330216,
          0.012428805257309524,
          -0.40536887825147144,
          0.18748657627279294,
          -0.8361078764039066,
          -0.4956868872489455,
          -0.4082913171092207,
          -0.7684283158210149,
          -0.4059287858117555,
          0.1878468611510814,
          -0.42152302980115336,
          -0.4050354024162667,
          -0.5036894818922492,
          -0.410876716797718,
          0.15597663966402373,
          0.18883671090759,
          0.3442762766903962,
          -0.11134189326901997,
          -0.40499703218331595,
          -0.4050143618607325,
          -0.40532050019550087,
          0.010256028136420821,
          -0.46015338746261525,
          1.1814760110430436,
          -0.6624153208851615,
          -0.26813617994037375,
          -0.40584087179041134,
          -5.373513004665669,
          0.2261897685852389,
          0.013957854807789376,
          0.2181669146501782,
          -0.4103836291874657,
          0.18813389463941352,
          0.1036562017794588,
          -0.5216981492435723,
          0.013112628359482195,
          -0.40537028627498123,
          0.013638072888565837,
          -1.416592443384839,
          -0.4058198907240518,
          0.33798292664086693,
          -0.311364320649556,
          0.18647448966906274,
          0.1883795324335149,
          -0.8961576281774174,
          0.1841785409362517,
          -0.4060970740327806,
          -0.4056624982573174,
          -0.4051561811199041,
          0.1776609378736837,
          -0.48028166745549616,
          -0.15547318150784878,
          0.17385148264465775,
          -0.40623963657226064,
          -0.4151463866971505,
          0.183894962021671,
          -0.4078791554760634,
          0.20100385932348191,
          -0.4115798729249788,
          0.23576381174483388,
          -0.49091729685065033,
          -0.4065897232263162
         ]
        },
        {
         "customdata": [
          [
           "SHA-256"
          ],
          [
           "Ethash"
          ],
          [
           "Scrypt"
          ],
          [
           "CryptoNight-V7"
          ],
          [
           "Ethash"
          ],
          [
           "Equihash"
          ],
          [
           "Multiple"
          ],
          [
           "Scrypt"
          ],
          [
           "X11"
          ],
          [
           "Scrypt"
          ],
          [
           "Multiple"
          ],
          [
           "Scrypt"
          ],
          [
           "SHA-256"
          ],
          [
           "Scrypt"
          ],
          [
           "Scrypt"
          ],
          [
           "Quark"
          ],
          [
           "Groestl"
          ],
          [
           "Scrypt"
          ],
          [
           "Scrypt"
          ],
          [
           "Scrypt"
          ],
          [
           "X11"
          ],
          [
           "Multiple"
          ],
          [
           "SHA-256"
          ],
          [
           "Scrypt"
          ],
          [
           "Scrypt"
          ],
          [
           "Scrypt"
          ],
          [
           "Scrypt"
          ],
          [
           "Scrypt"
          ],
          [
           "NeoScrypt"
          ],
          [
           "Scrypt"
          ],
          [
           "Scrypt"
          ],
          [
           "Scrypt"
          ],
          [
           "Scrypt"
          ],
          [
           "SHA-256"
          ],
          [
           "Scrypt"
          ],
          [
           "Scrypt"
          ],
          [
           "Scrypt"
          ],
          [
           "Scrypt"
          ],
          [
           "HybridScryptHash256"
          ],
          [
           "Scrypt"
          ],
          [
           "Scrypt"
          ],
          [
           "SHA-256"
          ],
          [
           "Scrypt"
          ],
          [
           "Scrypt"
          ],
          [
           "Scrypt"
          ],
          [
           "Scrypt"
          ],
          [
           "SHA-256"
          ],
          [
           "SHA-256"
          ],
          [
           "SHA-256"
          ],
          [
           "SHA-256"
          ],
          [
           "SHA-256"
          ],
          [
           "X11"
          ],
          [
           "Scrypt"
          ],
          [
           "Lyra2REv2"
          ],
          [
           "Scrypt"
          ],
          [
           "SHA-256"
          ],
          [
           "CryptoNight"
          ],
          [
           "CryptoNight"
          ],
          [
           "Scrypt"
          ],
          [
           "Scrypt"
          ],
          [
           "Scrypt"
          ],
          [
           "Scrypt"
          ],
          [
           "Scrypt"
          ],
          [
           "Scrypt"
          ],
          [
           "Stanford Folding"
          ],
          [
           "Multiple"
          ],
          [
           "QuBit"
          ],
          [
           "Scrypt"
          ],
          [
           "Scrypt"
          ],
          [
           "M7 POW"
          ],
          [
           "Scrypt"
          ],
          [
           "SHA-256"
          ],
          [
           "Scrypt"
          ],
          [
           "SHA3"
          ],
          [
           "X11"
          ],
          [
           "Lyra2RE"
          ],
          [
           "SHA-256"
          ],
          [
           "X11"
          ],
          [
           "Scrypt"
          ],
          [
           "Scrypt"
          ],
          [
           "Ethash"
          ],
          [
           "Blake2b"
          ],
          [
           "X11"
          ],
          [
           "SHA-256"
          ],
          [
           "Scrypt"
          ],
          [
           "1GB AES Pattern Search"
          ],
          [
           "Scrypt"
          ],
          [
           "SHA-256"
          ],
          [
           "X11"
          ],
          [
           "Dagger"
          ],
          [
           "Scrypt"
          ],
          [
           "X11GOST"
          ],
          [
           "Scrypt"
          ],
          [
           "X11"
          ],
          [
           "Scrypt"
          ],
          [
           "X11"
          ],
          [
           "Equihash"
          ],
          [
           "CryptoNight"
          ],
          [
           "SHA-256"
          ],
          [
           "Multiple"
          ],
          [
           "Scrypt"
          ],
          [
           "SHA-256"
          ],
          [
           "Scrypt"
          ],
          [
           "Lyra2Z"
          ],
          [
           "Ethash"
          ],
          [
           "Equihash"
          ],
          [
           "Scrypt"
          ],
          [
           "X11"
          ],
          [
           "X11"
          ],
          [
           "CryptoNight"
          ],
          [
           "Scrypt"
          ],
          [
           "CryptoNight"
          ],
          [
           "Lyra2RE"
          ],
          [
           "X11"
          ],
          [
           "CryptoNight-V7"
          ],
          [
           "Scrypt"
          ],
          [
           "X11"
          ],
          [
           "Equihash"
          ],
          [
           "Scrypt"
          ],
          [
           "Lyra2RE"
          ],
          [
           "Dagger-Hashimoto"
          ],
          [
           "Scrypt"
          ],
          [
           "NIST5"
          ],
          [
           "Scrypt"
          ],
          [
           "SHA-256"
          ],
          [
           "Scrypt"
          ],
          [
           "CryptoNight-V7"
          ],
          [
           "Argon2d"
          ],
          [
           "Blake2b"
          ],
          [
           "Cloverhash"
          ],
          [
           "CryptoNight"
          ],
          [
           "X11"
          ],
          [
           "Scrypt"
          ],
          [
           "Scrypt"
          ],
          [
           "X11"
          ],
          [
           "X11"
          ],
          [
           "CryptoNight"
          ],
          [
           "Time Travel"
          ],
          [
           "Scrypt"
          ],
          [
           "Keccak"
          ],
          [
           "X11"
          ],
          [
           "SHA-256"
          ],
          [
           "Scrypt"
          ],
          [
           "Scrypt"
          ],
          [
           "Scrypt"
          ],
          [
           "Scrypt"
          ],
          [
           "Scrypt"
          ],
          [
           "Scrypt"
          ],
          [
           "CryptoNight"
          ],
          [
           "Equihash"
          ],
          [
           "X11"
          ],
          [
           "NeoScrypt"
          ],
          [
           "Equihash"
          ],
          [
           "Dagger"
          ],
          [
           "Scrypt"
          ],
          [
           "X11"
          ],
          [
           "NeoScrypt"
          ],
          [
           "Ethash"
          ],
          [
           "NeoScrypt"
          ],
          [
           "Multiple"
          ],
          [
           "CryptoNight"
          ],
          [
           "CryptoNight"
          ],
          [
           "Ethash"
          ],
          [
           "X11"
          ],
          [
           "CryptoNight-V7"
          ],
          [
           "Scrypt"
          ],
          [
           "BLAKE256"
          ],
          [
           "X11"
          ],
          [
           "NeoScrypt"
          ],
          [
           "NeoScrypt"
          ],
          [
           "Scrypt"
          ],
          [
           "X11"
          ],
          [
           "SHA-256"
          ],
          [
           "C11"
          ],
          [
           "CryptoNight"
          ],
          [
           "SkunkHash"
          ],
          [
           "CryptoNight"
          ],
          [
           "Scrypt"
          ],
          [
           "Dagger"
          ],
          [
           "Lyra2REv2"
          ],
          [
           "Scrypt"
          ],
          [
           "Scrypt"
          ],
          [
           "X11"
          ],
          [
           "Ethash"
          ],
          [
           "CryptoNight"
          ],
          [
           "Scrypt"
          ],
          [
           "IMesh"
          ],
          [
           "Equihash"
          ],
          [
           "Lyra2Z"
          ],
          [
           "X11"
          ],
          [
           "CryptoNight"
          ],
          [
           "NIST5"
          ],
          [
           "Lyra2RE"
          ],
          [
           "Tribus"
          ],
          [
           "Lyra2Z"
          ],
          [
           "CryptoNight"
          ],
          [
           "CryptoNight Heavy"
          ],
          [
           "CryptoNight"
          ],
          [
           "Jump Consistent Hash"
          ],
          [
           "CryptoNight"
          ],
          [
           "X16R"
          ],
          [
           "HMQ1725"
          ],
          [
           "X11"
          ],
          [
           "Scrypt"
          ],
          [
           "CryptoNight-V7"
          ],
          [
           "Cryptonight-GPU"
          ],
          [
           "XEVAN"
          ],
          [
           "CryptoNight Heavy"
          ],
          [
           "SHA-256"
          ],
          [
           "X11"
          ],
          [
           "X16R"
          ],
          [
           "Equihash"
          ],
          [
           "Lyra2Z"
          ],
          [
           "SHA-256"
          ],
          [
           "CryptoNight"
          ],
          [
           "Blake"
          ],
          [
           "Blake"
          ],
          [
           "Exosis"
          ],
          [
           "Scrypt"
          ],
          [
           "Equihash"
          ],
          [
           "Equihash"
          ],
          [
           "QuBit"
          ],
          [
           "SHA-256"
          ],
          [
           "X13"
          ],
          [
           "SHA-256"
          ],
          [
           "Scrypt"
          ],
          [
           "NeoScrypt"
          ],
          [
           "Blake"
          ],
          [
           "Scrypt"
          ],
          [
           "SHA-256"
          ],
          [
           "Scrypt"
          ],
          [
           "Groestl"
          ],
          [
           "Scrypt"
          ],
          [
           "Scrypt"
          ],
          [
           "Multiple"
          ],
          [
           "Equihash+Scrypt"
          ],
          [
           "Ethash"
          ],
          [
           "CryptoNight"
          ],
          [
           "Equihash"
          ]
         ],
         "hovertemplate": "<b>%{hovertext}</b><br><br>class=%{marker.color}<br>PC 1=%{x}<br>PC 2=%{y}<br>PC 3=%{z}<br>Algorithm=%{customdata[0]}<extra></extra>",
         "hovertext": [
          "Bitcoin",
          "Ethereum",
          "Litecoin",
          "Monero",
          "Ethereum Classic",
          "ZCash",
          "DigiByte",
          "ProsperCoin",
          "Spreadcoin",
          "Argentum",
          "MyriadCoin",
          "MoonCoin",
          "ZetaCoin",
          "SexCoin",
          "Quatloo",
          "QuarkCoin",
          "Riecoin",
          "Digitalcoin ",
          "Catcoin",
          "CannaCoin",
          "CryptCoin",
          "Verge",
          "DevCoin",
          "EarthCoin",
          "E-Gulden",
          "Einsteinium",
          "Emerald",
          "Franko",
          "FeatherCoin",
          "GrandCoin",
          "GlobalCoin",
          "GoldCoin",
          "Infinite Coin",
          "IXcoin",
          "KrugerCoin",
          "LuckyCoin",
          "Litebar ",
          "MegaCoin",
          "MediterraneanCoin",
          "MinCoin",
          "NobleCoin",
          "Namecoin",
          "NyanCoin",
          "RonPaulCoin",
          "StableCoin",
          "SmartCoin",
          "SysCoin",
          "TigerCoin",
          "TerraCoin",
          "UnbreakableCoin",
          "Unobtanium",
          "UroCoin",
          "ViaCoin",
          "Vertcoin",
          "WorldCoin",
          "JouleCoin",
          "ByteCoin",
          "DigitalNote ",
          "MonaCoin",
          "Gulden",
          "PesetaCoin",
          "Wild Beast Coin",
          "Flo",
          "ArtByte",
          "Folding Coin",
          "Unitus",
          "CypherPunkCoin",
          "OmniCron",
          "GreenCoin",
          "Cryptonite",
          "MasterCoin",
          "SoonCoin",
          "1Credit",
          "Nexus",
          "MarsCoin ",
          "Crypto",
          "Anarchists Prime",
          "BowsCoin",
          "Song Coin",
          "BitZeny",
          "Expanse",
          "Siacoin",
          "MindCoin",
          "I0coin",
          "Revolution VR",
          "HOdlcoin",
          "Gamecredits",
          "CarpeDiemCoin",
          "Adzcoin",
          "SoilCoin",
          "YoCoin",
          "SibCoin",
          "Francs",
          "BolivarCoin",
          "Omni",
          "PizzaCoin",
          "Komodo",
          "Karbo",
          "ZayedCoin",
          "Circuits of Value",
          "DopeCoin",
          "DollarCoin",
          "Shilling",
          "ZCoin",
          "Elementrem",
          "ZClassic",
          "KiloCoin",
          "ArtexCoin",
          "Kurrent",
          "Cannabis Industry Coin",
          "OsmiumCoin",
          "Bikercoins",
          "HexxCoin",
          "PacCoin",
          "Citadel",
          "BeaverCoin",
          "VaultCoin",
          "Zero",
          "Canada eCoin",
          "Zoin",
          "DubaiCoin",
          "EB3coin",
          "Coinonat",
          "BenjiRolls",
          "ILCoin",
          "EquiTrader",
          "Quantum Resistant Ledger",
          "Dynamic",
          "Nano",
          "ChanCoin",
          "Dinastycoin",
          "DigitalPrice",
          "Unify",
          "SocialCoin",
          "ArcticCoin",
          "DAS",
          "LeviarCoin",
          "Bitcore",
          "gCn Coin",
          "SmartCash",
          "Onix",
          "Bitcoin Cash",
          "Sojourn Coin",
          "NewYorkCoin",
          "FrazCoin",
          "Kronecoin",
          "AdCoin",
          "Linx",
          "Sumokoin",
          "BitcoinZ",
          "Elements",
          "VIVO Coin",
          "Bitcoin Gold",
          "Pirl",
          "eBoost",
          "Pura",
          "Innova",
          "Ellaism",
          "GoByte",
          "SHIELD",
          "UltraNote",
          "BitCoal",
          "DaxxCoin",
          "AC3",
          "Lethean",
          "PopularCoin",
          "Photon",
          "Sucre",
          "SparksPay",
          "GunCoin",
          "IrishCoin",
          "Pioneer Coin",
          "UnitedBitcoin",
          "Interzone",
          "TurtleCoin",
          "MUNcoin",
          "Niobio Cash",
          "ShareChain",
          "Travelflex",
          "KREDS",
          "BitFlip",
          "LottoCoin",
          "Crypto Improvement Fund",
          "Callisto Network",
          "BitTube",
          "Poseidon",
          "Aidos Kuneen",
          "Bitrolium",
          "Alpenschillling",
          "FuturoCoin",
          "Monero Classic",
          "Jumpcoin",
          "Infinex",
          "KEYCO",
          "GINcoin",
          "PlatinCoin",
          "Loki",
          "Newton Coin",
          "MassGrid",
          "PluraCoin",
          "Motion",
          "PlusOneCoin",
          "Axe",
          "HexCoin",
          "Webchain",
          "Ryo",
          "Urals Coin",
          "Qwertycoin",
          "Project Pai",
          "Azart",
          "Xchange",
          "CrypticCoin",
          "Actinium",
          "Bitcoin SV",
          "FREDEnergy",
          "Universal Molecule",
          "Lithium",
          "Exosis",
          "Block-Logic",
          "Beam",
          "Bithereum",
          "SLICE",
          "BLAST",
          "Bitcoin Rhodium",
          "GlobalToken",
          "SolarCoin",
          "UFO Coin",
          "BlakeCoin",
          "Crypto Escudo",
          "Crown Coin",
          "SmileyCoin",
          "Groestlcoin",
          "Bata",
          "Pakcoin",
          "JoinCoin",
          "Vollar",
          "Reality Clash",
          "Beldex",
          "Horizen"
         ],
         "legendgroup": "1",
         "marker": {
          "color": [
           1,
           1,
           1,
           1,
           1,
           1,
           1,
           1,
           1,
           1,
           1,
           1,
           1,
           1,
           1,
           1,
           1,
           1,
           1,
           1,
           1,
           1,
           1,
           1,
           1,
           1,
           1,
           1,
           1,
           1,
           1,
           1,
           1,
           1,
           1,
           1,
           1,
           1,
           1,
           1,
           1,
           1,
           1,
           1,
           1,
           1,
           1,
           1,
           1,
           1,
           1,
           1,
           1,
           1,
           1,
           1,
           1,
           1,
           1,
           1,
           1,
           1,
           1,
           1,
           1,
           1,
           1,
           1,
           1,
           1,
           1,
           1,
           1,
           1,
           1,
           1,
           1,
           1,
           1,
           1,
           1,
           1,
           1,
           1,
           1,
           1,
           1,
           1,
           1,
           1,
           1,
           1,
           1,
           1,
           1,
           1,
           1,
           1,
           1,
           1,
           1,
           1,
           1,
           1,
           1,
           1,
           1,
           1,
           1,
           1,
           1,
           1,
           1,
           1,
           1,
           1,
           1,
           1,
           1,
           1,
           1,
           1,
           1,
           1,
           1,
           1,
           1,
           1,
           1,
           1,
           1,
           1,
           1,
           1,
           1,
           1,
           1,
           1,
           1,
           1,
           1,
           1,
           1,
           1,
           1,
           1,
           1,
           1,
           1,
           1,
           1,
           1,
           1,
           1,
           1,
           1,
           1,
           1,
           1,
           1,
           1,
           1,
           1,
           1,
           1,
           1,
           1,
           1,
           1,
           1,
           1,
           1,
           1,
           1,
           1,
           1,
           1,
           1,
           1,
           1,
           1,
           1,
           1,
           1,
           1,
           1,
           1,
           1,
           1,
           1,
           1,
           1,
           1,
           1,
           1,
           1,
           1,
           1,
           1,
           1,
           1,
           1,
           1,
           1,
           1,
           1,
           1,
           1,
           1,
           1,
           1,
           1,
           1,
           1,
           1,
           1,
           1,
           1,
           1,
           1,
           1,
           1,
           1,
           1,
           1,
           1,
           1,
           1,
           1,
           1,
           1,
           1,
           1,
           1,
           1,
           1,
           1,
           1,
           1
          ],
          "coloraxis": "coloraxis",
          "opacity": 0.7,
          "symbol": "diamond"
         },
         "mode": "markers",
         "name": "1",
         "scene": "scene",
         "showlegend": true,
         "type": "scatter3d",
         "x": [
          1.16295691149853,
          1.8220381873914613,
          0.8424832689973825,
          1.8094200524869999,
          1.8225106468956322,
          1.7789333442838813,
          1.9543665251031983,
          0.842010609598214,
          0.7017980784129814,
          0.842138767270411,
          1.8568055242029746,
          1.6440549138671299,
          1.1641745695146735,
          0.8432224792383958,
          0.8421850953323264,
          0.3154814365004995,
          0.9139882402220921,
          0.842232164466869,
          0.8420192544775532,
          0.8419878522320857,
          0.7017572597070236,
          1.972018867503357,
          1.3184748664336334,
          0.9448046421205476,
          0.8421007845885157,
          0.8438620475729037,
          0.842115343202664,
          0.8419626672242986,
          1.2803866138035271,
          0.8501650138053697,
          0.8424697078906567,
          0.8423313896911062,
          1.5707010765866138,
          1.1629757429495182,
          0.8433887235488021,
          0.842089261703898,
          0.8419417885290928,
          0.8422473277655593,
          1.7965954022868125,
          0.8419878458922119,
          0.8873557551697072,
          1.1629379097222112,
          0.8446296060476857,
          0.8419828335300112,
          0.8425988139387967,
          0.8421917580298558,
          1.1680159880972625,
          1.1631637579021115,
          1.1630306026462651,
          1.1629869608498586,
          1.1628080037898878,
          0.7016970918473395,
          0.842118304470919,
          1.2118608591167266,
          0.8431991050308747,
          1.163133703197477,
          3.5379832341170294,
          2.118516324144616,
          0.8425580874801677,
          0.8479132885504361,
          0.843098897416499,
          0.8419389648467189,
          0.8431734154173897,
          0.8487409886573861,
          1.8064202499970483,
          1.8429616366078148,
          1.2099361912970303,
          0.8419998204293326,
          0.8902766054009911,
          1.8093252212070077,
          0.841937375083904,
          1.1629243688555055,
          1.0341081046959797,
          -1.7560071671800408,
          0.7019507211113454,
          1.805065940803209,
          1.1630064051162246,
          0.7018282408108047,
          0.8425654876515584,
          0.8429049083355927,
          1.8214947206720942,
          2.067362144555554,
          0.7018178194794146,
          1.1629751958304828,
          0.8436216495121595,
          1.7958747518298672,
          0.8425237457939928,
          1.3374469506796034,
          0.7021340083828709,
          1.8020866326633027,
          0.8422878446473593,
          1.795726124530855,
          0.8420132997898966,
          0.7018234366701692,
          0.8419373507103319,
          0.7017503293683719,
          0.9490228337832142,
          2.056564921115302,
          1.1628638057071972,
          1.851035728152006,
          0.8430460034741699,
          1.1628827395348384,
          0.8420612750874273,
          1.805065433318091,
          1.8216077033906046,
          1.7789228064797578,
          0.8639899974494297,
          0.707641436076141,
          0.7025316034333734,
          2.056547139324435,
          0.8419433858406126,
          2.0566053932405235,
          1.8048787369431332,
          0.9137738232657412,
          1.809769379817924,
          0.8419579625788858,
          0.703959715443359,
          1.7789222410871146,
          0.8427358677751107,
          1.8050009856626372,
          1.7954940627019969,
          0.8506695411583565,
          0.4296792156782932,
          0.8421273378096288,
          1.1758759170093331,
          0.8421642181068211,
          1.8099480710903146,
          1.7956657437547412,
          1.8717587371751587,
          1.795759384149463,
          2.0714509497944507,
          0.7021080485487721,
          0.8420806457196018,
          0.8421198317580066,
          0.7019703217756229,
          0.7017450013857895,
          2.0566945833505303,
          1.795720864239905,
          2.23073398770886,
          0.9469888114601491,
          0.7047170185786453,
          1.162957318923003,
          0.8638683192029017,
          1.6935689852266567,
          0.8420319588987831,
          0.8422117972206183,
          0.8423356965845058,
          0.8423420674518036,
          2.056736403998021,
          1.8537475471136684,
          0.7215459593176512,
          1.2785232941431448,
          1.7789918204328388,
          1.802518912912077,
          0.8427367407701586,
          0.7034644527981299,
          1.278574050459441,
          1.822057751857422,
          1.2785432440966071,
          1.8468213333623738,
          2.3488781547353033,
          2.0565503574397215,
          1.8453875378236113,
          0.703317076364707,
          1.814033137028174,
          0.8759843976365279,
          1.4141395630956977,
          0.7017564463685173,
          1.2785326848326248,
          1.2812718796368028,
          0.8423369407345694,
          0.7017884348450851,
          1.1629685020905713,
          0.9145229104921175,
          4.461817744082093,
          1.7955721301605,
          2.057996903081764,
          0.9223732281934753,
          1.8028380418288994,
          1.2175123388395535,
          0.8420900656800259,
          0.9666792301483901,
          0.7039926569472945,
          1.8364490859549292,
          2.0590630190413,
          0.8420004970470221,
          1.7958089278104878,
          1.7794166684842616,
          1.8057651378978012,
          0.7020881729101114,
          2.0566312672101734,
          0.4296874767863376,
          1.804931928606162,
          1.7955359693934534,
          1.8050391995018067,
          2.057751267724542,
          2.1523417404882137,
          2.686765893907856,
          1.7974575513674065,
          2.061921745595279,
          1.2100134156734244,
          1.795627115413404,
          0.7017635027332849,
          0.841987003311258,
          1.8130659056875487,
          1.7958299690769808,
          0.615933778671182,
          3.1301074493447163,
          1.1796988607111103,
          0.7017719942570859,
          1.2101858831232442,
          1.8199418850085833,
          1.8052323237690593,
          1.1629573006106937,
          2.084494170819478,
          1.8055217747493193,
          1.8054398648958614,
          1.7955427568156062,
          0.8423931835944363,
          1.7796069901995266,
          1.7790598055609574,
          1.2101841466423828,
          1.1632513936400715,
          0.20530231914992317,
          1.1636611035733497,
          1.0471805322527923,
          1.3095743803051032,
          1.8200539147099832,
          0.848667581304655,
          1.1630309095372757,
          1.1225546790268983,
          0.9141735405706989,
          0.841972925351407,
          0.8427275510686434,
          1.8425995694876245,
          1.8040287330567792,
          1.8215938869133628,
          2.0652597622412054,
          1.7789328290454427
         ],
         "y": [
          0.010059453586932849,
          0.04536464866657955,
          -0.07927226896646297,
          0.04572362559056424,
          0.04528499332966167,
          0.05520149903167057,
          0.014940237099585368,
          -0.07917087769736346,
          -0.009894420332960929,
          -0.07919454501510005,
          0.03498355728184192,
          -0.21033810644635081,
          0.009796258471146128,
          -0.07942088353742008,
          -0.07920008242353882,
          -0.023819675013229576,
          0.004560322678510974,
          -0.07921875284632854,
          -0.07917290214109811,
          -0.07916670811852915,
          -0.00988515656509856,
          0.01015060265576511,
          -0.023264139867794426,
          -0.1012542568585037,
          -0.07919199472942547,
          -0.07956330997593218,
          -0.07919378104647068,
          -0.07916109128785814,
          0.019937667267071215,
          -0.08087395730797912,
          -0.07927115887920208,
          -0.07923843640706903,
          -0.23644993971474823,
          0.01005504366847415,
          -0.07945753909614232,
          -0.07918944386415246,
          -0.07915766055177814,
          -0.07922321352559487,
          0.045426765580864975,
          -0.07916716992529857,
          -0.08757965270731782,
          0.01006390339190079,
          -0.07973756577856571,
          -0.07916437314304228,
          -0.07927483461538769,
          -0.07920884288119627,
          0.009002648836464875,
          0.010014852570615492,
          0.010045295160092399,
          0.01006112183632724,
          0.010091262991513755,
          -0.009873722364659351,
          -0.07919580241681133,
          0.01794131009158777,
          -0.07941313454107381,
          0.010021593876395375,
          -0.32566701690051186,
          -0.019000378286774606,
          -0.07928667368538084,
          -0.0803083801973568,
          -0.07940428017915276,
          -0.07915681074388495,
          -0.07942267290562206,
          -0.08060254028578977,
          0.042990589953943864,
          0.03793040620256279,
          0.01846176406709054,
          -0.07917095212921622,
          -0.08900137785498966,
          0.04244803816102682,
          -0.07915673480328543,
          0.010067074369967084,
          -0.11058491022453106,
          0.19002672078076044,
          -0.009928247865409948,
          0.04593789502934627,
          0.010052696827874267,
          -0.009901336169016377,
          -0.07927289671068015,
          -0.07934651530168026,
          0.04549441127102412,
          -0.023634125978818546,
          -0.009899633443846005,
          0.010055171791917035,
          -0.0795202623823388,
          0.0455879728617361,
          -0.07928174775663437,
          -0.027614587085306813,
          -0.009963644982413845,
          0.04577378185016978,
          -0.07921405919505184,
          0.045611317181265126,
          -0.07917165522710282,
          -0.009899620963036553,
          -0.07915672954258322,
          -0.00988250081441336,
          0.1670186291952511,
          -0.005966674795018508,
          0.01007959500185095,
          0.036216682671512936,
          -0.07938693398303724,
          0.010075294238589792,
          -0.0791814145535673,
          0.04593065506420617,
          0.045469325204684344,
          0.055203966757443254,
          -0.08284562290490469,
          -0.011191986674192415,
          -0.010035506656489375,
          -0.005960887688796103,
          -0.0791578333139485,
          -0.005973939315629389,
          0.045973502718559496,
          -0.044783001069411466,
          0.04566911651898738,
          -0.07916115159882886,
          -0.010256034824276191,
          0.05520350898000372,
          -0.07932906141532382,
          0.04594649770854091,
          0.04566801359040313,
          -0.08061153043862719,
          -0.02676296395675509,
          -0.07919607050639048,
          0.007399866118176637,
          -0.07919932469010296,
          0.04561546728512718,
          0.045620667651411186,
          0.02222216771072149,
          0.04560403980033841,
          -0.009159046064416976,
          -0.009955205030167679,
          -0.07918753289158575,
          -0.07918848773225207,
          -0.009928854200862175,
          -0.009882153140900733,
          -0.00599054690382866,
          0.045611863963683955,
          -0.37487394212364183,
          -0.002408537736798527,
          -0.010418624332423396,
          0.010059358176935106,
          -0.08274335597097578,
          -0.2785905267959611,
          -0.07917602478676954,
          -0.07920869614882453,
          -0.0792353499789913,
          -0.07923684189829776,
          -0.005995192712379604,
          0.040776978535620484,
          -0.014256316680649297,
          0.02032842500636766,
          0.055187805182542,
          0.04569118709911376,
          -0.07932926585187916,
          -0.010235959303248112,
          0.020319194785798706,
          0.04540137970348292,
          0.020324461375023636,
          0.03712392844301742,
          -0.06188025771108052,
          -0.005962895434634719,
          0.04137218630349874,
          -0.010171937922294216,
          0.044790809523044546,
          -0.08639217717325466,
          -0.1042094840355243,
          -0.009884700517740406,
          0.020325340639782297,
          0.01975455454579967,
          -0.07924095295351574,
          -0.009891719382844564,
          0.01005661626844067,
          0.004862586111044405,
          -0.4216812894564598,
          0.04565101562173468,
          -0.006253914311394271,
          -0.09651771259851831,
          0.0456081462309809,
          0.016767761555506234,
          -0.07918668123714094,
          -0.10565281163930784,
          -0.010337521532643716,
          0.04294897072930216,
          -0.00640560569934758,
          -0.07916850955662882,
          0.0455890936454099,
          0.055095544666248296,
          0.04580790543620991,
          -0.009950550585543304,
          -0.005980972236889356,
          -0.02676891942702504,
          0.04596344841514338,
          0.045661261850444196,
          0.045935190215538095,
          -0.006157439856942356,
          -0.055388759268184866,
          -0.12639929792832813,
          0.04518288005468285,
          -0.007075057618287643,
          0.018446341835505982,
          0.045637358689309265,
          -0.009886175911676008,
          -0.07916518653953439,
          0.045128049460709724,
          0.04560198568796675,
          0.020327587589496977,
          -0.25716483520007427,
          0.006445597384588024,
          -0.009887574262694956,
          0.018417451033650844,
          0.04671642976044999,
          0.045900809250361725,
          0.010059362465282122,
          -0.011316412425224937,
          0.045019474284368706,
          0.04502686824954394,
          0.04566029976905857,
          -0.07924586129232802,
          0.05507942212157085,
          0.055173343166471794,
          0.018418452793129148,
          0.009996836676408688,
          -0.055141984283061635,
          0.009916236157197453,
          -0.11274616522245794,
          0.01364312877442635,
          0.042633666820328105,
          -0.08058534987172841,
          0.010045223292856526,
          -0.13749407639755307,
          0.0045200277911567575,
          -0.07916441358261056,
          -0.07931501512917531,
          0.038015607615987566,
          0.0439649936729371,
          0.04547230730215076,
          -0.007797698047161775,
          0.05520161968936782
         ],
         "z": [
          0.5044444668314184,
          0.6606122715385688,
          -0.10480321251189575,
          0.6678753779905631,
          0.659383711335127,
          0.7467438878436632,
          0.17163848557325023,
          -0.10332724583290687,
          0.4905477713300946,
          -0.10368393880394385,
          0.4662261823845261,
          -2.1427913252195956,
          0.500619437343145,
          -0.10699828301275728,
          -0.10377854589404875,
          0.3094820800787464,
          0.4576518117734217,
          -0.10402306111676658,
          -0.10335617512896447,
          -0.10326428329925037,
          0.49068101041352674,
          0.10510566687967245,
          0.019230862591848544,
          -0.4246937282357614,
          -0.1036290081698172,
          -0.10905496382361417,
          -0.10365926388345623,
          -0.1031832001324682,
          0.5320260194119726,
          -0.1282659857102311,
          -0.1047813303254836,
          -0.10431469177548601,
          -2.389787433058891,
          0.5043814491073473,
          -0.10752872074686096,
          -0.103592126379676,
          -0.10312992469899,
          -0.10408415325451986,
          0.6625037405145501,
          -0.10326953253169895,
          -0.22992856548186644,
          0.5045080545336079,
          -0.11156107551766122,
          -0.10323429576744858,
          -0.10491124427142905,
          -0.10388275215150303,
          0.48896997883083054,
          0.5037959350499516,
          0.5042331143830118,
          0.5044429401478714,
          0.5049079442259939,
          0.49085214387852516,
          -0.10368427987648088,
          0.519108974588413,
          -0.10689417976271876,
          0.5038931333017671,
          -5.077585524926537,
          -0.6203109407153085,
          -0.10501813606528154,
          -0.12029541029133768,
          -0.10672507276411485,
          -0.10311833039882096,
          -0.1069851592376303,
          -0.12420660376519306,
          0.6200628813215443,
          0.5091965094726726,
          0.5292139912292092,
          -0.10332073034492899,
          -0.248095356480635,
          0.6099318486989633,
          -0.10311638168079694,
          0.5045533678024798,
          -0.5917783713806851,
          19.82002605130609,
          0.4900587868629442,
          0.6725223656506017,
          0.5043338282022433,
          0.49044851411806906,
          -0.10486645753815806,
          -0.10593556110455345,
          0.6624593102470892,
          -0.4535589513919176,
          0.49047499571452896,
          0.5043832799910349,
          -0.1084012092021312,
          0.6653789552225505,
          -0.10493866440043782,
          -0.04320627513744567,
          0.4895310356361942,
          0.6690428351706055,
          -0.10400766030758915,
          0.6658372535707511,
          -0.10333792679941442,
          0.4904713046810281,
          -0.1031163052026829,
          0.4907159515632952,
          1.5182191984343218,
          -0.4297643329508498,
          0.5047371303510461,
          0.48419148647532734,
          -0.10649164738392954,
          0.5046752845280783,
          -0.10348168686672424,
          0.6722182238879294,
          0.6620968324251552,
          0.7467791516389632,
          -0.16012963318627046,
          0.4717991843041831,
          0.4884422223402717,
          -0.429686364464382,
          -0.1031329800196238,
          -0.4298745919064768,
          0.6730551849394829,
          -0.05099452228252661,
          0.6670169061473586,
          -0.10318067591535172,
          0.48495896817653567,
          0.7467743297267913,
          -0.10562165537357443,
          0.6726645541640359,
          0.666828198857285,
          -0.1256248677736613,
          0.19060392188316,
          -0.10369349379129694,
          0.46537316796673667,
          -0.10375567980079134,
          0.6662846532522911,
          0.6660216271293996,
          0.20158107598462485,
          0.6657067687272487,
          -0.4762388744898026,
          0.48964476362799125,
          -0.10356450765981359,
          -0.10360210949415329,
          0.49003851417808714,
          0.4907235423995992,
          -0.43012438231741185,
          0.6658496734998931,
          -4.414900606554272,
          0.33633823488670983,
          0.48259257134156847,
          0.5044431034227818,
          -0.1588832047397069,
          -2.9530245188216555,
          -0.10340036779644685,
          -0.10389475710215876,
          -0.10428251917585638,
          -0.10430383869912423,
          -0.4302057707451416,
          0.5315979903083852,
          0.42745100489349613,
          0.5377427954168745,
          0.7465482027728552,
          0.6678082531250817,
          -0.10562457677145475,
          0.4855253028516482,
          0.5376031568188714,
          0.6610167771237744,
          0.5376840914629952,
          0.4973881894022214,
          -1.2653091822590723,
          -0.42971140072909464,
          0.599260678240543,
          0.48635418191365876,
          0.6541157299805698,
          -0.20866022716132232,
          -1.370865949325763,
          0.4906867534523193,
          0.5377012994153492,
          0.5293388302900336,
          -0.10434710813125506,
          0.4905850781059552,
          0.5044042801199907,
          0.4578074434413328,
          -6.800252450132052,
          0.6665230600122,
          -0.43400914263837864,
          -0.35550376172067044,
          0.6666458073637108,
          0.5019021583690594,
          -0.10356124707802739,
          -0.48965873098234947,
          0.4840094891028029,
          0.6232976843951076,
          -0.4364622867745215,
          -0.1032934051075605,
          0.6654565580593516,
          0.7452087335714473,
          0.670344353063054,
          0.48971127563037553,
          -0.4299722547857683,
          0.19053053472293374,
          0.6729045096814863,
          0.6666966709973133,
          0.6722877174436982,
          -0.43274402507881493,
          -1.3998056529745049,
          -2.229849336977501,
          0.6583700125326837,
          -0.44602875307116163,
          0.528948359371289,
          0.6662852281593584,
          0.4906651541586631,
          -0.10324639438881537,
          0.6586122162719887,
          0.6656119618559041,
          0.6450575066851019,
          -4.362430277463591,
          0.4519086427129587,
          0.4906434519996667,
          0.5285020077653269,
          0.6222338170937973,
          0.6717648135635005,
          0.5044431647032493,
          -0.5096816185680604,
          0.6527171717848995,
          0.6528571792799359,
          0.6666771560555104,
          -0.10444132444956516,
          0.7448954516381158,
          0.7463372902946953,
          0.5285520800712249,
          0.5035311842739926,
          -0.18908483195289755,
          0.5023346901655751,
          -0.6252852827055742,
          0.44050181031456637,
          0.6156596622489725,
          -0.12396095278998355,
          0.5042320874003856,
          -0.9582531642269999,
          0.45706696936771807,
          -0.10322799474346814,
          -0.10545618836833968,
          0.5104128336552666,
          0.6355808659184164,
          0.6621401850390468,
          -0.4565273513855531,
          0.7467456120418622
         ]
        },
        {
         "customdata": [
          [
           "SHA-256 + Hive"
          ]
         ],
         "hovertemplate": "<b>%{hovertext}</b><br><br>class=%{marker.color}<br>PC 1=%{x}<br>PC 2=%{y}<br>PC 3=%{z}<br>Algorithm=%{customdata[0]}<extra></extra>",
         "hovertext": [
          "LitecoinCash"
         ],
         "legendgroup": "2",
         "marker": {
          "color": [
           2
          ],
          "coloraxis": "coloraxis",
          "opacity": 0.7,
          "symbol": "square"
         },
         "mode": "markers",
         "name": "2",
         "scene": "scene",
         "showlegend": true,
         "type": "scatter3d",
         "x": [
          -1.0905083404769
         ],
         "y": [
          29.061572455764026
         ],
         "z": [
          -0.9541402674353987
         ]
        }
       ],
       "layout": {
        "coloraxis": {
         "colorbar": {
          "title": {
           "text": "class"
          }
         },
         "colorscale": [
          [
           0,
           "#0d0887"
          ],
          [
           0.1111111111111111,
           "#46039f"
          ],
          [
           0.2222222222222222,
           "#7201a8"
          ],
          [
           0.3333333333333333,
           "#9c179e"
          ],
          [
           0.4444444444444444,
           "#bd3786"
          ],
          [
           0.5555555555555556,
           "#d8576b"
          ],
          [
           0.6666666666666666,
           "#ed7953"
          ],
          [
           0.7777777777777778,
           "#fb9f3a"
          ],
          [
           0.8888888888888888,
           "#fdca26"
          ],
          [
           1,
           "#f0f921"
          ]
         ]
        },
        "height": 800,
        "legend": {
         "title": {
          "text": "class"
         },
         "tracegroupgap": 0,
         "x": 0,
         "y": 1
        },
        "margin": {
         "t": 60
        },
        "scene": {
         "aspectmode": "auto",
         "aspectratio": {
          "x": 1,
          "y": 1,
          "z": 1
         },
         "camera": {
          "center": {
           "x": 0,
           "y": 0,
           "z": 0
          },
          "eye": {
           "x": 1.4372816887794237,
           "y": 1.4372816887794235,
           "z": 1.4372816887794235
          },
          "projection": {
           "type": "perspective"
          },
          "up": {
           "x": 0,
           "y": 0,
           "z": 1
          }
         },
         "domain": {
          "x": [
           0,
           1
          ],
          "y": [
           0,
           1
          ]
         },
         "xaxis": {
          "title": {
           "text": "PC 1"
          },
          "type": "linear"
         },
         "yaxis": {
          "title": {
           "text": "PC 2"
          },
          "type": "linear"
         },
         "zaxis": {
          "title": {
           "text": "PC 3"
          },
          "type": "linear"
         }
        },
        "template": {
         "data": {
          "bar": [
           {
            "error_x": {
             "color": "#2a3f5f"
            },
            "error_y": {
             "color": "#2a3f5f"
            },
            "marker": {
             "line": {
              "color": "#E5ECF6",
              "width": 0.5
             },
             "pattern": {
              "fillmode": "overlay",
              "size": 10,
              "solidity": 0.2
             }
            },
            "type": "bar"
           }
          ],
          "barpolar": [
           {
            "marker": {
             "line": {
              "color": "#E5ECF6",
              "width": 0.5
             },
             "pattern": {
              "fillmode": "overlay",
              "size": 10,
              "solidity": 0.2
             }
            },
            "type": "barpolar"
           }
          ],
          "carpet": [
           {
            "aaxis": {
             "endlinecolor": "#2a3f5f",
             "gridcolor": "white",
             "linecolor": "white",
             "minorgridcolor": "white",
             "startlinecolor": "#2a3f5f"
            },
            "baxis": {
             "endlinecolor": "#2a3f5f",
             "gridcolor": "white",
             "linecolor": "white",
             "minorgridcolor": "white",
             "startlinecolor": "#2a3f5f"
            },
            "type": "carpet"
           }
          ],
          "choropleth": [
           {
            "colorbar": {
             "outlinewidth": 0,
             "ticks": ""
            },
            "type": "choropleth"
           }
          ],
          "contour": [
           {
            "colorbar": {
             "outlinewidth": 0,
             "ticks": ""
            },
            "colorscale": [
             [
              0,
              "#0d0887"
             ],
             [
              0.1111111111111111,
              "#46039f"
             ],
             [
              0.2222222222222222,
              "#7201a8"
             ],
             [
              0.3333333333333333,
              "#9c179e"
             ],
             [
              0.4444444444444444,
              "#bd3786"
             ],
             [
              0.5555555555555556,
              "#d8576b"
             ],
             [
              0.6666666666666666,
              "#ed7953"
             ],
             [
              0.7777777777777778,
              "#fb9f3a"
             ],
             [
              0.8888888888888888,
              "#fdca26"
             ],
             [
              1,
              "#f0f921"
             ]
            ],
            "type": "contour"
           }
          ],
          "contourcarpet": [
           {
            "colorbar": {
             "outlinewidth": 0,
             "ticks": ""
            },
            "type": "contourcarpet"
           }
          ],
          "heatmap": [
           {
            "colorbar": {
             "outlinewidth": 0,
             "ticks": ""
            },
            "colorscale": [
             [
              0,
              "#0d0887"
             ],
             [
              0.1111111111111111,
              "#46039f"
             ],
             [
              0.2222222222222222,
              "#7201a8"
             ],
             [
              0.3333333333333333,
              "#9c179e"
             ],
             [
              0.4444444444444444,
              "#bd3786"
             ],
             [
              0.5555555555555556,
              "#d8576b"
             ],
             [
              0.6666666666666666,
              "#ed7953"
             ],
             [
              0.7777777777777778,
              "#fb9f3a"
             ],
             [
              0.8888888888888888,
              "#fdca26"
             ],
             [
              1,
              "#f0f921"
             ]
            ],
            "type": "heatmap"
           }
          ],
          "heatmapgl": [
           {
            "colorbar": {
             "outlinewidth": 0,
             "ticks": ""
            },
            "colorscale": [
             [
              0,
              "#0d0887"
             ],
             [
              0.1111111111111111,
              "#46039f"
             ],
             [
              0.2222222222222222,
              "#7201a8"
             ],
             [
              0.3333333333333333,
              "#9c179e"
             ],
             [
              0.4444444444444444,
              "#bd3786"
             ],
             [
              0.5555555555555556,
              "#d8576b"
             ],
             [
              0.6666666666666666,
              "#ed7953"
             ],
             [
              0.7777777777777778,
              "#fb9f3a"
             ],
             [
              0.8888888888888888,
              "#fdca26"
             ],
             [
              1,
              "#f0f921"
             ]
            ],
            "type": "heatmapgl"
           }
          ],
          "histogram": [
           {
            "marker": {
             "pattern": {
              "fillmode": "overlay",
              "size": 10,
              "solidity": 0.2
             }
            },
            "type": "histogram"
           }
          ],
          "histogram2d": [
           {
            "colorbar": {
             "outlinewidth": 0,
             "ticks": ""
            },
            "colorscale": [
             [
              0,
              "#0d0887"
             ],
             [
              0.1111111111111111,
              "#46039f"
             ],
             [
              0.2222222222222222,
              "#7201a8"
             ],
             [
              0.3333333333333333,
              "#9c179e"
             ],
             [
              0.4444444444444444,
              "#bd3786"
             ],
             [
              0.5555555555555556,
              "#d8576b"
             ],
             [
              0.6666666666666666,
              "#ed7953"
             ],
             [
              0.7777777777777778,
              "#fb9f3a"
             ],
             [
              0.8888888888888888,
              "#fdca26"
             ],
             [
              1,
              "#f0f921"
             ]
            ],
            "type": "histogram2d"
           }
          ],
          "histogram2dcontour": [
           {
            "colorbar": {
             "outlinewidth": 0,
             "ticks": ""
            },
            "colorscale": [
             [
              0,
              "#0d0887"
             ],
             [
              0.1111111111111111,
              "#46039f"
             ],
             [
              0.2222222222222222,
              "#7201a8"
             ],
             [
              0.3333333333333333,
              "#9c179e"
             ],
             [
              0.4444444444444444,
              "#bd3786"
             ],
             [
              0.5555555555555556,
              "#d8576b"
             ],
             [
              0.6666666666666666,
              "#ed7953"
             ],
             [
              0.7777777777777778,
              "#fb9f3a"
             ],
             [
              0.8888888888888888,
              "#fdca26"
             ],
             [
              1,
              "#f0f921"
             ]
            ],
            "type": "histogram2dcontour"
           }
          ],
          "mesh3d": [
           {
            "colorbar": {
             "outlinewidth": 0,
             "ticks": ""
            },
            "type": "mesh3d"
           }
          ],
          "parcoords": [
           {
            "line": {
             "colorbar": {
              "outlinewidth": 0,
              "ticks": ""
             }
            },
            "type": "parcoords"
           }
          ],
          "pie": [
           {
            "automargin": true,
            "type": "pie"
           }
          ],
          "scatter": [
           {
            "marker": {
             "colorbar": {
              "outlinewidth": 0,
              "ticks": ""
             }
            },
            "type": "scatter"
           }
          ],
          "scatter3d": [
           {
            "line": {
             "colorbar": {
              "outlinewidth": 0,
              "ticks": ""
             }
            },
            "marker": {
             "colorbar": {
              "outlinewidth": 0,
              "ticks": ""
             }
            },
            "type": "scatter3d"
           }
          ],
          "scattercarpet": [
           {
            "marker": {
             "colorbar": {
              "outlinewidth": 0,
              "ticks": ""
             }
            },
            "type": "scattercarpet"
           }
          ],
          "scattergeo": [
           {
            "marker": {
             "colorbar": {
              "outlinewidth": 0,
              "ticks": ""
             }
            },
            "type": "scattergeo"
           }
          ],
          "scattergl": [
           {
            "marker": {
             "colorbar": {
              "outlinewidth": 0,
              "ticks": ""
             }
            },
            "type": "scattergl"
           }
          ],
          "scattermapbox": [
           {
            "marker": {
             "colorbar": {
              "outlinewidth": 0,
              "ticks": ""
             }
            },
            "type": "scattermapbox"
           }
          ],
          "scatterpolar": [
           {
            "marker": {
             "colorbar": {
              "outlinewidth": 0,
              "ticks": ""
             }
            },
            "type": "scatterpolar"
           }
          ],
          "scatterpolargl": [
           {
            "marker": {
             "colorbar": {
              "outlinewidth": 0,
              "ticks": ""
             }
            },
            "type": "scatterpolargl"
           }
          ],
          "scatterternary": [
           {
            "marker": {
             "colorbar": {
              "outlinewidth": 0,
              "ticks": ""
             }
            },
            "type": "scatterternary"
           }
          ],
          "surface": [
           {
            "colorbar": {
             "outlinewidth": 0,
             "ticks": ""
            },
            "colorscale": [
             [
              0,
              "#0d0887"
             ],
             [
              0.1111111111111111,
              "#46039f"
             ],
             [
              0.2222222222222222,
              "#7201a8"
             ],
             [
              0.3333333333333333,
              "#9c179e"
             ],
             [
              0.4444444444444444,
              "#bd3786"
             ],
             [
              0.5555555555555556,
              "#d8576b"
             ],
             [
              0.6666666666666666,
              "#ed7953"
             ],
             [
              0.7777777777777778,
              "#fb9f3a"
             ],
             [
              0.8888888888888888,
              "#fdca26"
             ],
             [
              1,
              "#f0f921"
             ]
            ],
            "type": "surface"
           }
          ],
          "table": [
           {
            "cells": {
             "fill": {
              "color": "#EBF0F8"
             },
             "line": {
              "color": "white"
             }
            },
            "header": {
             "fill": {
              "color": "#C8D4E3"
             },
             "line": {
              "color": "white"
             }
            },
            "type": "table"
           }
          ]
         },
         "layout": {
          "annotationdefaults": {
           "arrowcolor": "#2a3f5f",
           "arrowhead": 0,
           "arrowwidth": 1
          },
          "autotypenumbers": "strict",
          "coloraxis": {
           "colorbar": {
            "outlinewidth": 0,
            "ticks": ""
           }
          },
          "colorscale": {
           "diverging": [
            [
             0,
             "#8e0152"
            ],
            [
             0.1,
             "#c51b7d"
            ],
            [
             0.2,
             "#de77ae"
            ],
            [
             0.3,
             "#f1b6da"
            ],
            [
             0.4,
             "#fde0ef"
            ],
            [
             0.5,
             "#f7f7f7"
            ],
            [
             0.6,
             "#e6f5d0"
            ],
            [
             0.7,
             "#b8e186"
            ],
            [
             0.8,
             "#7fbc41"
            ],
            [
             0.9,
             "#4d9221"
            ],
            [
             1,
             "#276419"
            ]
           ],
           "sequential": [
            [
             0,
             "#0d0887"
            ],
            [
             0.1111111111111111,
             "#46039f"
            ],
            [
             0.2222222222222222,
             "#7201a8"
            ],
            [
             0.3333333333333333,
             "#9c179e"
            ],
            [
             0.4444444444444444,
             "#bd3786"
            ],
            [
             0.5555555555555556,
             "#d8576b"
            ],
            [
             0.6666666666666666,
             "#ed7953"
            ],
            [
             0.7777777777777778,
             "#fb9f3a"
            ],
            [
             0.8888888888888888,
             "#fdca26"
            ],
            [
             1,
             "#f0f921"
            ]
           ],
           "sequentialminus": [
            [
             0,
             "#0d0887"
            ],
            [
             0.1111111111111111,
             "#46039f"
            ],
            [
             0.2222222222222222,
             "#7201a8"
            ],
            [
             0.3333333333333333,
             "#9c179e"
            ],
            [
             0.4444444444444444,
             "#bd3786"
            ],
            [
             0.5555555555555556,
             "#d8576b"
            ],
            [
             0.6666666666666666,
             "#ed7953"
            ],
            [
             0.7777777777777778,
             "#fb9f3a"
            ],
            [
             0.8888888888888888,
             "#fdca26"
            ],
            [
             1,
             "#f0f921"
            ]
           ]
          },
          "colorway": [
           "#636efa",
           "#EF553B",
           "#00cc96",
           "#ab63fa",
           "#FFA15A",
           "#19d3f3",
           "#FF6692",
           "#B6E880",
           "#FF97FF",
           "#FECB52"
          ],
          "font": {
           "color": "#2a3f5f"
          },
          "geo": {
           "bgcolor": "white",
           "lakecolor": "white",
           "landcolor": "#E5ECF6",
           "showlakes": true,
           "showland": true,
           "subunitcolor": "white"
          },
          "hoverlabel": {
           "align": "left"
          },
          "hovermode": "closest",
          "mapbox": {
           "style": "light"
          },
          "paper_bgcolor": "white",
          "plot_bgcolor": "#E5ECF6",
          "polar": {
           "angularaxis": {
            "gridcolor": "white",
            "linecolor": "white",
            "ticks": ""
           },
           "bgcolor": "#E5ECF6",
           "radialaxis": {
            "gridcolor": "white",
            "linecolor": "white",
            "ticks": ""
           }
          },
          "scene": {
           "xaxis": {
            "backgroundcolor": "#E5ECF6",
            "gridcolor": "white",
            "gridwidth": 2,
            "linecolor": "white",
            "showbackground": true,
            "ticks": "",
            "zerolinecolor": "white"
           },
           "yaxis": {
            "backgroundcolor": "#E5ECF6",
            "gridcolor": "white",
            "gridwidth": 2,
            "linecolor": "white",
            "showbackground": true,
            "ticks": "",
            "zerolinecolor": "white"
           },
           "zaxis": {
            "backgroundcolor": "#E5ECF6",
            "gridcolor": "white",
            "gridwidth": 2,
            "linecolor": "white",
            "showbackground": true,
            "ticks": "",
            "zerolinecolor": "white"
           }
          },
          "shapedefaults": {
           "line": {
            "color": "#2a3f5f"
           }
          },
          "ternary": {
           "aaxis": {
            "gridcolor": "white",
            "linecolor": "white",
            "ticks": ""
           },
           "baxis": {
            "gridcolor": "white",
            "linecolor": "white",
            "ticks": ""
           },
           "bgcolor": "#E5ECF6",
           "caxis": {
            "gridcolor": "white",
            "linecolor": "white",
            "ticks": ""
           }
          },
          "title": {
           "x": 0.05
          },
          "xaxis": {
           "automargin": true,
           "gridcolor": "white",
           "linecolor": "white",
           "ticks": "",
           "title": {
            "standoff": 15
           },
           "zerolinecolor": "white",
           "zerolinewidth": 2
          },
          "yaxis": {
           "automargin": true,
           "gridcolor": "white",
           "linecolor": "white",
           "ticks": "",
           "title": {
            "standoff": 15
           },
           "zerolinecolor": "white",
           "zerolinewidth": 2
          }
         }
        },
        "width": 800
       }
      },
      "image/png": "[encoded data removed]",
      "text/html": [
       "<div>                            <div id=\"da4ece7d-01df-4ead-8b63-808692310ccb\" class=\"plotly-graph-div\" style=\"height:800px; width:800px;\"></div>            <script type=\"text/javascript\">                require([\"plotly\"], function(Plotly) {                    window.PLOTLYENV=window.PLOTLYENV || {};                                    if (document.getElementById(\"da4ece7d-01df-4ead-8b63-808692310ccb\")) {                    Plotly.newPlot(                        \"da4ece7d-01df-4ead-8b63-808692310ccb\",                        [{\"customdata\":[[\"Scrypt\"],[\"Scrypt\"],[\"X13\"],[\"X11\"],[\"SHA-256\"],[\"X15\"],[\"Scrypt\"],[\"Scrypt\"],[\"Scrypt\"],[\"Scrypt\"],[\"Scrypt\"],[\"Groestl\"],[\"Scrypt\"],[\"Scrypt\"],[\"X11\"],[\"SHA3\"],[\"SHA-256\"],[\"X13\"],[\"X13\"],[\"NeoScrypt\"],[\"Scrypt\"],[\"Scrypt\"],[\"Scrypt\"],[\"X11\"],[\"X11\"],[\"Scrypt\"],[\"Scrypt\"],[\"X11\"],[\"X13\"],[\"Scrypt\"],[\"SHA-256\"],[\"Groestl\"],[\"X13\"],[\"Scrypt\"],[\"X13\"],[\"Scrypt\"],[\"X11\"],[\"QUAIT\"],[\"X11\"],[\"X13\"],[\"SHA-256\"],[\"X15\"],[\"BLAKE256\"],[\"SHA-256\"],[\"X11\"],[\"SHA-256\"],[\"NIST5\"],[\"Scrypt\"],[\"X11\"],[\"SHA-256\"],[\"X11\"],[\"SHA-256\"],[\"SHA-256\"],[\"NIST5\"],[\"X11\"],[\"Scrypt\"],[\"Scrypt\"],[\"Scrypt\"],[\"X11\"],[\"Scrypt\"],[\"SHA-256\"],[\"X11\"],[\"Scrypt\"],[\"Scrypt\"],[\"Scrypt\"],[\"SHA-256D\"],[\"Scrypt\"],[\"X11\"],[\"X14\"],[\"SHA-256D\"],[\"X11\"],[\"X13\"],[\"X11\"],[\"Scrypt\"],[\"Scrypt\"],[\"X11\"],[\"SHA-256\"],[\"Scrypt\"],[\"Scrypt\"],[\"Scrypt\"],[\"X11\"],[\"Scrypt\"],[\"Scrypt\"],[\"Scrypt\"],[\"QuBit\"],[\"Scrypt\"],[\"SHA-256\"],[\"X11\"],[\"Scrypt\"],[\"Scrypt\"],[\"Scrypt\"],[\"Scrypt\"],[\"X11\"],[\"Blake2S\"],[\"X11\"],[\"X11\"],[\"X11\"],[\"Scrypt\"],[\"Scrypt\"],[\"Scrypt\"],[\"X11\"],[\"Scrypt\"],[\"X15\"],[\"536\"],[\"NIST5\"],[\"NIST5\"],[\"Skein\"],[\"X13\"],[\"Scrypt\"],[\"X13\"],[\"Skein\"],[\"X11\"],[\"Scrypt\"],[\"Scrypt\"],[\"X11\"],[\"NeoScrypt\"],[\"Scrypt\"],[\"Scrypt\"],[\"SHA-256\"],[\"NIST5\"],[\"PHI1612\"],[\"Scrypt\"],[\"Quark\"],[\"Scrypt\"],[\"X11\"],[\"NIST5\"],[\"X13\"],[\"Scrypt\"],[\"Scrypt\"],[\"Scrypt\"],[\"X11\"],[\"Scrypt\"],[\"Scrypt\"],[\"Scrypt\"],[\"Scrypt\"],[\"C11\"],[\"X11\"],[\"XEVAN\"],[\"NIST5\"],[\"Scrypt\"],[\"Scrypt\"],[\"Scrypt\"],[\"Quark\"],[\"Scrypt\"],[\"XEVAN\"],[\"Scrypt\"],[\"SHA-256D\"],[\"Scrypt\"],[\"Scrypt\"],[\"X16R\"],[\"Quark\"],[\"Lyra2REv2\"],[\"Scrypt\"],[\"X11\"],[\"Keccak\"],[\"Scrypt\"],[\"Quark\"],[\"Scrypt\"],[\"Quark\"],[\"Scrypt\"],[\"Scrypt\"],[\"XEVAN\"],[\"SHA-256D\"],[\"X11\"],[\"X11\"],[\"Scrypt\"],[\"X11\"],[\"Scrypt\"],[\"Scrypt\"],[\"Scrypt\"],[\"X11\"],[\"Scrypt\"],[\"SHA-256\"],[\"X11\"],[\"Scrypt\"],[\"Scrypt\"],[\"X11\"],[\"Scrypt\"],[\"SHA-256\"],[\"Scrypt\"],[\"NeoScrypt\"],[\"X13\"],[\"Scrypt\"]],\"hovertemplate\":\"<b>%{hovertext}</b><br><br>class=%{marker.color}<br>PC 1=%{x}<br>PC 2=%{y}<br>PC 3=%{z}<br>Algorithm=%{customdata[0]}<extra></extra>\",\"hovertext\":[\"42 Coin\",\"404Coin\",\"EliteCoin\",\"Dash\",\"BitcoinDark\",\"KoboCoin\",\"Aurora Coin\",\"BlueCoin\",\"EnergyCoin\",\"BitBar\",\"CryptoBullion\",\"Diamond\",\"FlutterCoin\",\"HoboNickels\",\"IOCoin\",\"MaxCoin\",\"MazaCoin\",\"NavCoin\",\"OpalCoin\",\"Orbitcoin\",\"PotCoin\",\"PhoenixCoin\",\"Reddcoin\",\"SyncCoin\",\"TorCoin\",\"UnitaryStatus Dollar\",\"UltraCoin\",\"X11 Coin\",\"StealthCoin\",\"ZCC Coin\",\"Neutron\",\"FairCoin\",\"Kore\",\"8BIT Coin\",\"Sativa Coin\",\"Vtorrent\",\"IslaCoin\",\"Droidz\",\"Squall Coin\",\"Paycon\",\"Emercoin\",\"EverGreenCoin\",\"Decred\",\"EDRCoin\",\"Hitcoin\",\"DubaiCoin\",\"PWR Coin\",\"BillaryCoin\",\"EuropeCoin\",\"SwingCoin\",\"Ratecoin\",\"Revenu\",\"Clockcoin\",\"VIP Tokens\",\"BitSend\",\"PutinCoin\",\"iBankCoin\",\"Frankywillcoin\",\"GoldBlocks\",\"CarterCoin\",\"BitTokens\",\"MustangCoin\",\"ZoneCoin\",\"RootCoin\",\"Swiscoin\",\"BuzzCoin\",\"PesoBit\",\"Halloween Coin\",\"GanjaCoin V2\",\"LanaCoin\",\"InsaneCoin\",\"EmberCoin\",\"XenixCoin\",\"PLNCoin\",\"AquariusCoin\",\"Eternity\",\"Eurocoin\",\"BitcoinFast\",\"BitConnect Coin\",\"MoneyCoin\",\"Enigma\",\"Russiacoin\",\"GameUnits\",\"GAKHcoin\",\"LiteCreed\",\"Klingon Empire Darsek\",\"Internet of People\",\"KushCoin\",\"Printerium\",\"Impeach\",\"FirstCoin\",\"OpenChat\",\"VirtacoinPlus\",\"TajCoin\",\"Impact\",\"HappyCoin\",\"Condensate\",\"Independent Money System\",\"ArgusCoin\",\"LomoCoin\",\"GoldReserve\",\"Degas Coin\",\"HTML5 Coin\",\"Espers\",\"Denarius\",\"Virta Unique Coin\",\"Bitcoin Planet\",\"BritCoin\",\"Linda\",\"DeepOnion\",\"Cream\",\"Monoeci\",\"CoinonatX\",\"Ethereum Dark\",\"Regalcoin\",\"TrezarCoin\",\"TerraNovaCoin\",\"WomenCoin\",\"Theresa May Coin\",\"NamoCoin\",\"LUXCoin\",\"Xios\",\"Bitcloud 2.0\",\"BlackholeCoin\",\"Magnet\",\"Electra\",\"Bitcoin Diamond\",\"Cash & Back Coin\",\"GermanCoin\",\"LiteCoin Ultra\",\"PhantomX\",\"Trollcoin\",\"Litecoin Plus\",\"My Big Coin\",\"Unified Society USDEX\",\"Stipend\",\"Pushi\",\"Ellerium\",\"Bitspace\",\"Briacoin\",\"Ignition\",\"Abjcoin\",\"Carebit\",\"iDealCash\",\"Bitcoin Incognito\",\"Swisscoin\",\"TheVig\",\"EmaratCoin\",\"Lynx\",\"Trivechain\",\"Giant\",\"Absolute Coin\",\"TPCash\",\"EUNO\",\"XDNA\",\"ThunderStake\",\"HerbCoin\",\"Oduwa\",\"Galilel\",\"Credit\",\"Nasdacoin\",\"Beetle Coin\",\"Titan Coin\",\"Award\",\"Insane Coin\",\"LiteDoge\",\"TruckCoin\",\"OrangeCoin\",\"BitstarCoin\",\"HyperCoin\",\"PinkCoin\",\"AudioCoin\",\"IncaKoin\",\"Piggy Coin\",\"Genstake\",\"XiaoMiCoin\",\"CapriCoin\",\" ClubCoin\",\"OKCash\",\"WhiteCoin\",\"FriendshipCoin\",\"Triangles Coin\",\"Gapcoin\"],\"legendgroup\":\"0\",\"marker\":{\"color\":[0,0,0,0,0,0,0,0,0,0,0,0,0,0,0,0,0,0,0,0,0,0,0,0,0,0,0,0,0,0,0,0,0,0,0,0,0,0,0,0,0,0,0,0,0,0,0,0,0,0,0,0,0,0,0,0,0,0,0,0,0,0,0,0,0,0,0,0,0,0,0,0,0,0,0,0,0,0,0,0,0,0,0,0,0,0,0,0,0,0,0,0,0,0,0,0,0,0,0,0,0,0,0,0,0,0,0,0,0,0,0,0,0,0,0,0,0,0,0,0,0,0,0,0,0,0,0,0,0,0,0,0,0,0,0,0,0,0,0,0,0,0,0,0,0,0,0,0,0,0,0,0,0,0,0,0,0,0,0,0,0,0,0,0,0,0,0,0,0,0,0,0,0,0,0,0,0,0,0,0,0,0,0],\"coloraxis\":\"coloraxis\",\"opacity\":0.7,\"symbol\":\"circle\"},\"mode\":\"markers\",\"name\":\"0\",\"scene\":\"scene\",\"showlegend\":true,\"type\":\"scatter3d\",\"x\":[-1.6067444921911105,-1.5993493573357807,-1.412785468278851,-1.7468872441257142,-1.2858169689832224,-2.3176331716284357,-1.6066014667296837,-1.6029604015739085,-1.6060116261185955,-1.6067431945283193,-1.6067362154969647,-1.5351303532568803,-0.6589460313341337,-1.6059622247541017,-1.746835912369763,-2.242064082581457,-1.2712064738092903,-2.2429923579021684,-2.24329566176252,-1.170207744349387,-1.6045410785074277,-1.6060993402118686,-1.4321637558477947,-1.746986973334683,-1.7469575668336614,-1.5968578077204276,-1.6062364445763344,-1.7469340999503467,-2.243188840779197,-1.6037743169432537,-1.2854955784423356,-1.5348424003079129,-2.24334881073235,-1.6067357512086393,-2.243322769454714,-1.6066336066082048,-1.7469779679881312,-2.4143305933707704,-0.9374500715503313,-2.2431442544108746,-1.2835253079713123,-2.3183808740386898,-1.4016198957902106,-1.2858027906108258,-1.6260422047124026,-1.2858181219205507,-1.9591929330429922,-1.6066031708564417,-1.7461228823001693,-1.2857609784539181,-1.7460290132121812,-1.2853982382552707,-1.2846747166880113,-2.018473783205995,-1.7465513964557646,-1.5977246249558321,-1.6066249311022078,-1.6059400841665388,-1.746789853063434,-1.606299434889291,-1.2858231873920287,-1.7469767994796241,-1.606685250246726,-1.6067329400575836,-0.6457308362877329,-2.2327640548581322,-1.6065448558480484,-1.74227747211998,-2.413053506523781,-2.369007848002928,-1.746815081070987,-1.6925815813601495,-1.7469559859500157,-1.6065622154591959,-1.606642172598688,-1.74682550567027,-1.2857548788185575,-1.606555002451781,-1.606620016256891,-1.6053203569614851,-1.7469716865817893,-1.606393804482371,-1.6066966549515753,-1.6067178200449679,-1.2384339111315468,-1.6055573430306311,-1.2858116899440777,-1.746933742045802,-1.6066323142891055,-1.606696841576285,-0.6621532167604411,-1.5987004089047228,-1.7466997092548917,-2.414179222692699,-1.7460983791340179,-1.7466499320900752,-1.7452180071837173,-1.606668210163689,-1.606677912586634,-1.6046526541847266,-1.7468011685963658,-1.6063979659517142,-1.8883853917784201,-2.001414163173279,-2.01911301630529,-2.0185332490483816,-2.41805179792802,-2.243196599240015,-1.4484368760846065,-2.243215924880691,-2.417810447986759,-1.7468922703077918,-1.6065273382191378,-1.6067107073777422,-1.746887333970164,-1.1683116021684858,-1.6067048344567738,-1.265936014543567,-1.285113530275214,-2.0133138346229935,-2.414135973420098,-1.6066878245823875,-2.1346564510753723,-1.6066161592774424,-1.7464587053409417,-1.7873696550220608,-2.241854274510064,-1.605644939139476,-1.4730523770536315,-1.6063810240016105,-1.7466135168822434,-1.6013448456711938,-1.606721222312317,-0.6634705239384141,-1.6048613149809987,-1.534165579665067,-1.7469218510209514,-1.8331417546689073,-2.0189721936380507,-1.6067331899851,-1.6067270082377156,-1.6066229861130767,-2.1340071647601566,-1.5876833786875884,-1.0236258252069526,-1.5246948395617081,-2.3907245294968287,-1.6064403993453493,0.46402029523897154,-1.2383656595175623,-2.1352111057480663,-1.2371071766963355,-1.6046234509478472,-1.7466992904823933,-1.524685736779631,-1.5628327365350259,-2.1349340269342134,-1.606612622853144,-2.1351085815867537,-1.2669237358788004,-1.6064466690722967,-1.8310404318335243,-2.3753490221520464,-1.7460178299913514,-1.7467827254676898,-1.4424069798648733,-1.7455423995685404,-1.606305655865754,-1.6065086212180784,-1.6066871365862925,-1.743343968973115,-1.5789709740276823,-1.178638654584323,-1.741954808371832,-1.6063558462444851,-1.6035011535052883,-1.7453533299482027,-1.6057931834427124,-1.2852065563914583,-1.6046170850044739,-1.1701024438242553,-2.243384832264148,-1.6061333596379117],\"y\":[-0.16079869417214987,-0.16245198082776893,-0.28493868634528907,-0.09153518406902218,-0.07156071933959282,-0.1474298909871923,-0.1608297135260629,-0.16168484634340885,-0.1609703155591638,-0.16079892429038037,-0.16080048485603377,-0.07699102100214444,-0.10209245803343214,-0.1609641788851008,-0.09154720485585652,-0.015134468128218828,-0.07462848628152433,-0.13687483367630893,-0.1368038064732866,-0.0613053556036299,-0.1612527170813793,-0.16093531540188702,-0.2016817260976852,-0.09151507548899242,-0.09152048655254043,-0.16287786974616283,-0.1609029134354887,-0.09152664594166315,-0.13682882163682897,-0.16134669992905995,-0.07162919498003632,-0.07705909960107335,-0.13678958959377435,-0.16080074112735673,-0.13679598298775456,-0.16082171028235626,-0.09151718449389654,-0.11735512971608847,0.05276338699532411,-0.13683188554772296,-0.07195307772478499,-0.14730255588203267,-0.1131656759674176,-0.07156403960770048,-0.11592040331826808,-0.07156214611458735,-0.12241809355509334,-0.16082559168611993,-0.09166076976886837,-0.0715711752996212,-0.09172834329651386,-0.07162916103964151,-0.0717539949620556,-0.10852252175713967,-0.09159656955841185,-0.16261586188404076,-0.16082015163556546,-0.16097231463259154,-0.091553859687883,-0.16088963791721628,-0.07155941066780809,-0.09151701549818694,-0.16080946891432865,-0.1608013994381231,-0.10477309594554447,-0.16273039176586884,-0.16084544469135675,-0.09239662138283133,-0.1176744624533341,-0.13266847038665766,-0.0915509027350758,-0.26564371776567325,-0.09152176367244813,-0.16083569306005077,-0.160816458321772,-0.09154403516818478,-0.07157555460310437,-0.1608381995898854,-0.16082371248831492,-0.16103619421017196,-0.09151791773817461,-0.16085957116768168,-0.16080797853949166,-0.16080445098977605,-0.06324148074714579,-0.16100292631057145,-0.07156210312140507,-0.09152616111657566,-0.16082201291553352,-0.16080661676703337,-0.10118786936454033,-0.16253489943285326,-0.09156759216577756,-0.11738691512645949,-0.09170693522169242,-0.09157924890099779,-0.09185555672206269,-0.16081342803576304,-0.16081006589327862,-0.16114101234730693,-0.09155268528526254,-0.1608643508981997,-0.23472302256755595,-0.2149190861705202,-0.10838463079649989,-0.10850416979197419,-0.11772185921627468,-0.136822578421892,-0.1904936612848147,-0.13681969079226583,-0.11777837815163403,-0.09153585028612479,-0.16084242759776488,-0.16080598616163025,-0.09153442530418807,-0.06169092931324659,-0.16080565978658198,-0.23692004123408644,-0.07171394095497988,-0.10956709509918183,-0.11739187185477105,-0.1608088660606046,-0.10512750914651922,-0.160826565033835,-0.09161753808720081,-0.15822903714046826,-0.13711036372899876,-0.16102520125878747,-0.1847292434406368,-0.16086167880955918,-0.09159515380701126,-0.16193038405077623,-0.16080355330042012,-0.10085319780450895,-0.16120546309442457,-0.0767782708545824,-0.09152663724765012,-0.061244224064226235,-0.10841170661723122,-0.16080089827538066,-0.16080205081681176,-0.16082272192215766,-0.1052795579561741,-0.16450667612548645,0.08303339557524976,-0.17850798850219451,-0.12867561193341975,-0.16085751236120083,-0.3803786238196669,-0.0632575113185894,-0.10502637002425552,-0.06363819107016339,-0.1611478511136592,-0.09157506748531159,-0.07934974092910536,-0.16842606670692034,-0.10508404846095684,-0.16082647667882902,-0.1050483303022782,-0.22934099519835605,-0.1608560441267766,-0.06167138859818733,-0.13155325244721291,-0.09168005912560802,-0.09155847971745121,-0.19411890816281321,-0.09185336356353387,-0.16087195114453862,-0.16084592483653995,-0.16081212562027825,-0.09229441593177239,-0.16575342839971483,-0.09663477452245821,-0.0925459547735194,-0.16088749347623157,-0.16149919592204143,-0.09186695021003398,-0.16099786290186563,-0.0716914185256896,-0.1612526234089211,-0.06132169344211041,-0.13678290696533824,-0.1609049219419119],\"z\":[-0.4049642457768068,-0.4288184316560635,-2.7431299629496384,0.1887158666456757,0.2029072346968638,-0.6600038540105552,-0.4054147215947223,-0.4176273581350116,-0.4074167149625879,-0.40496774911349737,-0.4049902645586884,0.1571328104794239,-0.5248303517471464,-0.40738061369497597,0.18854408963099178,8.109230000190664,0.1580382205547255,-0.4922308777354931,-0.49121589917670927,0.23602152676077187,-0.41163280329402896,-0.40695869609510715,-0.9891826727360536,0.18901267627036458,0.1889310532995091,-0.43536355019578216,-0.4064965319370932,0.18884497033601422,-0.49157336580301175,-0.41322517827686067,0.20190894110836569,0.1561618505663128,-0.491017899181978,-0.4049934967436887,-0.49110840090327085,-0.40530174454937123,0.1889825390253353,-0.05403350682075445,1.0262076879719682,-0.4916386456613548,0.19687996123759136,-0.6580450659539344,-0.5953498256742954,0.20285978807366248,-0.1711540822433552,0.20289179029884793,-0.31147163203316186,-0.4053666682945398,0.18676561206700304,0.2027500802849591,0.18593283537984068,0.20184290495248716,0.19992907093523504,-0.1129426386126077,0.18778836615619882,-0.43179143111488183,-0.4052899331588684,-0.4074882748752286,0.1884369540131904,-0.40630252549738244,0.20292636554507226,0.18898366417886875,-0.40512724536155437,-0.4050029040029418,-0.5738079210256632,-0.763334539565655,-0.4056323105647377,0.1757704906440608,-0.059586450621341144,-0.3283781908418627,0.18848780749326782,-2.332703360646444,0.1889154459080702,-0.40550952934021933,-0.4052361525401781,0.18857304706000796,0.20269609868045682,-0.40554296582450516,-0.40533379552031973,-0.4086378599369837,0.18896991130847074,-0.4058960880249482,-0.4051025084560957,-0.4050479362310669,0.22645619821023694,-0.40809768831208726,0.20288789038970556,0.18885024152902063,-0.4053060691767424,-0.40508688945296256,-0.5094891441839682,-0.43020454630185634,0.18821922035830493,-0.0546092068427344,0.18622370911169994,0.1880526456403045,0.18393223491515714,-0.40518391239476037,-0.40513904366932396,-0.4102859032328918,0.18845803553960636,-0.4059476230307471,-1.945965858734107,-1.7721321840492763,-0.11093778259321133,-0.1126932870224009,-0.05589887654564824,-0.491497048224179,-0.8508018328218919,-0.49145101098407074,-0.05670653199474169,0.18871171742364,-0.4056099413633306,-0.4050702539833717,0.1887245597354022,0.23034132759551254,-0.4050705486288266,-1.5034864000505406,0.20068416352150625,-0.1283468131909252,-0.05471759364714503,-0.40511863058330216,0.012428805257309524,-0.40536887825147144,0.18748657627279294,-0.8361078764039066,-0.4956868872489455,-0.4082913171092207,-0.7684283158210149,-0.4059287858117555,0.1878468611510814,-0.42152302980115336,-0.4050354024162667,-0.5036894818922492,-0.410876716797718,0.15597663966402373,0.18883671090759,0.3442762766903962,-0.11134189326901997,-0.40499703218331595,-0.4050143618607325,-0.40532050019550087,0.010256028136420821,-0.46015338746261525,1.1814760110430436,-0.6624153208851615,-0.26813617994037375,-0.40584087179041134,-5.373513004665669,0.2261897685852389,0.013957854807789376,0.2181669146501782,-0.4103836291874657,0.18813389463941352,0.1036562017794588,-0.5216981492435723,0.013112628359482195,-0.40537028627498123,0.013638072888565837,-1.416592443384839,-0.4058198907240518,0.33798292664086693,-0.311364320649556,0.18647448966906274,0.1883795324335149,-0.8961576281774174,0.1841785409362517,-0.4060970740327806,-0.4056624982573174,-0.4051561811199041,0.1776609378736837,-0.48028166745549616,-0.15547318150784878,0.17385148264465775,-0.40623963657226064,-0.4151463866971505,0.183894962021671,-0.4078791554760634,0.20100385932348191,-0.4115798729249788,0.23576381174483388,-0.49091729685065033,-0.4065897232263162]},{\"customdata\":[[\"SHA-256\"],[\"Ethash\"],[\"Scrypt\"],[\"CryptoNight-V7\"],[\"Ethash\"],[\"Equihash\"],[\"Multiple\"],[\"Scrypt\"],[\"X11\"],[\"Scrypt\"],[\"Multiple\"],[\"Scrypt\"],[\"SHA-256\"],[\"Scrypt\"],[\"Scrypt\"],[\"Quark\"],[\"Groestl\"],[\"Scrypt\"],[\"Scrypt\"],[\"Scrypt\"],[\"X11\"],[\"Multiple\"],[\"SHA-256\"],[\"Scrypt\"],[\"Scrypt\"],[\"Scrypt\"],[\"Scrypt\"],[\"Scrypt\"],[\"NeoScrypt\"],[\"Scrypt\"],[\"Scrypt\"],[\"Scrypt\"],[\"Scrypt\"],[\"SHA-256\"],[\"Scrypt\"],[\"Scrypt\"],[\"Scrypt\"],[\"Scrypt\"],[\"HybridScryptHash256\"],[\"Scrypt\"],[\"Scrypt\"],[\"SHA-256\"],[\"Scrypt\"],[\"Scrypt\"],[\"Scrypt\"],[\"Scrypt\"],[\"SHA-256\"],[\"SHA-256\"],[\"SHA-256\"],[\"SHA-256\"],[\"SHA-256\"],[\"X11\"],[\"Scrypt\"],[\"Lyra2REv2\"],[\"Scrypt\"],[\"SHA-256\"],[\"CryptoNight\"],[\"CryptoNight\"],[\"Scrypt\"],[\"Scrypt\"],[\"Scrypt\"],[\"Scrypt\"],[\"Scrypt\"],[\"Scrypt\"],[\"Stanford Folding\"],[\"Multiple\"],[\"QuBit\"],[\"Scrypt\"],[\"Scrypt\"],[\"M7 POW\"],[\"Scrypt\"],[\"SHA-256\"],[\"Scrypt\"],[\"SHA3\"],[\"X11\"],[\"Lyra2RE\"],[\"SHA-256\"],[\"X11\"],[\"Scrypt\"],[\"Scrypt\"],[\"Ethash\"],[\"Blake2b\"],[\"X11\"],[\"SHA-256\"],[\"Scrypt\"],[\"1GB AES Pattern Search\"],[\"Scrypt\"],[\"SHA-256\"],[\"X11\"],[\"Dagger\"],[\"Scrypt\"],[\"X11GOST\"],[\"Scrypt\"],[\"X11\"],[\"Scrypt\"],[\"X11\"],[\"Equihash\"],[\"CryptoNight\"],[\"SHA-256\"],[\"Multiple\"],[\"Scrypt\"],[\"SHA-256\"],[\"Scrypt\"],[\"Lyra2Z\"],[\"Ethash\"],[\"Equihash\"],[\"Scrypt\"],[\"X11\"],[\"X11\"],[\"CryptoNight\"],[\"Scrypt\"],[\"CryptoNight\"],[\"Lyra2RE\"],[\"X11\"],[\"CryptoNight-V7\"],[\"Scrypt\"],[\"X11\"],[\"Equihash\"],[\"Scrypt\"],[\"Lyra2RE\"],[\"Dagger-Hashimoto\"],[\"Scrypt\"],[\"NIST5\"],[\"Scrypt\"],[\"SHA-256\"],[\"Scrypt\"],[\"CryptoNight-V7\"],[\"Argon2d\"],[\"Blake2b\"],[\"Cloverhash\"],[\"CryptoNight\"],[\"X11\"],[\"Scrypt\"],[\"Scrypt\"],[\"X11\"],[\"X11\"],[\"CryptoNight\"],[\"Time Travel\"],[\"Scrypt\"],[\"Keccak\"],[\"X11\"],[\"SHA-256\"],[\"Scrypt\"],[\"Scrypt\"],[\"Scrypt\"],[\"Scrypt\"],[\"Scrypt\"],[\"Scrypt\"],[\"CryptoNight\"],[\"Equihash\"],[\"X11\"],[\"NeoScrypt\"],[\"Equihash\"],[\"Dagger\"],[\"Scrypt\"],[\"X11\"],[\"NeoScrypt\"],[\"Ethash\"],[\"NeoScrypt\"],[\"Multiple\"],[\"CryptoNight\"],[\"CryptoNight\"],[\"Ethash\"],[\"X11\"],[\"CryptoNight-V7\"],[\"Scrypt\"],[\"BLAKE256\"],[\"X11\"],[\"NeoScrypt\"],[\"NeoScrypt\"],[\"Scrypt\"],[\"X11\"],[\"SHA-256\"],[\"C11\"],[\"CryptoNight\"],[\"SkunkHash\"],[\"CryptoNight\"],[\"Scrypt\"],[\"Dagger\"],[\"Lyra2REv2\"],[\"Scrypt\"],[\"Scrypt\"],[\"X11\"],[\"Ethash\"],[\"CryptoNight\"],[\"Scrypt\"],[\"IMesh\"],[\"Equihash\"],[\"Lyra2Z\"],[\"X11\"],[\"CryptoNight\"],[\"NIST5\"],[\"Lyra2RE\"],[\"Tribus\"],[\"Lyra2Z\"],[\"CryptoNight\"],[\"CryptoNight Heavy\"],[\"CryptoNight\"],[\"Jump Consistent Hash\"],[\"CryptoNight\"],[\"X16R\"],[\"HMQ1725\"],[\"X11\"],[\"Scrypt\"],[\"CryptoNight-V7\"],[\"Cryptonight-GPU\"],[\"XEVAN\"],[\"CryptoNight Heavy\"],[\"SHA-256\"],[\"X11\"],[\"X16R\"],[\"Equihash\"],[\"Lyra2Z\"],[\"SHA-256\"],[\"CryptoNight\"],[\"Blake\"],[\"Blake\"],[\"Exosis\"],[\"Scrypt\"],[\"Equihash\"],[\"Equihash\"],[\"QuBit\"],[\"SHA-256\"],[\"X13\"],[\"SHA-256\"],[\"Scrypt\"],[\"NeoScrypt\"],[\"Blake\"],[\"Scrypt\"],[\"SHA-256\"],[\"Scrypt\"],[\"Groestl\"],[\"Scrypt\"],[\"Scrypt\"],[\"Multiple\"],[\"Equihash+Scrypt\"],[\"Ethash\"],[\"CryptoNight\"],[\"Equihash\"]],\"hovertemplate\":\"<b>%{hovertext}</b><br><br>class=%{marker.color}<br>PC 1=%{x}<br>PC 2=%{y}<br>PC 3=%{z}<br>Algorithm=%{customdata[0]}<extra></extra>\",\"hovertext\":[\"Bitcoin\",\"Ethereum\",\"Litecoin\",\"Monero\",\"Ethereum Classic\",\"ZCash\",\"DigiByte\",\"ProsperCoin\",\"Spreadcoin\",\"Argentum\",\"MyriadCoin\",\"MoonCoin\",\"ZetaCoin\",\"SexCoin\",\"Quatloo\",\"QuarkCoin\",\"Riecoin\",\"Digitalcoin \",\"Catcoin\",\"CannaCoin\",\"CryptCoin\",\"Verge\",\"DevCoin\",\"EarthCoin\",\"E-Gulden\",\"Einsteinium\",\"Emerald\",\"Franko\",\"FeatherCoin\",\"GrandCoin\",\"GlobalCoin\",\"GoldCoin\",\"Infinite Coin\",\"IXcoin\",\"KrugerCoin\",\"LuckyCoin\",\"Litebar \",\"MegaCoin\",\"MediterraneanCoin\",\"MinCoin\",\"NobleCoin\",\"Namecoin\",\"NyanCoin\",\"RonPaulCoin\",\"StableCoin\",\"SmartCoin\",\"SysCoin\",\"TigerCoin\",\"TerraCoin\",\"UnbreakableCoin\",\"Unobtanium\",\"UroCoin\",\"ViaCoin\",\"Vertcoin\",\"WorldCoin\",\"JouleCoin\",\"ByteCoin\",\"DigitalNote \",\"MonaCoin\",\"Gulden\",\"PesetaCoin\",\"Wild Beast Coin\",\"Flo\",\"ArtByte\",\"Folding Coin\",\"Unitus\",\"CypherPunkCoin\",\"OmniCron\",\"GreenCoin\",\"Cryptonite\",\"MasterCoin\",\"SoonCoin\",\"1Credit\",\"Nexus\",\"MarsCoin \",\"Crypto\",\"Anarchists Prime\",\"BowsCoin\",\"Song Coin\",\"BitZeny\",\"Expanse\",\"Siacoin\",\"MindCoin\",\"I0coin\",\"Revolution VR\",\"HOdlcoin\",\"Gamecredits\",\"CarpeDiemCoin\",\"Adzcoin\",\"SoilCoin\",\"YoCoin\",\"SibCoin\",\"Francs\",\"BolivarCoin\",\"Omni\",\"PizzaCoin\",\"Komodo\",\"Karbo\",\"ZayedCoin\",\"Circuits of Value\",\"DopeCoin\",\"DollarCoin\",\"Shilling\",\"ZCoin\",\"Elementrem\",\"ZClassic\",\"KiloCoin\",\"ArtexCoin\",\"Kurrent\",\"Cannabis Industry Coin\",\"OsmiumCoin\",\"Bikercoins\",\"HexxCoin\",\"PacCoin\",\"Citadel\",\"BeaverCoin\",\"VaultCoin\",\"Zero\",\"Canada eCoin\",\"Zoin\",\"DubaiCoin\",\"EB3coin\",\"Coinonat\",\"BenjiRolls\",\"ILCoin\",\"EquiTrader\",\"Quantum Resistant Ledger\",\"Dynamic\",\"Nano\",\"ChanCoin\",\"Dinastycoin\",\"DigitalPrice\",\"Unify\",\"SocialCoin\",\"ArcticCoin\",\"DAS\",\"LeviarCoin\",\"Bitcore\",\"gCn Coin\",\"SmartCash\",\"Onix\",\"Bitcoin Cash\",\"Sojourn Coin\",\"NewYorkCoin\",\"FrazCoin\",\"Kronecoin\",\"AdCoin\",\"Linx\",\"Sumokoin\",\"BitcoinZ\",\"Elements\",\"VIVO Coin\",\"Bitcoin Gold\",\"Pirl\",\"eBoost\",\"Pura\",\"Innova\",\"Ellaism\",\"GoByte\",\"SHIELD\",\"UltraNote\",\"BitCoal\",\"DaxxCoin\",\"AC3\",\"Lethean\",\"PopularCoin\",\"Photon\",\"Sucre\",\"SparksPay\",\"GunCoin\",\"IrishCoin\",\"Pioneer Coin\",\"UnitedBitcoin\",\"Interzone\",\"TurtleCoin\",\"MUNcoin\",\"Niobio Cash\",\"ShareChain\",\"Travelflex\",\"KREDS\",\"BitFlip\",\"LottoCoin\",\"Crypto Improvement Fund\",\"Callisto Network\",\"BitTube\",\"Poseidon\",\"Aidos Kuneen\",\"Bitrolium\",\"Alpenschillling\",\"FuturoCoin\",\"Monero Classic\",\"Jumpcoin\",\"Infinex\",\"KEYCO\",\"GINcoin\",\"PlatinCoin\",\"Loki\",\"Newton Coin\",\"MassGrid\",\"PluraCoin\",\"Motion\",\"PlusOneCoin\",\"Axe\",\"HexCoin\",\"Webchain\",\"Ryo\",\"Urals Coin\",\"Qwertycoin\",\"Project Pai\",\"Azart\",\"Xchange\",\"CrypticCoin\",\"Actinium\",\"Bitcoin SV\",\"FREDEnergy\",\"Universal Molecule\",\"Lithium\",\"Exosis\",\"Block-Logic\",\"Beam\",\"Bithereum\",\"SLICE\",\"BLAST\",\"Bitcoin Rhodium\",\"GlobalToken\",\"SolarCoin\",\"UFO Coin\",\"BlakeCoin\",\"Crypto Escudo\",\"Crown Coin\",\"SmileyCoin\",\"Groestlcoin\",\"Bata\",\"Pakcoin\",\"JoinCoin\",\"Vollar\",\"Reality Clash\",\"Beldex\",\"Horizen\"],\"legendgroup\":\"1\",\"marker\":{\"color\":[1,1,1,1,1,1,1,1,1,1,1,1,1,1,1,1,1,1,1,1,1,1,1,1,1,1,1,1,1,1,1,1,1,1,1,1,1,1,1,1,1,1,1,1,1,1,1,1,1,1,1,1,1,1,1,1,1,1,1,1,1,1,1,1,1,1,1,1,1,1,1,1,1,1,1,1,1,1,1,1,1,1,1,1,1,1,1,1,1,1,1,1,1,1,1,1,1,1,1,1,1,1,1,1,1,1,1,1,1,1,1,1,1,1,1,1,1,1,1,1,1,1,1,1,1,1,1,1,1,1,1,1,1,1,1,1,1,1,1,1,1,1,1,1,1,1,1,1,1,1,1,1,1,1,1,1,1,1,1,1,1,1,1,1,1,1,1,1,1,1,1,1,1,1,1,1,1,1,1,1,1,1,1,1,1,1,1,1,1,1,1,1,1,1,1,1,1,1,1,1,1,1,1,1,1,1,1,1,1,1,1,1,1,1,1,1,1,1,1,1,1,1,1,1,1,1,1,1,1,1,1,1,1,1,1,1,1,1,1],\"coloraxis\":\"coloraxis\",\"opacity\":0.7,\"symbol\":\"diamond\"},\"mode\":\"markers\",\"name\":\"1\",\"scene\":\"scene\",\"showlegend\":true,\"type\":\"scatter3d\",\"x\":[1.16295691149853,1.8220381873914613,0.8424832689973825,1.8094200524869999,1.8225106468956322,1.7789333442838813,1.9543665251031983,0.842010609598214,0.7017980784129814,0.842138767270411,1.8568055242029746,1.6440549138671299,1.1641745695146735,0.8432224792383958,0.8421850953323264,0.3154814365004995,0.9139882402220921,0.842232164466869,0.8420192544775532,0.8419878522320857,0.7017572597070236,1.972018867503357,1.3184748664336334,0.9448046421205476,0.8421007845885157,0.8438620475729037,0.842115343202664,0.8419626672242986,1.2803866138035271,0.8501650138053697,0.8424697078906567,0.8423313896911062,1.5707010765866138,1.1629757429495182,0.8433887235488021,0.842089261703898,0.8419417885290928,0.8422473277655593,1.7965954022868125,0.8419878458922119,0.8873557551697072,1.1629379097222112,0.8446296060476857,0.8419828335300112,0.8425988139387967,0.8421917580298558,1.1680159880972625,1.1631637579021115,1.1630306026462651,1.1629869608498586,1.1628080037898878,0.7016970918473395,0.842118304470919,1.2118608591167266,0.8431991050308747,1.163133703197477,3.5379832341170294,2.118516324144616,0.8425580874801677,0.8479132885504361,0.843098897416499,0.8419389648467189,0.8431734154173897,0.8487409886573861,1.8064202499970483,1.8429616366078148,1.2099361912970303,0.8419998204293326,0.8902766054009911,1.8093252212070077,0.841937375083904,1.1629243688555055,1.0341081046959797,-1.7560071671800408,0.7019507211113454,1.805065940803209,1.1630064051162246,0.7018282408108047,0.8425654876515584,0.8429049083355927,1.8214947206720942,2.067362144555554,0.7018178194794146,1.1629751958304828,0.8436216495121595,1.7958747518298672,0.8425237457939928,1.3374469506796034,0.7021340083828709,1.8020866326633027,0.8422878446473593,1.795726124530855,0.8420132997898966,0.7018234366701692,0.8419373507103319,0.7017503293683719,0.9490228337832142,2.056564921115302,1.1628638057071972,1.851035728152006,0.8430460034741699,1.1628827395348384,0.8420612750874273,1.805065433318091,1.8216077033906046,1.7789228064797578,0.8639899974494297,0.707641436076141,0.7025316034333734,2.056547139324435,0.8419433858406126,2.0566053932405235,1.8048787369431332,0.9137738232657412,1.809769379817924,0.8419579625788858,0.703959715443359,1.7789222410871146,0.8427358677751107,1.8050009856626372,1.7954940627019969,0.8506695411583565,0.4296792156782932,0.8421273378096288,1.1758759170093331,0.8421642181068211,1.8099480710903146,1.7956657437547412,1.8717587371751587,1.795759384149463,2.0714509497944507,0.7021080485487721,0.8420806457196018,0.8421198317580066,0.7019703217756229,0.7017450013857895,2.0566945833505303,1.795720864239905,2.23073398770886,0.9469888114601491,0.7047170185786453,1.162957318923003,0.8638683192029017,1.6935689852266567,0.8420319588987831,0.8422117972206183,0.8423356965845058,0.8423420674518036,2.056736403998021,1.8537475471136684,0.7215459593176512,1.2785232941431448,1.7789918204328388,1.802518912912077,0.8427367407701586,0.7034644527981299,1.278574050459441,1.822057751857422,1.2785432440966071,1.8468213333623738,2.3488781547353033,2.0565503574397215,1.8453875378236113,0.703317076364707,1.814033137028174,0.8759843976365279,1.4141395630956977,0.7017564463685173,1.2785326848326248,1.2812718796368028,0.8423369407345694,0.7017884348450851,1.1629685020905713,0.9145229104921175,4.461817744082093,1.7955721301605,2.057996903081764,0.9223732281934753,1.8028380418288994,1.2175123388395535,0.8420900656800259,0.9666792301483901,0.7039926569472945,1.8364490859549292,2.0590630190413,0.8420004970470221,1.7958089278104878,1.7794166684842616,1.8057651378978012,0.7020881729101114,2.0566312672101734,0.4296874767863376,1.804931928606162,1.7955359693934534,1.8050391995018067,2.057751267724542,2.1523417404882137,2.686765893907856,1.7974575513674065,2.061921745595279,1.2100134156734244,1.795627115413404,0.7017635027332849,0.841987003311258,1.8130659056875487,1.7958299690769808,0.615933778671182,3.1301074493447163,1.1796988607111103,0.7017719942570859,1.2101858831232442,1.8199418850085833,1.8052323237690593,1.1629573006106937,2.084494170819478,1.8055217747493193,1.8054398648958614,1.7955427568156062,0.8423931835944363,1.7796069901995266,1.7790598055609574,1.2101841466423828,1.1632513936400715,0.20530231914992317,1.1636611035733497,1.0471805322527923,1.3095743803051032,1.8200539147099832,0.848667581304655,1.1630309095372757,1.1225546790268983,0.9141735405706989,0.841972925351407,0.8427275510686434,1.8425995694876245,1.8040287330567792,1.8215938869133628,2.0652597622412054,1.7789328290454427],\"y\":[0.010059453586932849,0.04536464866657955,-0.07927226896646297,0.04572362559056424,0.04528499332966167,0.05520149903167057,0.014940237099585368,-0.07917087769736346,-0.009894420332960929,-0.07919454501510005,0.03498355728184192,-0.21033810644635081,0.009796258471146128,-0.07942088353742008,-0.07920008242353882,-0.023819675013229576,0.004560322678510974,-0.07921875284632854,-0.07917290214109811,-0.07916670811852915,-0.00988515656509856,0.01015060265576511,-0.023264139867794426,-0.1012542568585037,-0.07919199472942547,-0.07956330997593218,-0.07919378104647068,-0.07916109128785814,0.019937667267071215,-0.08087395730797912,-0.07927115887920208,-0.07923843640706903,-0.23644993971474823,0.01005504366847415,-0.07945753909614232,-0.07918944386415246,-0.07915766055177814,-0.07922321352559487,0.045426765580864975,-0.07916716992529857,-0.08757965270731782,0.01006390339190079,-0.07973756577856571,-0.07916437314304228,-0.07927483461538769,-0.07920884288119627,0.009002648836464875,0.010014852570615492,0.010045295160092399,0.01006112183632724,0.010091262991513755,-0.009873722364659351,-0.07919580241681133,0.01794131009158777,-0.07941313454107381,0.010021593876395375,-0.32566701690051186,-0.019000378286774606,-0.07928667368538084,-0.0803083801973568,-0.07940428017915276,-0.07915681074388495,-0.07942267290562206,-0.08060254028578977,0.042990589953943864,0.03793040620256279,0.01846176406709054,-0.07917095212921622,-0.08900137785498966,0.04244803816102682,-0.07915673480328543,0.010067074369967084,-0.11058491022453106,0.19002672078076044,-0.009928247865409948,0.04593789502934627,0.010052696827874267,-0.009901336169016377,-0.07927289671068015,-0.07934651530168026,0.04549441127102412,-0.023634125978818546,-0.009899633443846005,0.010055171791917035,-0.0795202623823388,0.0455879728617361,-0.07928174775663437,-0.027614587085306813,-0.009963644982413845,0.04577378185016978,-0.07921405919505184,0.045611317181265126,-0.07917165522710282,-0.009899620963036553,-0.07915672954258322,-0.00988250081441336,0.1670186291952511,-0.005966674795018508,0.01007959500185095,0.036216682671512936,-0.07938693398303724,0.010075294238589792,-0.0791814145535673,0.04593065506420617,0.045469325204684344,0.055203966757443254,-0.08284562290490469,-0.011191986674192415,-0.010035506656489375,-0.005960887688796103,-0.0791578333139485,-0.005973939315629389,0.045973502718559496,-0.044783001069411466,0.04566911651898738,-0.07916115159882886,-0.010256034824276191,0.05520350898000372,-0.07932906141532382,0.04594649770854091,0.04566801359040313,-0.08061153043862719,-0.02676296395675509,-0.07919607050639048,0.007399866118176637,-0.07919932469010296,0.04561546728512718,0.045620667651411186,0.02222216771072149,0.04560403980033841,-0.009159046064416976,-0.009955205030167679,-0.07918753289158575,-0.07918848773225207,-0.009928854200862175,-0.009882153140900733,-0.00599054690382866,0.045611863963683955,-0.37487394212364183,-0.002408537736798527,-0.010418624332423396,0.010059358176935106,-0.08274335597097578,-0.2785905267959611,-0.07917602478676954,-0.07920869614882453,-0.0792353499789913,-0.07923684189829776,-0.005995192712379604,0.040776978535620484,-0.014256316680649297,0.02032842500636766,0.055187805182542,0.04569118709911376,-0.07932926585187916,-0.010235959303248112,0.020319194785798706,0.04540137970348292,0.020324461375023636,0.03712392844301742,-0.06188025771108052,-0.005962895434634719,0.04137218630349874,-0.010171937922294216,0.044790809523044546,-0.08639217717325466,-0.1042094840355243,-0.009884700517740406,0.020325340639782297,0.01975455454579967,-0.07924095295351574,-0.009891719382844564,0.01005661626844067,0.004862586111044405,-0.4216812894564598,0.04565101562173468,-0.006253914311394271,-0.09651771259851831,0.0456081462309809,0.016767761555506234,-0.07918668123714094,-0.10565281163930784,-0.010337521532643716,0.04294897072930216,-0.00640560569934758,-0.07916850955662882,0.0455890936454099,0.055095544666248296,0.04580790543620991,-0.009950550585543304,-0.005980972236889356,-0.02676891942702504,0.04596344841514338,0.045661261850444196,0.045935190215538095,-0.006157439856942356,-0.055388759268184866,-0.12639929792832813,0.04518288005468285,-0.007075057618287643,0.018446341835505982,0.045637358689309265,-0.009886175911676008,-0.07916518653953439,0.045128049460709724,0.04560198568796675,0.020327587589496977,-0.25716483520007427,0.006445597384588024,-0.009887574262694956,0.018417451033650844,0.04671642976044999,0.045900809250361725,0.010059362465282122,-0.011316412425224937,0.045019474284368706,0.04502686824954394,0.04566029976905857,-0.07924586129232802,0.05507942212157085,0.055173343166471794,0.018418452793129148,0.009996836676408688,-0.055141984283061635,0.009916236157197453,-0.11274616522245794,0.01364312877442635,0.042633666820328105,-0.08058534987172841,0.010045223292856526,-0.13749407639755307,0.0045200277911567575,-0.07916441358261056,-0.07931501512917531,0.038015607615987566,0.0439649936729371,0.04547230730215076,-0.007797698047161775,0.05520161968936782],\"z\":[0.5044444668314184,0.6606122715385688,-0.10480321251189575,0.6678753779905631,0.659383711335127,0.7467438878436632,0.17163848557325023,-0.10332724583290687,0.4905477713300946,-0.10368393880394385,0.4662261823845261,-2.1427913252195956,0.500619437343145,-0.10699828301275728,-0.10377854589404875,0.3094820800787464,0.4576518117734217,-0.10402306111676658,-0.10335617512896447,-0.10326428329925037,0.49068101041352674,0.10510566687967245,0.019230862591848544,-0.4246937282357614,-0.1036290081698172,-0.10905496382361417,-0.10365926388345623,-0.1031832001324682,0.5320260194119726,-0.1282659857102311,-0.1047813303254836,-0.10431469177548601,-2.389787433058891,0.5043814491073473,-0.10752872074686096,-0.103592126379676,-0.10312992469899,-0.10408415325451986,0.6625037405145501,-0.10326953253169895,-0.22992856548186644,0.5045080545336079,-0.11156107551766122,-0.10323429576744858,-0.10491124427142905,-0.10388275215150303,0.48896997883083054,0.5037959350499516,0.5042331143830118,0.5044429401478714,0.5049079442259939,0.49085214387852516,-0.10368427987648088,0.519108974588413,-0.10689417976271876,0.5038931333017671,-5.077585524926537,-0.6203109407153085,-0.10501813606528154,-0.12029541029133768,-0.10672507276411485,-0.10311833039882096,-0.1069851592376303,-0.12420660376519306,0.6200628813215443,0.5091965094726726,0.5292139912292092,-0.10332073034492899,-0.248095356480635,0.6099318486989633,-0.10311638168079694,0.5045533678024798,-0.5917783713806851,19.82002605130609,0.4900587868629442,0.6725223656506017,0.5043338282022433,0.49044851411806906,-0.10486645753815806,-0.10593556110455345,0.6624593102470892,-0.4535589513919176,0.49047499571452896,0.5043832799910349,-0.1084012092021312,0.6653789552225505,-0.10493866440043782,-0.04320627513744567,0.4895310356361942,0.6690428351706055,-0.10400766030758915,0.6658372535707511,-0.10333792679941442,0.4904713046810281,-0.1031163052026829,0.4907159515632952,1.5182191984343218,-0.4297643329508498,0.5047371303510461,0.48419148647532734,-0.10649164738392954,0.5046752845280783,-0.10348168686672424,0.6722182238879294,0.6620968324251552,0.7467791516389632,-0.16012963318627046,0.4717991843041831,0.4884422223402717,-0.429686364464382,-0.1031329800196238,-0.4298745919064768,0.6730551849394829,-0.05099452228252661,0.6670169061473586,-0.10318067591535172,0.48495896817653567,0.7467743297267913,-0.10562165537357443,0.6726645541640359,0.666828198857285,-0.1256248677736613,0.19060392188316,-0.10369349379129694,0.46537316796673667,-0.10375567980079134,0.6662846532522911,0.6660216271293996,0.20158107598462485,0.6657067687272487,-0.4762388744898026,0.48964476362799125,-0.10356450765981359,-0.10360210949415329,0.49003851417808714,0.4907235423995992,-0.43012438231741185,0.6658496734998931,-4.414900606554272,0.33633823488670983,0.48259257134156847,0.5044431034227818,-0.1588832047397069,-2.9530245188216555,-0.10340036779644685,-0.10389475710215876,-0.10428251917585638,-0.10430383869912423,-0.4302057707451416,0.5315979903083852,0.42745100489349613,0.5377427954168745,0.7465482027728552,0.6678082531250817,-0.10562457677145475,0.4855253028516482,0.5376031568188714,0.6610167771237744,0.5376840914629952,0.4973881894022214,-1.2653091822590723,-0.42971140072909464,0.599260678240543,0.48635418191365876,0.6541157299805698,-0.20866022716132232,-1.370865949325763,0.4906867534523193,0.5377012994153492,0.5293388302900336,-0.10434710813125506,0.4905850781059552,0.5044042801199907,0.4578074434413328,-6.800252450132052,0.6665230600122,-0.43400914263837864,-0.35550376172067044,0.6666458073637108,0.5019021583690594,-0.10356124707802739,-0.48965873098234947,0.4840094891028029,0.6232976843951076,-0.4364622867745215,-0.1032934051075605,0.6654565580593516,0.7452087335714473,0.670344353063054,0.48971127563037553,-0.4299722547857683,0.19053053472293374,0.6729045096814863,0.6666966709973133,0.6722877174436982,-0.43274402507881493,-1.3998056529745049,-2.229849336977501,0.6583700125326837,-0.44602875307116163,0.528948359371289,0.6662852281593584,0.4906651541586631,-0.10324639438881537,0.6586122162719887,0.6656119618559041,0.6450575066851019,-4.362430277463591,0.4519086427129587,0.4906434519996667,0.5285020077653269,0.6222338170937973,0.6717648135635005,0.5044431647032493,-0.5096816185680604,0.6527171717848995,0.6528571792799359,0.6666771560555104,-0.10444132444956516,0.7448954516381158,0.7463372902946953,0.5285520800712249,0.5035311842739926,-0.18908483195289755,0.5023346901655751,-0.6252852827055742,0.44050181031456637,0.6156596622489725,-0.12396095278998355,0.5042320874003856,-0.9582531642269999,0.45706696936771807,-0.10322799474346814,-0.10545618836833968,0.5104128336552666,0.6355808659184164,0.6621401850390468,-0.4565273513855531,0.7467456120418622]},{\"customdata\":[[\"SHA-256 + Hive\"]],\"hovertemplate\":\"<b>%{hovertext}</b><br><br>class=%{marker.color}<br>PC 1=%{x}<br>PC 2=%{y}<br>PC 3=%{z}<br>Algorithm=%{customdata[0]}<extra></extra>\",\"hovertext\":[\"LitecoinCash\"],\"legendgroup\":\"2\",\"marker\":{\"color\":[2],\"coloraxis\":\"coloraxis\",\"opacity\":0.7,\"symbol\":\"square\"},\"mode\":\"markers\",\"name\":\"2\",\"scene\":\"scene\",\"showlegend\":true,\"type\":\"scatter3d\",\"x\":[-1.0905083404769],\"y\":[29.061572455764026],\"z\":[-0.9541402674353987]}],                        {\"coloraxis\":{\"colorbar\":{\"title\":{\"text\":\"class\"}},\"colorscale\":[[0.0,\"#0d0887\"],[0.1111111111111111,\"#46039f\"],[0.2222222222222222,\"#7201a8\"],[0.3333333333333333,\"#9c179e\"],[0.4444444444444444,\"#bd3786\"],[0.5555555555555556,\"#d8576b\"],[0.6666666666666666,\"#ed7953\"],[0.7777777777777778,\"#fb9f3a\"],[0.8888888888888888,\"#fdca26\"],[1.0,\"#f0f921\"]]},\"height\":800,\"legend\":{\"title\":{\"text\":\"class\"},\"tracegroupgap\":0,\"x\":0,\"y\":1},\"margin\":{\"t\":60},\"scene\":{\"domain\":{\"x\":[0.0,1.0],\"y\":[0.0,1.0]},\"xaxis\":{\"title\":{\"text\":\"PC 1\"}},\"yaxis\":{\"title\":{\"text\":\"PC 2\"}},\"zaxis\":{\"title\":{\"text\":\"PC 3\"}}},\"template\":{\"data\":{\"bar\":[{\"error_x\":{\"color\":\"#2a3f5f\"},\"error_y\":{\"color\":\"#2a3f5f\"},\"marker\":{\"line\":{\"color\":\"#E5ECF6\",\"width\":0.5},\"pattern\":{\"fillmode\":\"overlay\",\"size\":10,\"solidity\":0.2}},\"type\":\"bar\"}],\"barpolar\":[{\"marker\":{\"line\":{\"color\":\"#E5ECF6\",\"width\":0.5},\"pattern\":{\"fillmode\":\"overlay\",\"size\":10,\"solidity\":0.2}},\"type\":\"barpolar\"}],\"carpet\":[{\"aaxis\":{\"endlinecolor\":\"#2a3f5f\",\"gridcolor\":\"white\",\"linecolor\":\"white\",\"minorgridcolor\":\"white\",\"startlinecolor\":\"#2a3f5f\"},\"baxis\":{\"endlinecolor\":\"#2a3f5f\",\"gridcolor\":\"white\",\"linecolor\":\"white\",\"minorgridcolor\":\"white\",\"startlinecolor\":\"#2a3f5f\"},\"type\":\"carpet\"}],\"choropleth\":[{\"colorbar\":{\"outlinewidth\":0,\"ticks\":\"\"},\"type\":\"choropleth\"}],\"contour\":[{\"colorbar\":{\"outlinewidth\":0,\"ticks\":\"\"},\"colorscale\":[[0.0,\"#0d0887\"],[0.1111111111111111,\"#46039f\"],[0.2222222222222222,\"#7201a8\"],[0.3333333333333333,\"#9c179e\"],[0.4444444444444444,\"#bd3786\"],[0.5555555555555556,\"#d8576b\"],[0.6666666666666666,\"#ed7953\"],[0.7777777777777778,\"#fb9f3a\"],[0.8888888888888888,\"#fdca26\"],[1.0,\"#f0f921\"]],\"type\":\"contour\"}],\"contourcarpet\":[{\"colorbar\":{\"outlinewidth\":0,\"ticks\":\"\"},\"type\":\"contourcarpet\"}],\"heatmap\":[{\"colorbar\":{\"outlinewidth\":0,\"ticks\":\"\"},\"colorscale\":[[0.0,\"#0d0887\"],[0.1111111111111111,\"#46039f\"],[0.2222222222222222,\"#7201a8\"],[0.3333333333333333,\"#9c179e\"],[0.4444444444444444,\"#bd3786\"],[0.5555555555555556,\"#d8576b\"],[0.6666666666666666,\"#ed7953\"],[0.7777777777777778,\"#fb9f3a\"],[0.8888888888888888,\"#fdca26\"],[1.0,\"#f0f921\"]],\"type\":\"heatmap\"}],\"heatmapgl\":[{\"colorbar\":{\"outlinewidth\":0,\"ticks\":\"\"},\"colorscale\":[[0.0,\"#0d0887\"],[0.1111111111111111,\"#46039f\"],[0.2222222222222222,\"#7201a8\"],[0.3333333333333333,\"#9c179e\"],[0.4444444444444444,\"#bd3786\"],[0.5555555555555556,\"#d8576b\"],[0.6666666666666666,\"#ed7953\"],[0.7777777777777778,\"#fb9f3a\"],[0.8888888888888888,\"#fdca26\"],[1.0,\"#f0f921\"]],\"type\":\"heatmapgl\"}],\"histogram\":[{\"marker\":{\"pattern\":{\"fillmode\":\"overlay\",\"size\":10,\"solidity\":0.2}},\"type\":\"histogram\"}],\"histogram2d\":[{\"colorbar\":{\"outlinewidth\":0,\"ticks\":\"\"},\"colorscale\":[[0.0,\"#0d0887\"],[0.1111111111111111,\"#46039f\"],[0.2222222222222222,\"#7201a8\"],[0.3333333333333333,\"#9c179e\"],[0.4444444444444444,\"#bd3786\"],[0.5555555555555556,\"#d8576b\"],[0.6666666666666666,\"#ed7953\"],[0.7777777777777778,\"#fb9f3a\"],[0.8888888888888888,\"#fdca26\"],[1.0,\"#f0f921\"]],\"type\":\"histogram2d\"}],\"histogram2dcontour\":[{\"colorbar\":{\"outlinewidth\":0,\"ticks\":\"\"},\"colorscale\":[[0.0,\"#0d0887\"],[0.1111111111111111,\"#46039f\"],[0.2222222222222222,\"#7201a8\"],[0.3333333333333333,\"#9c179e\"],[0.4444444444444444,\"#bd3786\"],[0.5555555555555556,\"#d8576b\"],[0.6666666666666666,\"#ed7953\"],[0.7777777777777778,\"#fb9f3a\"],[0.8888888888888888,\"#fdca26\"],[1.0,\"#f0f921\"]],\"type\":\"histogram2dcontour\"}],\"mesh3d\":[{\"colorbar\":{\"outlinewidth\":0,\"ticks\":\"\"},\"type\":\"mesh3d\"}],\"parcoords\":[{\"line\":{\"colorbar\":{\"outlinewidth\":0,\"ticks\":\"\"}},\"type\":\"parcoords\"}],\"pie\":[{\"automargin\":true,\"type\":\"pie\"}],\"scatter\":[{\"marker\":{\"colorbar\":{\"outlinewidth\":0,\"ticks\":\"\"}},\"type\":\"scatter\"}],\"scatter3d\":[{\"line\":{\"colorbar\":{\"outlinewidth\":0,\"ticks\":\"\"}},\"marker\":{\"colorbar\":{\"outlinewidth\":0,\"ticks\":\"\"}},\"type\":\"scatter3d\"}],\"scattercarpet\":[{\"marker\":{\"colorbar\":{\"outlinewidth\":0,\"ticks\":\"\"}},\"type\":\"scattercarpet\"}],\"scattergeo\":[{\"marker\":{\"colorbar\":{\"outlinewidth\":0,\"ticks\":\"\"}},\"type\":\"scattergeo\"}],\"scattergl\":[{\"marker\":{\"colorbar\":{\"outlinewidth\":0,\"ticks\":\"\"}},\"type\":\"scattergl\"}],\"scattermapbox\":[{\"marker\":{\"colorbar\":{\"outlinewidth\":0,\"ticks\":\"\"}},\"type\":\"scattermapbox\"}],\"scatterpolar\":[{\"marker\":{\"colorbar\":{\"outlinewidth\":0,\"ticks\":\"\"}},\"type\":\"scatterpolar\"}],\"scatterpolargl\":[{\"marker\":{\"colorbar\":{\"outlinewidth\":0,\"ticks\":\"\"}},\"type\":\"scatterpolargl\"}],\"scatterternary\":[{\"marker\":{\"colorbar\":{\"outlinewidth\":0,\"ticks\":\"\"}},\"type\":\"scatterternary\"}],\"surface\":[{\"colorbar\":{\"outlinewidth\":0,\"ticks\":\"\"},\"colorscale\":[[0.0,\"#0d0887\"],[0.1111111111111111,\"#46039f\"],[0.2222222222222222,\"#7201a8\"],[0.3333333333333333,\"#9c179e\"],[0.4444444444444444,\"#bd3786\"],[0.5555555555555556,\"#d8576b\"],[0.6666666666666666,\"#ed7953\"],[0.7777777777777778,\"#fb9f3a\"],[0.8888888888888888,\"#fdca26\"],[1.0,\"#f0f921\"]],\"type\":\"surface\"}],\"table\":[{\"cells\":{\"fill\":{\"color\":\"#EBF0F8\"},\"line\":{\"color\":\"white\"}},\"header\":{\"fill\":{\"color\":\"#C8D4E3\"},\"line\":{\"color\":\"white\"}},\"type\":\"table\"}]},\"layout\":{\"annotationdefaults\":{\"arrowcolor\":\"#2a3f5f\",\"arrowhead\":0,\"arrowwidth\":1},\"autotypenumbers\":\"strict\",\"coloraxis\":{\"colorbar\":{\"outlinewidth\":0,\"ticks\":\"\"}},\"colorscale\":{\"diverging\":[[0,\"#8e0152\"],[0.1,\"#c51b7d\"],[0.2,\"#de77ae\"],[0.3,\"#f1b6da\"],[0.4,\"#fde0ef\"],[0.5,\"#f7f7f7\"],[0.6,\"#e6f5d0\"],[0.7,\"#b8e186\"],[0.8,\"#7fbc41\"],[0.9,\"#4d9221\"],[1,\"#276419\"]],\"sequential\":[[0.0,\"#0d0887\"],[0.1111111111111111,\"#46039f\"],[0.2222222222222222,\"#7201a8\"],[0.3333333333333333,\"#9c179e\"],[0.4444444444444444,\"#bd3786\"],[0.5555555555555556,\"#d8576b\"],[0.6666666666666666,\"#ed7953\"],[0.7777777777777778,\"#fb9f3a\"],[0.8888888888888888,\"#fdca26\"],[1.0,\"#f0f921\"]],\"sequentialminus\":[[0.0,\"#0d0887\"],[0.1111111111111111,\"#46039f\"],[0.2222222222222222,\"#7201a8\"],[0.3333333333333333,\"#9c179e\"],[0.4444444444444444,\"#bd3786\"],[0.5555555555555556,\"#d8576b\"],[0.6666666666666666,\"#ed7953\"],[0.7777777777777778,\"#fb9f3a\"],[0.8888888888888888,\"#fdca26\"],[1.0,\"#f0f921\"]]},\"colorway\":[\"#636efa\",\"#EF553B\",\"#00cc96\",\"#ab63fa\",\"#FFA15A\",\"#19d3f3\",\"#FF6692\",\"#B6E880\",\"#FF97FF\",\"#FECB52\"],\"font\":{\"color\":\"#2a3f5f\"},\"geo\":{\"bgcolor\":\"white\",\"lakecolor\":\"white\",\"landcolor\":\"#E5ECF6\",\"showlakes\":true,\"showland\":true,\"subunitcolor\":\"white\"},\"hoverlabel\":{\"align\":\"left\"},\"hovermode\":\"closest\",\"mapbox\":{\"style\":\"light\"},\"paper_bgcolor\":\"white\",\"plot_bgcolor\":\"#E5ECF6\",\"polar\":{\"angularaxis\":{\"gridcolor\":\"white\",\"linecolor\":\"white\",\"ticks\":\"\"},\"bgcolor\":\"#E5ECF6\",\"radialaxis\":{\"gridcolor\":\"white\",\"linecolor\":\"white\",\"ticks\":\"\"}},\"scene\":{\"xaxis\":{\"backgroundcolor\":\"#E5ECF6\",\"gridcolor\":\"white\",\"gridwidth\":2,\"linecolor\":\"white\",\"showbackground\":true,\"ticks\":\"\",\"zerolinecolor\":\"white\"},\"yaxis\":{\"backgroundcolor\":\"#E5ECF6\",\"gridcolor\":\"white\",\"gridwidth\":2,\"linecolor\":\"white\",\"showbackground\":true,\"ticks\":\"\",\"zerolinecolor\":\"white\"},\"zaxis\":{\"backgroundcolor\":\"#E5ECF6\",\"gridcolor\":\"white\",\"gridwidth\":2,\"linecolor\":\"white\",\"showbackground\":true,\"ticks\":\"\",\"zerolinecolor\":\"white\"}},\"shapedefaults\":{\"line\":{\"color\":\"#2a3f5f\"}},\"ternary\":{\"aaxis\":{\"gridcolor\":\"white\",\"linecolor\":\"white\",\"ticks\":\"\"},\"baxis\":{\"gridcolor\":\"white\",\"linecolor\":\"white\",\"ticks\":\"\"},\"bgcolor\":\"#E5ECF6\",\"caxis\":{\"gridcolor\":\"white\",\"linecolor\":\"white\",\"ticks\":\"\"}},\"title\":{\"x\":0.05},\"xaxis\":{\"automargin\":true,\"gridcolor\":\"white\",\"linecolor\":\"white\",\"ticks\":\"\",\"title\":{\"standoff\":15},\"zerolinecolor\":\"white\",\"zerolinewidth\":2},\"yaxis\":{\"automargin\":true,\"gridcolor\":\"white\",\"linecolor\":\"white\",\"ticks\":\"\",\"title\":{\"standoff\":15},\"zerolinecolor\":\"white\",\"zerolinewidth\":2}}},\"width\":800},                        {\"responsive\": true}                    ).then(function(){\n",
       "                            \n",
       "var gd = document.getElementById('da4ece7d-01df-4ead-8b63-808692310ccb');\n",
       "var x = new MutationObserver(function (mutations, observer) {{\n",
       "        var display = window.getComputedStyle(gd).display;\n",
       "        if (!display || display === 'none') {{\n",
       "            console.log([gd, 'removed!']);\n",
       "            Plotly.purge(gd);\n",
       "            observer.disconnect();\n",
       "        }}\n",
       "}});\n",
       "\n",
       "// Listen for the removal of the full notebook cells\n",
       "var notebookContainer = gd.closest('#notebook-container');\n",
       "if (notebookContainer) {{\n",
       "    x.observe(notebookContainer, {childList: true});\n",
       "}}\n",
       "\n",
       "// Listen for the clearing of the current output cell\n",
       "var outputEl = gd.closest('.output');\n",
       "if (outputEl) {{\n",
       "    x.observe(outputEl, {childList: true});\n",
       "}}\n",
       "\n",
       "                        })                };                });            </script>        </div>"
      ]
     },
     "metadata": {},
     "output_type": "display_data"
    }
   ],
   "source": [
    "# Create a 3D-Scatter with the PCA data and the clusters\n",
    "3D_fig = px.scatter_3d(\n",
    "    clustered_df,\n",
    "    x=\"PC 1\",\n",
    "    y=\"PC 2\",\n",
    "    z=\"PC 3\",\n",
    "    color=\"class\",\n",
    "    symbol=\"class\",\n",
    "    opacity=0.7,\n",
    "    height=800,\n",
    "    width=800,\n",
    "    hover_name=\"CoinName\",\n",
    "    hover_data=[\"Algorithm\"]\n",
    ")\n",
    "3D_fig.update_layout(legend=dict(x=0, y=1))\n",
    "3D_fig.show()"
   ]
  },
  {
   "cell_type": "markdown",
   "metadata": {},
   "source": [
    "#### Table of Tradable Cryptocurrencies"
   ]
  },
  {
   "cell_type": "code",
   "execution_count": 42,
   "metadata": {},
   "outputs": [
    {
     "ename": "AttributeError",
     "evalue": "'DataFrame' object has no attribute 'hvplot'",
     "output_type": "error",
     "traceback": [
      "\u001b[1;31m---------------------------------------------------------------------------\u001b[0m",
      "\u001b[1;31mAttributeError\u001b[0m                            Traceback (most recent call last)",
      "\u001b[1;32m~\\AppData\\Local\\Temp/ipykernel_1968/1143964385.py\u001b[0m in \u001b[0;36m<module>\u001b[1;34m\u001b[0m\n\u001b[0;32m      1\u001b[0m \u001b[1;31m# Table with tradable cryptos\u001b[0m\u001b[1;33m\u001b[0m\u001b[1;33m\u001b[0m\u001b[1;33m\u001b[0m\u001b[0m\n\u001b[1;32m----> 2\u001b[1;33m \u001b[0mclustered_df\u001b[0m\u001b[1;33m.\u001b[0m\u001b[0mhvplot\u001b[0m\u001b[1;33m.\u001b[0m\u001b[0mtable\u001b[0m\u001b[1;33m(\u001b[0m\u001b[0mcolumns\u001b[0m\u001b[1;33m=\u001b[0m\u001b[1;33m[\u001b[0m\u001b[1;34m\"CoinName\"\u001b[0m\u001b[1;33m,\u001b[0m \u001b[1;34m\"Algorithm\"\u001b[0m\u001b[1;33m,\u001b[0m \u001b[1;34m\"ProofType\"\u001b[0m\u001b[1;33m,\u001b[0m \u001b[1;34m\"TotalCoinSupply\"\u001b[0m\u001b[1;33m,\u001b[0m \u001b[1;34m\"TotalCoinsMined\"\u001b[0m\u001b[1;33m,\u001b[0m \u001b[1;34m\"Class\"\u001b[0m\u001b[1;33m]\u001b[0m\u001b[1;33m,\u001b[0m \u001b[0msortable\u001b[0m\u001b[1;33m=\u001b[0m\u001b[1;32mTrue\u001b[0m\u001b[1;33m,\u001b[0m \u001b[0mselectable\u001b[0m\u001b[1;33m=\u001b[0m\u001b[1;32mTrue\u001b[0m\u001b[1;33m)\u001b[0m\u001b[1;33m\u001b[0m\u001b[1;33m\u001b[0m\u001b[0m\n\u001b[0m",
      "\u001b[1;32m~\\anaconda3\\lib\\site-packages\\pandas\\core\\generic.py\u001b[0m in \u001b[0;36m__getattr__\u001b[1;34m(self, name)\u001b[0m\n\u001b[0;32m   5485\u001b[0m         ):\n\u001b[0;32m   5486\u001b[0m             \u001b[1;32mreturn\u001b[0m \u001b[0mself\u001b[0m\u001b[1;33m[\u001b[0m\u001b[0mname\u001b[0m\u001b[1;33m]\u001b[0m\u001b[1;33m\u001b[0m\u001b[1;33m\u001b[0m\u001b[0m\n\u001b[1;32m-> 5487\u001b[1;33m         \u001b[1;32mreturn\u001b[0m \u001b[0mobject\u001b[0m\u001b[1;33m.\u001b[0m\u001b[0m__getattribute__\u001b[0m\u001b[1;33m(\u001b[0m\u001b[0mself\u001b[0m\u001b[1;33m,\u001b[0m \u001b[0mname\u001b[0m\u001b[1;33m)\u001b[0m\u001b[1;33m\u001b[0m\u001b[1;33m\u001b[0m\u001b[0m\n\u001b[0m\u001b[0;32m   5488\u001b[0m \u001b[1;33m\u001b[0m\u001b[0m\n\u001b[0;32m   5489\u001b[0m     \u001b[1;32mdef\u001b[0m \u001b[0m__setattr__\u001b[0m\u001b[1;33m(\u001b[0m\u001b[0mself\u001b[0m\u001b[1;33m,\u001b[0m \u001b[0mname\u001b[0m\u001b[1;33m:\u001b[0m \u001b[0mstr\u001b[0m\u001b[1;33m,\u001b[0m \u001b[0mvalue\u001b[0m\u001b[1;33m)\u001b[0m \u001b[1;33m->\u001b[0m \u001b[1;32mNone\u001b[0m\u001b[1;33m:\u001b[0m\u001b[1;33m\u001b[0m\u001b[1;33m\u001b[0m\u001b[0m\n",
      "\u001b[1;31mAttributeError\u001b[0m: 'DataFrame' object has no attribute 'hvplot'"
     ]
    }
   ],
   "source": [
    "# Table with tradable cryptos\n",
    "clustered_df.hvplot.table(columns=[\"CoinName\", \"Algorithm\", \"ProofType\", \"TotalCoinSupply\", \"TotalCoinsMined\", \"Class\"], sortable=True, selectable=True)"
   ]
  },
  {
   "cell_type": "code",
   "execution_count": 46,
   "metadata": {},
   "outputs": [
    {
     "name": "stdout",
     "output_type": "stream",
     "text": [
      "The number of tradable cryptocurrencies is 423.\n"
     ]
    }
   ],
   "source": [
    "# Print the total number of tradable cryptocurrencies\n",
    "num_rows = len(clustered_df.index)\n",
    "print(f\"The number of tradable cryptocurrencies is {num_rows}.\")"
   ]
  },
  {
   "cell_type": "markdown",
   "metadata": {},
   "source": [
    "#### Scatter Plot with Tradable Cryptocurrencies"
   ]
  },
  {
   "cell_type": "code",
   "execution_count": 48,
   "metadata": {},
   "outputs": [
    {
     "ename": "AttributeError",
     "evalue": "'DataFrame' object has no attribute 'hvplot'",
     "output_type": "error",
     "traceback": [
      "\u001b[1;31m---------------------------------------------------------------------------\u001b[0m",
      "\u001b[1;31mAttributeError\u001b[0m                            Traceback (most recent call last)",
      "\u001b[1;32m~\\AppData\\Local\\Temp/ipykernel_1968/3832856072.py\u001b[0m in \u001b[0;36m<module>\u001b[1;34m\u001b[0m\n\u001b[0;32m      1\u001b[0m \u001b[1;31m# Scale data to create the scatter plot\u001b[0m\u001b[1;33m\u001b[0m\u001b[1;33m\u001b[0m\u001b[1;33m\u001b[0m\u001b[0m\n\u001b[1;32m----> 2\u001b[1;33m clustered_df.hvplot.scatter(\n\u001b[0m\u001b[0;32m      3\u001b[0m     \u001b[0mx\u001b[0m\u001b[1;33m=\u001b[0m\u001b[1;34m\"TotalCoinsMined\"\u001b[0m\u001b[1;33m,\u001b[0m\u001b[1;33m\u001b[0m\u001b[1;33m\u001b[0m\u001b[0m\n\u001b[0;32m      4\u001b[0m     \u001b[0my\u001b[0m\u001b[1;33m=\u001b[0m\u001b[1;34m\"TotalCoinSupply\"\u001b[0m\u001b[1;33m,\u001b[0m\u001b[1;33m\u001b[0m\u001b[1;33m\u001b[0m\u001b[0m\n\u001b[0;32m      5\u001b[0m     \u001b[0mhover_cols\u001b[0m\u001b[1;33m=\u001b[0m\u001b[1;34m\"CoinName\"\u001b[0m\u001b[1;33m,\u001b[0m\u001b[1;33m\u001b[0m\u001b[1;33m\u001b[0m\u001b[0m\n",
      "\u001b[1;32m~\\anaconda3\\lib\\site-packages\\pandas\\core\\generic.py\u001b[0m in \u001b[0;36m__getattr__\u001b[1;34m(self, name)\u001b[0m\n\u001b[0;32m   5485\u001b[0m         ):\n\u001b[0;32m   5486\u001b[0m             \u001b[1;32mreturn\u001b[0m \u001b[0mself\u001b[0m\u001b[1;33m[\u001b[0m\u001b[0mname\u001b[0m\u001b[1;33m]\u001b[0m\u001b[1;33m\u001b[0m\u001b[1;33m\u001b[0m\u001b[0m\n\u001b[1;32m-> 5487\u001b[1;33m         \u001b[1;32mreturn\u001b[0m \u001b[0mobject\u001b[0m\u001b[1;33m.\u001b[0m\u001b[0m__getattribute__\u001b[0m\u001b[1;33m(\u001b[0m\u001b[0mself\u001b[0m\u001b[1;33m,\u001b[0m \u001b[0mname\u001b[0m\u001b[1;33m)\u001b[0m\u001b[1;33m\u001b[0m\u001b[1;33m\u001b[0m\u001b[0m\n\u001b[0m\u001b[0;32m   5488\u001b[0m \u001b[1;33m\u001b[0m\u001b[0m\n\u001b[0;32m   5489\u001b[0m     \u001b[1;32mdef\u001b[0m \u001b[0m__setattr__\u001b[0m\u001b[1;33m(\u001b[0m\u001b[0mself\u001b[0m\u001b[1;33m,\u001b[0m \u001b[0mname\u001b[0m\u001b[1;33m:\u001b[0m \u001b[0mstr\u001b[0m\u001b[1;33m,\u001b[0m \u001b[0mvalue\u001b[0m\u001b[1;33m)\u001b[0m \u001b[1;33m->\u001b[0m \u001b[1;32mNone\u001b[0m\u001b[1;33m:\u001b[0m\u001b[1;33m\u001b[0m\u001b[1;33m\u001b[0m\u001b[0m\n",
      "\u001b[1;31mAttributeError\u001b[0m: 'DataFrame' object has no attribute 'hvplot'"
     ]
    }
   ],
   "source": [
    "# Scale data to create the scatter plot\n"
   ]
  },
  {
   "cell_type": "code",
   "execution_count": null,
   "metadata": {},
   "outputs": [],
   "source": [
    "# Plot the scatter with x=\"TotalCoinsMined\" and y=\"TotalCoinSupply\"\n",
    "clustered_df.hvplot.scatter(\n",
    "    x=\"TotalCoinsMined\", \n",
    "    y=\"TotalCoinSupply\",\n",
    "    hover_cols=\"CoinName\",\n",
    "    by=\"CoinName\", \n",
    "    legend=\"right\",\n",
    "    height=500,\n",
    "    width=500)"
   ]
  }
 ],
 "metadata": {
  "file_extension": ".py",
  "kernelspec": {
   "display_name": "Python 3 (ipykernel)",
   "language": "python",
   "name": "python3"
  },
  "language_info": {
   "codemirror_mode": {
    "name": "ipython",
    "version": 3
   },
   "file_extension": ".py",
   "mimetype": "text/x-python",
   "name": "python",
   "nbconvert_exporter": "python",
   "pygments_lexer": "ipython3",
   "version": "3.8.8"
  },
  "mimetype": "text/x-python",
  "name": "python",
  "npconvert_exporter": "python",
  "pygments_lexer": "ipython3",
  "version": 3
 },
 "nbformat": 4,
 "nbformat_minor": 4
}
